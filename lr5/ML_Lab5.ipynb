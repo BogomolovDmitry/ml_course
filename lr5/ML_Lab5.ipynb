{
  "nbformat": 4,
  "nbformat_minor": 0,
  "metadata": {
    "colab": {
      "name": "ML_Lab5.ipynb",
      "provenance": [],
      "collapsed_sections": [],
      "toc_visible": true
    },
    "kernelspec": {
      "name": "python3",
      "display_name": "Python 3"
    }
  },
  "cells": [
    {
      "cell_type": "markdown",
      "metadata": {
        "id": "S7tT4YCoRu2Q",
        "colab_type": "text"
      },
      "source": [
        "**Лабораторная работа №5**\n",
        "\n",
        "\n",
        "> Линейные модели, SVM и деревья решений.\n",
        "\n",
        "\n",
        "Цель лабораторной работы: изучение линейных моделей, SVM и деревьев решений."
      ]
    },
    {
      "cell_type": "markdown",
      "metadata": {
        "id": "XCRCD4nvSEix",
        "colab_type": "text"
      },
      "source": [
        "#Подключение библиотек и первичная настройка"
      ]
    },
    {
      "cell_type": "code",
      "metadata": {
        "id": "DG8ncoe60FK3",
        "colab_type": "code",
        "colab": {
          "base_uri": "https://localhost:8080/",
          "height": 71
        },
        "outputId": "58312a87-221b-4e23-c313-9ceb5ffbc545"
      },
      "source": [
        "import numpy as np\n",
        "import pandas as pd\n",
        "import seaborn as sns\n",
        "import matplotlib.pyplot as plt\n",
        "import plotly.express as px\n",
        "from graphviz import Digraph"
      ],
      "execution_count": 1,
      "outputs": [
        {
          "output_type": "stream",
          "text": [
            "/usr/local/lib/python3.6/dist-packages/statsmodels/tools/_testing.py:19: FutureWarning: pandas.util.testing is deprecated. Use the functions in the public API at pandas.testing instead.\n",
            "  import pandas.util.testing as tm\n"
          ],
          "name": "stderr"
        }
      ]
    },
    {
      "cell_type": "code",
      "metadata": {
        "id": "Zbi9S9_ZJ9EB",
        "colab_type": "code",
        "colab": {
          "base_uri": "https://localhost:8080/",
          "height": 88
        },
        "outputId": "7defbfc0-e419-4198-d31a-db78ca770ce5"
      },
      "source": [
        "!pip install graphviz   #впоследствии не получилось воспользоваться из-за возникнувшей ошибки\n",
        "!pip install pydotplus"
      ],
      "execution_count": 2,
      "outputs": [
        {
          "output_type": "stream",
          "text": [
            "Requirement already satisfied: graphviz in /usr/local/lib/python3.6/dist-packages (0.10.1)\n",
            "Requirement already satisfied: pydotplus in /usr/local/lib/python3.6/dist-packages (2.0.2)\n",
            "Requirement already satisfied: pyparsing>=2.0.1 in /usr/local/lib/python3.6/dist-packages (from pydotplus) (2.4.7)\n"
          ],
          "name": "stdout"
        }
      ]
    },
    {
      "cell_type": "code",
      "metadata": {
        "id": "xTBIGqWNEUK8",
        "colab_type": "code",
        "colab": {
          "base_uri": "https://localhost:8080/",
          "height": 54
        },
        "outputId": "41fbcc68-12ae-4a42-98a6-3c8bfad7f38d"
      },
      "source": [
        "from google.colab import drive\n",
        "drive.mount('/content/drive')"
      ],
      "execution_count": 3,
      "outputs": [
        {
          "output_type": "stream",
          "text": [
            "Drive already mounted at /content/drive; to attempt to forcibly remount, call drive.mount(\"/content/drive\", force_remount=True).\n"
          ],
          "name": "stdout"
        }
      ]
    },
    {
      "cell_type": "markdown",
      "metadata": {
        "id": "TSbC46jH2X1q",
        "colab_type": "text"
      },
      "source": [
        "# Задание 1. Выберите набор данных (датасет) для решения задачи классификации или регрессии.\n",
        "Контекст\n",
        "Этот набор данных создан для прогнозирования поступления выпускников с индийской точки зрения.\n",
        "\n",
        "Содержание\n",
        "Набор данных содержит несколько параметров, которые считаются важными при подаче заявки на магистерские программы.\n",
        "Параметры являются следующими :\n",
        "\n",
        "* GRE Scores ( out of 340 )\n",
        "* TOEFL Scores ( out of 120 )\n",
        "* University Rating ( out of 5 )\n",
        "* Statement of Purpose and Letter of Recommendation\n",
        "* Strength ( out of 5 )\n",
        "* Undergraduate GPA ( out of 10 )\n",
        "* Research Experience ( either 0 or 1 )\n",
        "* Chance of Admit ( ranging from 0 to 1 )\n",
        "\n",
        "* В датасете отсутствуют пробелы;\n",
        "* В названиях двух колонок присутствуют пробелы, которые  необходимо будет убрать;"
      ]
    },
    {
      "cell_type": "code",
      "metadata": {
        "id": "pYhewhaD14sv",
        "colab_type": "code",
        "colab": {}
      },
      "source": [
        "data1 = pd.read_csv('/content/drive/My Drive/MMO_Datasets/Admission.csv', sep=',')"
      ],
      "execution_count": 0,
      "outputs": []
    },
    {
      "cell_type": "code",
      "metadata": {
        "id": "MdjAS_ou4iSx",
        "colab_type": "code",
        "outputId": "c1cb4cb6-f336-433e-df77-92124f5f6051",
        "colab": {
          "base_uri": "https://localhost:8080/",
          "height": 334
        }
      },
      "source": [
        "strippedCols = dict()\n",
        "for name in data1.columns:\n",
        "  strippedCols[name] = name.strip() \n",
        "data1 = data1.rename(strippedCols, axis='columns', errors='raise')\n",
        "data1.describe()"
      ],
      "execution_count": 5,
      "outputs": [
        {
          "output_type": "execute_result",
          "data": {
            "text/html": [
              "<div>\n",
              "<style scoped>\n",
              "    .dataframe tbody tr th:only-of-type {\n",
              "        vertical-align: middle;\n",
              "    }\n",
              "\n",
              "    .dataframe tbody tr th {\n",
              "        vertical-align: top;\n",
              "    }\n",
              "\n",
              "    .dataframe thead th {\n",
              "        text-align: right;\n",
              "    }\n",
              "</style>\n",
              "<table border=\"1\" class=\"dataframe\">\n",
              "  <thead>\n",
              "    <tr style=\"text-align: right;\">\n",
              "      <th></th>\n",
              "      <th>Serial No.</th>\n",
              "      <th>GRE Score</th>\n",
              "      <th>TOEFL Score</th>\n",
              "      <th>University Rating</th>\n",
              "      <th>SOP</th>\n",
              "      <th>LOR</th>\n",
              "      <th>CGPA</th>\n",
              "      <th>Research</th>\n",
              "      <th>Chance of Admit</th>\n",
              "    </tr>\n",
              "  </thead>\n",
              "  <tbody>\n",
              "    <tr>\n",
              "      <th>count</th>\n",
              "      <td>500.000000</td>\n",
              "      <td>500.000000</td>\n",
              "      <td>500.000000</td>\n",
              "      <td>500.000000</td>\n",
              "      <td>500.000000</td>\n",
              "      <td>500.00000</td>\n",
              "      <td>500.000000</td>\n",
              "      <td>500.000000</td>\n",
              "      <td>500.00000</td>\n",
              "    </tr>\n",
              "    <tr>\n",
              "      <th>mean</th>\n",
              "      <td>250.500000</td>\n",
              "      <td>316.472000</td>\n",
              "      <td>107.192000</td>\n",
              "      <td>3.114000</td>\n",
              "      <td>3.374000</td>\n",
              "      <td>3.48400</td>\n",
              "      <td>8.576440</td>\n",
              "      <td>0.560000</td>\n",
              "      <td>0.72174</td>\n",
              "    </tr>\n",
              "    <tr>\n",
              "      <th>std</th>\n",
              "      <td>144.481833</td>\n",
              "      <td>11.295148</td>\n",
              "      <td>6.081868</td>\n",
              "      <td>1.143512</td>\n",
              "      <td>0.991004</td>\n",
              "      <td>0.92545</td>\n",
              "      <td>0.604813</td>\n",
              "      <td>0.496884</td>\n",
              "      <td>0.14114</td>\n",
              "    </tr>\n",
              "    <tr>\n",
              "      <th>min</th>\n",
              "      <td>1.000000</td>\n",
              "      <td>290.000000</td>\n",
              "      <td>92.000000</td>\n",
              "      <td>1.000000</td>\n",
              "      <td>1.000000</td>\n",
              "      <td>1.00000</td>\n",
              "      <td>6.800000</td>\n",
              "      <td>0.000000</td>\n",
              "      <td>0.34000</td>\n",
              "    </tr>\n",
              "    <tr>\n",
              "      <th>25%</th>\n",
              "      <td>125.750000</td>\n",
              "      <td>308.000000</td>\n",
              "      <td>103.000000</td>\n",
              "      <td>2.000000</td>\n",
              "      <td>2.500000</td>\n",
              "      <td>3.00000</td>\n",
              "      <td>8.127500</td>\n",
              "      <td>0.000000</td>\n",
              "      <td>0.63000</td>\n",
              "    </tr>\n",
              "    <tr>\n",
              "      <th>50%</th>\n",
              "      <td>250.500000</td>\n",
              "      <td>317.000000</td>\n",
              "      <td>107.000000</td>\n",
              "      <td>3.000000</td>\n",
              "      <td>3.500000</td>\n",
              "      <td>3.50000</td>\n",
              "      <td>8.560000</td>\n",
              "      <td>1.000000</td>\n",
              "      <td>0.72000</td>\n",
              "    </tr>\n",
              "    <tr>\n",
              "      <th>75%</th>\n",
              "      <td>375.250000</td>\n",
              "      <td>325.000000</td>\n",
              "      <td>112.000000</td>\n",
              "      <td>4.000000</td>\n",
              "      <td>4.000000</td>\n",
              "      <td>4.00000</td>\n",
              "      <td>9.040000</td>\n",
              "      <td>1.000000</td>\n",
              "      <td>0.82000</td>\n",
              "    </tr>\n",
              "    <tr>\n",
              "      <th>max</th>\n",
              "      <td>500.000000</td>\n",
              "      <td>340.000000</td>\n",
              "      <td>120.000000</td>\n",
              "      <td>5.000000</td>\n",
              "      <td>5.000000</td>\n",
              "      <td>5.00000</td>\n",
              "      <td>9.920000</td>\n",
              "      <td>1.000000</td>\n",
              "      <td>0.97000</td>\n",
              "    </tr>\n",
              "  </tbody>\n",
              "</table>\n",
              "</div>"
            ],
            "text/plain": [
              "       Serial No.   GRE Score  ...    Research  Chance of Admit\n",
              "count  500.000000  500.000000  ...  500.000000        500.00000\n",
              "mean   250.500000  316.472000  ...    0.560000          0.72174\n",
              "std    144.481833   11.295148  ...    0.496884          0.14114\n",
              "min      1.000000  290.000000  ...    0.000000          0.34000\n",
              "25%    125.750000  308.000000  ...    0.000000          0.63000\n",
              "50%    250.500000  317.000000  ...    1.000000          0.72000\n",
              "75%    375.250000  325.000000  ...    1.000000          0.82000\n",
              "max    500.000000  340.000000  ...    1.000000          0.97000\n",
              "\n",
              "[8 rows x 9 columns]"
            ]
          },
          "metadata": {
            "tags": []
          },
          "execution_count": 5
        }
      ]
    },
    {
      "cell_type": "markdown",
      "metadata": {
        "id": "4SJEvQUSQI5m",
        "colab_type": "text"
      },
      "source": [
        "**Задание 2. В случае необходимости проведите удаление или заполнение пропусков и кодирование категориальных признаков.**"
      ]
    },
    {
      "cell_type": "code",
      "metadata": {
        "id": "_4SgYodrIJ3t",
        "colab_type": "code",
        "colab": {
          "base_uri": "https://localhost:8080/",
          "height": 187
        },
        "outputId": "b9f40730-7cc7-4d98-9be4-e7bda58f72c9"
      },
      "source": [
        "data1.isnull().sum()"
      ],
      "execution_count": 6,
      "outputs": [
        {
          "output_type": "execute_result",
          "data": {
            "text/plain": [
              "Serial No.           0\n",
              "GRE Score            0\n",
              "TOEFL Score          0\n",
              "University Rating    0\n",
              "SOP                  0\n",
              "LOR                  0\n",
              "CGPA                 0\n",
              "Research             0\n",
              "Chance of Admit      0\n",
              "dtype: int64"
            ]
          },
          "metadata": {
            "tags": []
          },
          "execution_count": 6
        }
      ]
    },
    {
      "cell_type": "code",
      "metadata": {
        "id": "GYKpO6nB_udh",
        "colab_type": "code",
        "outputId": "73cfd53d-8c1e-4285-d61e-6063fb8c963c",
        "colab": {
          "base_uri": "https://localhost:8080/",
          "height": 362
        }
      },
      "source": [
        "import seaborn as sbrn\n",
        "sbrn.heatmap(data1[data1.columns[1:]].corr(), annot=True, fmt='.2f')"
      ],
      "execution_count": 7,
      "outputs": [
        {
          "output_type": "execute_result",
          "data": {
            "text/plain": [
              "<matplotlib.axes._subplots.AxesSubplot at 0x7f709b7997b8>"
            ]
          },
          "metadata": {
            "tags": []
          },
          "execution_count": 7
        },
        {
          "output_type": "display_data",
          "data": {
            "image/png": "[encoded data removed]",
            "text/plain": [
              "<Figure size 432x288 with 2 Axes>"
            ]
          },
          "metadata": {
            "tags": [],
            "needs_background": "light"
          }
        }
      ]
    },
    {
      "cell_type": "markdown",
      "metadata": {
        "id": "7X7ZwN_eAUQZ",
        "colab_type": "text"
      },
      "source": [
        "В качестве целевого параметра будем использовать шансы кандидата на поступление - `Chance of Admit`. Самый наибольший коффициент корреляции с переменной `CGPA`"
      ]
    },
    {
      "cell_type": "markdown",
      "metadata": {
        "id": "CiQG2RN3QZyS",
        "colab_type": "text"
      },
      "source": [
        "# Задание 4. Обучите следующие модели:\n",
        "* одну из линейных моделей;\n",
        "* SVM;\n",
        "* дерево решений."
      ]
    },
    {
      "cell_type": "markdown",
      "metadata": {
        "id": "rPeEo857bhEC",
        "colab_type": "text"
      },
      "source": [
        "##Линейная модель\n",
        "\n",
        "**Цель построения модели**: Определение значения целевой переменной (`Chance of Admit` - шанс на поступление кандидата) от значения переменной `CGPA` (оценка за бакалавриат GPA)."
      ]
    },
    {
      "cell_type": "markdown",
      "metadata": {
        "id": "qkdTzzux99UB",
        "colab_type": "text"
      },
      "source": [
        "**Разделение выборки и построение линейной модели**"
      ]
    },
    {
      "cell_type": "code",
      "metadata": {
        "id": "Og3DMF3w7OKR",
        "colab_type": "code",
        "colab": {}
      },
      "source": [
        "from sklearn.model_selection import train_test_split\n",
        "X_train, X_test, y_train, y_test = train_test_split(data1['CGPA'], \\\n",
        "                                                   data1['Chance of Admit'], \\\n",
        "                                                   test_size=0.3, \\\n",
        "                                                   random_state=42)"
      ],
      "execution_count": 0,
      "outputs": []
    },
    {
      "cell_type": "code",
      "metadata": {
        "id": "p8vK4jZEbvHN",
        "colab_type": "code",
        "outputId": "368af0ee-7b0b-454b-8643-ab276e15e5da",
        "colab": {
          "base_uri": "https://localhost:8080/",
          "height": 300
        }
      },
      "source": [
        "sbrn.scatterplot(x=X_train, y=y_train)"
      ],
      "execution_count": 9,
      "outputs": [
        {
          "output_type": "execute_result",
          "data": {
            "text/plain": [
              "<matplotlib.axes._subplots.AxesSubplot at 0x7f70964eacf8>"
            ]
          },
          "metadata": {
            "tags": []
          },
          "execution_count": 9
        },
        {
          "output_type": "display_data",
          "data": {
            "image/png": "[encoded data removed]",
            "text/plain": [
              "<Figure size 432x288 with 1 Axes>"
            ]
          },
          "metadata": {
            "tags": [],
            "needs_background": "light"
          }
        }
      ]
    },
    {
      "cell_type": "code",
      "metadata": {
        "id": "lfX8n05ijDv_",
        "colab_type": "code",
        "colab": {}
      },
      "source": [
        "x_array = X_train\n",
        "y_array = y_train"
      ],
      "execution_count": 0,
      "outputs": []
    },
    {
      "cell_type": "markdown",
      "metadata": {
        "id": "T6M9CgnG6zQk",
        "colab_type": "text"
      },
      "source": [
        "Аналитически восстановим зависимость"
      ]
    },
    {
      "cell_type": "code",
      "metadata": {
        "id": "gktKEHcWA5j4",
        "colab_type": "code",
        "colab": {}
      },
      "source": [
        "# Аналитическое вычисление коэффициентов регрессии\n",
        "def analytic_regr_coef(x_array : np.ndarray, \n",
        "                       y_array : np.ndarray):\n",
        "    x_mean = np.mean(x_array)\n",
        "    y_mean = np.mean(y_array)\n",
        "    var1 = np.sum([(x-x_mean)**2 for x in x_array])\n",
        "    cov1 = np.sum([(x-x_mean)*(y-x_mean) for x, y in zip(x_array, y_array)])\n",
        "    b1 = cov1 / var1\n",
        "    b0 = y_mean - b1*x_mean\n",
        "    return b0, b1\n",
        "\n",
        "# Вычисление значений y на основе x для регрессии\n",
        "def y_regr(x_array : np.ndarray, b0: float, b1: float) -> np.ndarray:\n",
        "    res = [b1*x+b0 for x in x_array]\n",
        "    return res"
      ],
      "execution_count": 0,
      "outputs": []
    },
    {
      "cell_type": "code",
      "metadata": {
        "id": "GYBCQ1PXBBlP",
        "colab_type": "code",
        "outputId": "02c0e01a-139f-4be4-ad7b-16502661fec3",
        "colab": {
          "base_uri": "https://localhost:8080/",
          "height": 68
        }
      },
      "source": [
        "b0, b1 = analytic_regr_coef(x_array= x_array, y_array= y_array )\n",
        "print ('Коэффициенты, полученные аналитически:\\nb0 = ', b0, '\\nb1 = ', b1)"
      ],
      "execution_count": 12,
      "outputs": [
        {
          "output_type": "stream",
          "text": [
            "Коэффициенты, полученные аналитически:\n",
            "b0 =  -1.0441352652694436 \n",
            "b1 =  0.20617424104989948\n"
          ],
          "name": "stdout"
        }
      ]
    },
    {
      "cell_type": "code",
      "metadata": {
        "id": "miSoC_v4Dcrf",
        "colab_type": "code",
        "outputId": "03b2f7d8-b35a-424c-b52a-00ff9fcd5d05",
        "colab": {
          "base_uri": "https://localhost:8080/",
          "height": 265
        }
      },
      "source": [
        "y_array_regr = y_regr( x_array, b0, b1)\n",
        "plt.plot( x_array, y_array, 'g.')\n",
        "plt.plot( x_array, y_array_regr, 'b', linewidth=1.2)\n",
        "plt.show()"
      ],
      "execution_count": 13,
      "outputs": [
        {
          "output_type": "display_data",
          "data": {
            "image/png": "[encoded data removed]",
            "text/plain": [
              "<Figure size 432x288 with 1 Axes>"
            ]
          },
          "metadata": {
            "tags": [],
            "needs_background": "light"
          }
        }
      ]
    },
    {
      "cell_type": "markdown",
      "metadata": {
        "id": "4Pjuv5L7VwRB",
        "colab_type": "text"
      },
      "source": [
        "В качестве метода регуляризации линейной регрессии будем использовать L2 регуляризацию:\n",
        "\n",
        "![alt text](https://sun9-6.userapi.com/A-CS6mtZC6D30UGgTVHmLvk__KnJH-MwgtBtUg/rDLQfJdF0G8.jpg)\n",
        "\n",
        "В качестве гиперпараметра модели будем использовать коэффициент регуляризации.\n"
      ]
    },
    {
      "cell_type": "code",
      "metadata": {
        "id": "qKNgikzlFk1B",
        "colab_type": "code",
        "colab": {}
      },
      "source": [
        "from sklearn.linear_model import Ridge\n",
        "from sklearn.metrics import mean_squared_error, mean_absolute_error, r2_score\n",
        "# Метод создания модели линейной регрессии с применением \n",
        "# гребневой регуляризации на обучающей выборке.\n",
        "# Проверка качества модели на тестовой выборке.\n",
        "def RidgeLinearRegression( alpha,\\\n",
        "                           X_train,\\\n",
        "                           X_test, \\\n",
        "                           y_train, \\\n",
        "                           y_test):\n",
        "  print('Linear Regression. Ridge regulariztaion')\n",
        "  print('Alpha=', alpha)\n",
        "  print ('Theoretical\\tb0=', b0, '\\tb1=', b1)\n",
        "  reg4 = Ridge( alpha=alpha ).fit(  np.array(X_train).reshape(-1, 1), np.array(y_train) )\n",
        "  print('Results   \\tb0=', reg4.intercept_, ' \\tb1=', reg4.coef_)\n",
        "  predictResults=reg4.predict(X=np.array(X_test).reshape(-1,1) )\n",
        "  print('MSE: \\t', mean_squared_error(y_test, predictResults))\n",
        "  print('MAE: \\t', mean_absolute_error(y_test, predictResults))\n",
        "  print('R2: \\t', r2_score(y_true=np.array(y_test), y_pred=predictResults ))\n",
        "  return reg4"
      ],
      "execution_count": 0,
      "outputs": []
    },
    {
      "cell_type": "markdown",
      "metadata": {
        "id": "PBHMPKD6YYZc",
        "colab_type": "text"
      },
      "source": [
        "Обучение модели с коэффициентом регуляризации равным 10."
      ]
    },
    {
      "cell_type": "code",
      "metadata": {
        "id": "F3Q7qdBGxPhb",
        "colab_type": "code",
        "outputId": "9c402945-b38c-401c-d8ff-b4980439f8b3",
        "colab": {
          "base_uri": "https://localhost:8080/",
          "height": 136
        }
      },
      "source": [
        "testLR = RidgeLinearRegression(10, X_train, X_test, y_train, y_test)"
      ],
      "execution_count": 15,
      "outputs": [
        {
          "output_type": "stream",
          "text": [
            "Linear Regression. Ridge regulariztaion\n",
            "Alpha= 10\n",
            "Theoretical\tb0= -1.0441352652694436 \tb1= 0.20617424104989948\n",
            "Results   \tb0= -0.911698261998257  \tb1= [0.19073211]\n",
            "MSE: \t 0.004389331192428343\n",
            "MAE: \t 0.0465762650745534\n",
            "R2: \t 0.789400341212476\n"
          ],
          "name": "stdout"
        }
      ]
    },
    {
      "cell_type": "markdown",
      "metadata": {
        "id": "5HCra1tFZBer",
        "colab_type": "text"
      },
      "source": [
        "**Поиск наилучшего гиперпараметра. Применение кросс-валидации и решетчатого поиска**\n"
      ]
    },
    {
      "cell_type": "code",
      "metadata": {
        "id": "ILdVPwcMZAM8",
        "colab_type": "code",
        "colab": {}
      },
      "source": [
        "from sklearn.model_selection import ShuffleSplit\n",
        "from sklearn.model_selection import GridSearchCV"
      ],
      "execution_count": 0,
      "outputs": []
    },
    {
      "cell_type": "markdown",
      "metadata": {
        "id": "GBQQw4HUgptU",
        "colab_type": "text"
      },
      "source": [
        "В качестве метода кросс-валидации будем использовать Shuffle Split - случайное \"перемешивание\" выборки."
      ]
    },
    {
      "cell_type": "code",
      "metadata": {
        "id": "jc3zMAw2ZnA6",
        "colab_type": "code",
        "colab": {}
      },
      "source": [
        "kf = ShuffleSplit(n_splits=5, test_size=0.3).split(data1['CGPA'], data1['Chance of Admit'])"
      ],
      "execution_count": 0,
      "outputs": []
    },
    {
      "cell_type": "markdown",
      "metadata": {
        "id": "IQCEzrwahBJh",
        "colab_type": "text"
      },
      "source": [
        "Гиперпараметр будет изменяться от 0.1 до 11 с шагом 0.1 "
      ]
    },
    {
      "cell_type": "code",
      "metadata": {
        "id": "QQNm0QeNduXN",
        "colab_type": "code",
        "outputId": "0fd8973f-cefa-4fbc-bfec-e2be8de8e42e",
        "colab": {
          "base_uri": "https://localhost:8080/",
          "height": 187
        }
      },
      "source": [
        "n_range = np.array(np.arange(0.1 ,11. ,0.1 ))\n",
        "tuned_parameters = [{'alpha': n_range}]\n",
        "tuned_parameters"
      ],
      "execution_count": 18,
      "outputs": [
        {
          "output_type": "execute_result",
          "data": {
            "text/plain": [
              "[{'alpha': array([ 0.1,  0.2,  0.3,  0.4,  0.5,  0.6,  0.7,  0.8,  0.9,  1. ,  1.1,\n",
              "          1.2,  1.3,  1.4,  1.5,  1.6,  1.7,  1.8,  1.9,  2. ,  2.1,  2.2,\n",
              "          2.3,  2.4,  2.5,  2.6,  2.7,  2.8,  2.9,  3. ,  3.1,  3.2,  3.3,\n",
              "          3.4,  3.5,  3.6,  3.7,  3.8,  3.9,  4. ,  4.1,  4.2,  4.3,  4.4,\n",
              "          4.5,  4.6,  4.7,  4.8,  4.9,  5. ,  5.1,  5.2,  5.3,  5.4,  5.5,\n",
              "          5.6,  5.7,  5.8,  5.9,  6. ,  6.1,  6.2,  6.3,  6.4,  6.5,  6.6,\n",
              "          6.7,  6.8,  6.9,  7. ,  7.1,  7.2,  7.3,  7.4,  7.5,  7.6,  7.7,\n",
              "          7.8,  7.9,  8. ,  8.1,  8.2,  8.3,  8.4,  8.5,  8.6,  8.7,  8.8,\n",
              "          8.9,  9. ,  9.1,  9.2,  9.3,  9.4,  9.5,  9.6,  9.7,  9.8,  9.9,\n",
              "         10. , 10.1, 10.2, 10.3, 10.4, 10.5, 10.6, 10.7, 10.8, 10.9])}]"
            ]
          },
          "metadata": {
            "tags": []
          },
          "execution_count": 18
        }
      ]
    },
    {
      "cell_type": "markdown",
      "metadata": {
        "id": "0Dll7LuPhhHx",
        "colab_type": "text"
      },
      "source": [
        "В качестве параметра оценки качества модели будем использовать MSE"
      ]
    },
    {
      "cell_type": "code",
      "metadata": {
        "id": "13l9f1IReXOP",
        "colab_type": "code",
        "outputId": "f1d2ae36-c1dd-44cf-86bb-2f0d70ffa401",
        "colab": {
          "base_uri": "https://localhost:8080/",
          "height": 309
        }
      },
      "source": [
        "clf_gs = GridSearchCV(Ridge(), tuned_parameters, cv=kf, scoring='neg_mean_squared_error')\n",
        "clf_gs.fit(np.array(data1['CGPA']).reshape(-1,1), np.array(data1['Chance of Admit']).reshape(-1,1) )"
      ],
      "execution_count": 19,
      "outputs": [
        {
          "output_type": "execute_result",
          "data": {
            "text/plain": [
              "GridSearchCV(cv=<generator object BaseShuffleSplit.split at 0x7f7095fb2f68>,\n",
              "             error_score=nan,\n",
              "             estimator=Ridge(alpha=1.0, copy_X=True, fit_intercept=True,\n",
              "                             max_iter=None, normalize=False, random_state=None,\n",
              "                             solver='auto', tol=0.001),\n",
              "             iid='deprecated', n_jobs=None,\n",
              "             param_grid=[{'alpha': array([ 0.1,  0.2,  0.3,  0.4,  0.5,  0.6,  0.7,  0.8,  0.9,  1. ,  1.1,\n",
              "        1.2,  1.3,  1.4,  1.5,  1.6,  1.7,  1.8,  1.9,...\n",
              "        4.5,  4.6,  4.7,  4.8,  4.9,  5. ,  5.1,  5.2,  5.3,  5.4,  5.5,\n",
              "        5.6,  5.7,  5.8,  5.9,  6. ,  6.1,  6.2,  6.3,  6.4,  6.5,  6.6,\n",
              "        6.7,  6.8,  6.9,  7. ,  7.1,  7.2,  7.3,  7.4,  7.5,  7.6,  7.7,\n",
              "        7.8,  7.9,  8. ,  8.1,  8.2,  8.3,  8.4,  8.5,  8.6,  8.7,  8.8,\n",
              "        8.9,  9. ,  9.1,  9.2,  9.3,  9.4,  9.5,  9.6,  9.7,  9.8,  9.9,\n",
              "       10. , 10.1, 10.2, 10.3, 10.4, 10.5, 10.6, 10.7, 10.8, 10.9])}],\n",
              "             pre_dispatch='2*n_jobs', refit=True, return_train_score=False,\n",
              "             scoring='neg_mean_squared_error', verbose=0)"
            ]
          },
          "metadata": {
            "tags": []
          },
          "execution_count": 19
        }
      ]
    },
    {
      "cell_type": "code",
      "metadata": {
        "id": "g19nDuM4fGwr",
        "colab_type": "code",
        "outputId": "ab3817ce-b271-46d1-e26e-d5f571eac0b4",
        "colab": {
          "base_uri": "https://localhost:8080/",
          "height": 51
        }
      },
      "source": [
        "clf_gs.best_estimator_"
      ],
      "execution_count": 20,
      "outputs": [
        {
          "output_type": "execute_result",
          "data": {
            "text/plain": [
              "Ridge(alpha=0.1, copy_X=True, fit_intercept=True, max_iter=None,\n",
              "      normalize=False, random_state=None, solver='auto', tol=0.001)"
            ]
          },
          "metadata": {
            "tags": []
          },
          "execution_count": 20
        }
      ]
    },
    {
      "cell_type": "code",
      "metadata": {
        "id": "xax5PHEsf0NB",
        "colab_type": "code",
        "outputId": "78a40cae-d232-446e-aea2-fbf75217df73",
        "colab": {
          "base_uri": "https://localhost:8080/",
          "height": 34
        }
      },
      "source": [
        "clf_gs.best_score_"
      ],
      "execution_count": 21,
      "outputs": [
        {
          "output_type": "execute_result",
          "data": {
            "text/plain": [
              "-0.004559796848772596"
            ]
          },
          "metadata": {
            "tags": []
          },
          "execution_count": 21
        }
      ]
    },
    {
      "cell_type": "code",
      "metadata": {
        "id": "1MLUrW6WgGQ-",
        "colab_type": "code",
        "outputId": "8e53b3fa-5a98-46f0-9c89-7ea0241be828",
        "colab": {
          "base_uri": "https://localhost:8080/",
          "height": 282
        }
      },
      "source": [
        "import matplotlib.pyplot as pyplot\n",
        "pyplot.plot(n_range, clf_gs.cv_results_['mean_test_score'])"
      ],
      "execution_count": 22,
      "outputs": [
        {
          "output_type": "execute_result",
          "data": {
            "text/plain": [
              "[<matplotlib.lines.Line2D at 0x7f70947a9828>]"
            ]
          },
          "metadata": {
            "tags": []
          },
          "execution_count": 22
        },
        {
          "output_type": "display_data",
          "data": {
            "image/png": "[encoded data removed]",
            "text/plain": [
              "<Figure size 432x288 with 1 Axes>"
            ]
          },
          "metadata": {
            "tags": [],
            "needs_background": "light"
          }
        }
      ]
    },
    {
      "cell_type": "markdown",
      "metadata": {
        "id": "JHgvghGThfVe",
        "colab_type": "text"
      },
      "source": [
        "Таким образом, наилучшее качество модели достигается при Гиперпараметре равном 0.1. Увеличение гиперпараметра способствует увеличению MSE. \n",
        "\n",
        "**Сравнение моделей**"
      ]
    },
    {
      "cell_type": "code",
      "metadata": {
        "id": "wwoO8fUii-BE",
        "colab_type": "code",
        "outputId": "f1b9c6e2-825a-4eac-aa59-9119d262cc51",
        "colab": {
          "base_uri": "https://localhost:8080/",
          "height": 289
        }
      },
      "source": [
        "testLR = RidgeLinearRegression(10, X_train, X_test, y_train, y_test)\n",
        "print('\\n')\n",
        "optimalLR = RidgeLinearRegression(0.1, X_train, X_test, y_train, y_test)"
      ],
      "execution_count": 23,
      "outputs": [
        {
          "output_type": "stream",
          "text": [
            "Linear Regression. Ridge regulariztaion\n",
            "Alpha= 10\n",
            "Theoretical\tb0= -1.0441352652694436 \tb1= 0.20617424104989948\n",
            "Results   \tb0= -0.911698261998257  \tb1= [0.19073211]\n",
            "MSE: \t 0.004389331192428343\n",
            "MAE: \t 0.0465762650745534\n",
            "R2: \t 0.789400341212476\n",
            "\n",
            "\n",
            "Linear Regression. Ridge regulariztaion\n",
            "Alpha= 0.1\n",
            "Theoretical\tb0= -1.0441352652694436 \tb1= 0.20617424104989948\n",
            "Results   \tb0= -1.0427048291681977  \tb1= [0.20600745]\n",
            "MSE: \t 0.004304930211816103\n",
            "MAE: \t 0.04556950135904033\n",
            "R2: \t 0.7934498915742559\n"
          ],
          "name": "stdout"
        }
      ]
    },
    {
      "cell_type": "code",
      "metadata": {
        "id": "2v5nib7pjOFu",
        "colab_type": "code",
        "outputId": "d5c2a896-1918-46ef-b712-591226e9ceb4",
        "colab": {
          "base_uri": "https://localhost:8080/",
          "height": 265
        }
      },
      "source": [
        "regrOld = y_regr( x_array, testLR.intercept_, testLR.coef_)\n",
        "regrNew = y_regr( x_array, optimalLR.intercept_, optimalLR.coef_)\n",
        "plt.plot( x_array, y_array, 'g.')\n",
        "plt.plot( x_array, regrOld, 'b', linewidth=0.8)\n",
        "plt.plot( x_array, regrNew, 'r', linewidth=0.8)\n",
        "plt.show()\n"
      ],
      "execution_count": 24,
      "outputs": [
        {
          "output_type": "display_data",
          "data": {
            "image/png": "[encoded data removed]",
            "text/plain": [
              "<Figure size 432x288 with 1 Axes>"
            ]
          },
          "metadata": {
            "tags": [],
            "needs_background": "light"
          }
        }
      ]
    },
    {
      "cell_type": "markdown",
      "metadata": {
        "id": "S-Hs7Sl1kw_J",
        "colab_type": "text"
      },
      "source": [
        "**Вывод:** Таким образом, с помощью решетчатого поиска и кросс-валидации удалось подобрать наиболее оптимальный гиперпараметр для построения линейной регрессии с L2 регуляризацией. Несмотря на то, что построенная раннее модель имеет высокую точность, подобранная модель имеет точность выше (показатель среднего квадрата ошибки хоть и отличается в 6 знаке после запятой, но все равно меньше). Наиболее оптимальный гиперпараметр альфа = 0.1"
      ]
    },
    {
      "cell_type": "markdown",
      "metadata": {
        "id": "ClaayOtWmHI-",
        "colab_type": "text"
      },
      "source": [
        "## SVM\n",
        "\n",
        "**Цель построения модели**: Предсказание наличия у кандидата исследовательского опыта (переменная `Research`) от количества баллов по тестированию GRE (переменная `GRE Score`) и баллов бакалавриата GPA (переменная `CGPA`)."
      ]
    },
    {
      "cell_type": "code",
      "metadata": {
        "id": "Ragbz0z9rqf3",
        "colab_type": "code",
        "colab": {}
      },
      "source": [
        "highLevel = data1[data1['Research'] == 1]\n",
        "lowLevel = data1[data1['Research'] == 0]"
      ],
      "execution_count": 0,
      "outputs": []
    },
    {
      "cell_type": "code",
      "metadata": {
        "id": "PBmOqjTjlKSw",
        "colab_type": "code",
        "outputId": "86674bf5-8a4d-41a7-a04d-d807c775b940",
        "colab": {
          "base_uri": "https://localhost:8080/",
          "height": 282
        }
      },
      "source": [
        "plt.plot( lowLevel['CGPA'], lowLevel['GRE Score'], 'b.')\n",
        "plt.plot( highLevel['CGPA'], highLevel['GRE Score'], 'r.')"
      ],
      "execution_count": 26,
      "outputs": [
        {
          "output_type": "execute_result",
          "data": {
            "text/plain": [
              "[<matplotlib.lines.Line2D at 0x7f70946db0b8>]"
            ]
          },
          "metadata": {
            "tags": []
          },
          "execution_count": 26
        },
        {
          "output_type": "display_data",
          "data": {
            "image/png": "[encoded data removed]",
            "text/plain": [
              "<Figure size 432x288 with 1 Axes>"
            ]
          },
          "metadata": {
            "tags": [],
            "needs_background": "light"
          }
        }
      ]
    },
    {
      "cell_type": "markdown",
      "metadata": {
        "id": "pK8I8s9v963j",
        "colab_type": "text"
      },
      "source": [
        "На графике красным отмечены кандидаты с исследовательским опытом работы, тогда как синим - без него."
      ]
    },
    {
      "cell_type": "code",
      "metadata": {
        "id": "cM-EyhuM-pjr",
        "colab_type": "code",
        "outputId": "f8ad3dde-fb18-4296-e5e3-f5ec5344acbb",
        "colab": {
          "base_uri": "https://localhost:8080/",
          "height": 297
        }
      },
      "source": [
        "data1[['CGPA', 'GRE Score']].describe()"
      ],
      "execution_count": 27,
      "outputs": [
        {
          "output_type": "execute_result",
          "data": {
            "text/html": [
              "<div>\n",
              "<style scoped>\n",
              "    .dataframe tbody tr th:only-of-type {\n",
              "        vertical-align: middle;\n",
              "    }\n",
              "\n",
              "    .dataframe tbody tr th {\n",
              "        vertical-align: top;\n",
              "    }\n",
              "\n",
              "    .dataframe thead th {\n",
              "        text-align: right;\n",
              "    }\n",
              "</style>\n",
              "<table border=\"1\" class=\"dataframe\">\n",
              "  <thead>\n",
              "    <tr style=\"text-align: right;\">\n",
              "      <th></th>\n",
              "      <th>CGPA</th>\n",
              "      <th>GRE Score</th>\n",
              "    </tr>\n",
              "  </thead>\n",
              "  <tbody>\n",
              "    <tr>\n",
              "      <th>count</th>\n",
              "      <td>500.000000</td>\n",
              "      <td>500.000000</td>\n",
              "    </tr>\n",
              "    <tr>\n",
              "      <th>mean</th>\n",
              "      <td>8.576440</td>\n",
              "      <td>316.472000</td>\n",
              "    </tr>\n",
              "    <tr>\n",
              "      <th>std</th>\n",
              "      <td>0.604813</td>\n",
              "      <td>11.295148</td>\n",
              "    </tr>\n",
              "    <tr>\n",
              "      <th>min</th>\n",
              "      <td>6.800000</td>\n",
              "      <td>290.000000</td>\n",
              "    </tr>\n",
              "    <tr>\n",
              "      <th>25%</th>\n",
              "      <td>8.127500</td>\n",
              "      <td>308.000000</td>\n",
              "    </tr>\n",
              "    <tr>\n",
              "      <th>50%</th>\n",
              "      <td>8.560000</td>\n",
              "      <td>317.000000</td>\n",
              "    </tr>\n",
              "    <tr>\n",
              "      <th>75%</th>\n",
              "      <td>9.040000</td>\n",
              "      <td>325.000000</td>\n",
              "    </tr>\n",
              "    <tr>\n",
              "      <th>max</th>\n",
              "      <td>9.920000</td>\n",
              "      <td>340.000000</td>\n",
              "    </tr>\n",
              "  </tbody>\n",
              "</table>\n",
              "</div>"
            ],
            "text/plain": [
              "             CGPA   GRE Score\n",
              "count  500.000000  500.000000\n",
              "mean     8.576440  316.472000\n",
              "std      0.604813   11.295148\n",
              "min      6.800000  290.000000\n",
              "25%      8.127500  308.000000\n",
              "50%      8.560000  317.000000\n",
              "75%      9.040000  325.000000\n",
              "max      9.920000  340.000000"
            ]
          },
          "metadata": {
            "tags": []
          },
          "execution_count": 27
        }
      ]
    },
    {
      "cell_type": "markdown",
      "metadata": {
        "id": "yhlVYrP4-1NO",
        "colab_type": "text"
      },
      "source": [
        "Однако, перед началом построения модели необходимо выполнить  масштабирование, так как выбранные переменные распределены в различных пределах. Масштабирование существенно влияет на качество моделей SVM.\n",
        "\n",
        "**Масштабирование данных**"
      ]
    },
    {
      "cell_type": "code",
      "metadata": {
        "id": "U_oo5-CK_EZd",
        "colab_type": "code",
        "colab": {}
      },
      "source": [
        "from sklearn.preprocessing import MinMaxScaler\n",
        "data2 = data1[['CGPA', 'GRE Score', 'Research']]\n",
        "sc1 = MinMaxScaler()\n",
        "sc1_data = sc1.fit_transform(data2)"
      ],
      "execution_count": 0,
      "outputs": []
    },
    {
      "cell_type": "code",
      "metadata": {
        "id": "URzPxAA4-En3",
        "colab_type": "code",
        "outputId": "01013bc2-fea7-42eb-df27-e3422d1fc94c",
        "colab": {
          "base_uri": "https://localhost:8080/",
          "height": 204
        }
      },
      "source": [
        "data3 = pd.DataFrame(data=sc1_data, columns=data2.columns.values)\n",
        "data3.head()"
      ],
      "execution_count": 29,
      "outputs": [
        {
          "output_type": "execute_result",
          "data": {
            "text/html": [
              "<div>\n",
              "<style scoped>\n",
              "    .dataframe tbody tr th:only-of-type {\n",
              "        vertical-align: middle;\n",
              "    }\n",
              "\n",
              "    .dataframe tbody tr th {\n",
              "        vertical-align: top;\n",
              "    }\n",
              "\n",
              "    .dataframe thead th {\n",
              "        text-align: right;\n",
              "    }\n",
              "</style>\n",
              "<table border=\"1\" class=\"dataframe\">\n",
              "  <thead>\n",
              "    <tr style=\"text-align: right;\">\n",
              "      <th></th>\n",
              "      <th>CGPA</th>\n",
              "      <th>GRE Score</th>\n",
              "      <th>Research</th>\n",
              "    </tr>\n",
              "  </thead>\n",
              "  <tbody>\n",
              "    <tr>\n",
              "      <th>0</th>\n",
              "      <td>0.913462</td>\n",
              "      <td>0.94</td>\n",
              "      <td>1.0</td>\n",
              "    </tr>\n",
              "    <tr>\n",
              "      <th>1</th>\n",
              "      <td>0.663462</td>\n",
              "      <td>0.68</td>\n",
              "      <td>1.0</td>\n",
              "    </tr>\n",
              "    <tr>\n",
              "      <th>2</th>\n",
              "      <td>0.384615</td>\n",
              "      <td>0.52</td>\n",
              "      <td>1.0</td>\n",
              "    </tr>\n",
              "    <tr>\n",
              "      <th>3</th>\n",
              "      <td>0.599359</td>\n",
              "      <td>0.64</td>\n",
              "      <td>1.0</td>\n",
              "    </tr>\n",
              "    <tr>\n",
              "      <th>4</th>\n",
              "      <td>0.451923</td>\n",
              "      <td>0.48</td>\n",
              "      <td>0.0</td>\n",
              "    </tr>\n",
              "  </tbody>\n",
              "</table>\n",
              "</div>"
            ],
            "text/plain": [
              "       CGPA  GRE Score  Research\n",
              "0  0.913462       0.94       1.0\n",
              "1  0.663462       0.68       1.0\n",
              "2  0.384615       0.52       1.0\n",
              "3  0.599359       0.64       1.0\n",
              "4  0.451923       0.48       0.0"
            ]
          },
          "metadata": {
            "tags": []
          },
          "execution_count": 29
        }
      ]
    },
    {
      "cell_type": "markdown",
      "metadata": {
        "id": "B-JNIeSWH0aL",
        "colab_type": "text"
      },
      "source": [
        "**Разделение выборки и построение модели**"
      ]
    },
    {
      "cell_type": "code",
      "metadata": {
        "id": "uf1gH9BrIaSC",
        "colab_type": "code",
        "colab": {}
      },
      "source": [
        "X_train, X_test, y_train, y_test = train_test_split(data3[['CGPA', 'GRE Score']], \\\n",
        "                                                   data3['Research'], \\\n",
        "                                                   test_size=0.3, \\\n",
        "                                                   random_state=42)"
      ],
      "execution_count": 0,
      "outputs": []
    },
    {
      "cell_type": "code",
      "metadata": {
        "id": "2ZG9BgvKJtF2",
        "colab_type": "code",
        "colab": {}
      },
      "source": [
        "import matplotlib.pyplot as plt\n",
        "%matplotlib inline \n",
        "# Методы визуализации\n",
        "def make_meshgrid(x, y, h=.02):\n",
        "    \"\"\"Create a mesh of points to plot in\n",
        "\n",
        "    Parameters\n",
        "    ----------\n",
        "    x: data to base x-axis meshgrid on\n",
        "    y: data to base y-axis meshgrid on\n",
        "    h: stepsize for meshgrid, optional\n",
        "\n",
        "    Returns\n",
        "    -------\n",
        "    xx, yy : ndarray\n",
        "    \"\"\"\n",
        "    x_min, x_max = x.min() - 1, x.max() + 1\n",
        "    y_min, y_max = y.min() - 1, y.max() + 1\n",
        "    xx, yy = np.meshgrid(np.arange(x_min, x_max, h),\n",
        "                         np.arange(y_min, y_max, h))\n",
        "    return xx, yy\n",
        "\n",
        "def plot_contours(ax, clf, xx, yy, **params):\n",
        "    \"\"\"Plot the decision boundaries for a classifier.\n",
        "\n",
        "    Parameters\n",
        "    ----------\n",
        "    ax: matplotlib axes object\n",
        "    clf: a classifier\n",
        "    xx: meshgrid ndarray\n",
        "    yy: meshgrid ndarray\n",
        "    params: dictionary of params to pass to contourf, optional\n",
        "    \"\"\"\n",
        "    Z = clf.predict(np.c_[xx.ravel(), yy.ravel()])\n",
        "    Z = Z.reshape(xx.shape)\n",
        "    #Можно проверить все ли метки классов предсказываются\n",
        "    #print(np.unique(Z))\n",
        "    out = ax.contourf(xx, yy, Z, **params)\n",
        "    return out\n",
        "\n",
        "\n",
        "def plot_cl(clf):\n",
        "    title = clf.__repr__\n",
        "    clf.fit(np.array(X_train), \\\n",
        "            np.array(y_train))\n",
        "    fig, ax = plt.subplots(figsize=(5,5))\n",
        "    X0, X1 = X_train.iloc[:,0], X_train.iloc[:, 1]\n",
        "    xx, yy = make_meshgrid(X0, X1)\n",
        "    plot_contours(ax, clf, xx, yy, cmap=plt.cm.coolwarm, alpha=0.8)\n",
        "    ax.scatter(X0, X1,c=y_train,  cmap=plt.cm.coolwarm, edgecolors='k')\n",
        "    ax.set_xlim(xx.min(), xx.max())\n",
        "    ax.set_ylim(yy.min(), yy.max())\n",
        "    ax.set_xlabel('CGPA')\n",
        "    ax.set_ylabel('GRE Score')\n",
        "    ax.set_xticks(())\n",
        "    ax.set_yticks(())\n",
        "    ax.set_title(title)\n",
        "    plt.show()"
      ],
      "execution_count": 0,
      "outputs": []
    },
    {
      "cell_type": "code",
      "metadata": {
        "id": "fUD9IUW7eJWt",
        "colab_type": "code",
        "colab": {
          "base_uri": "https://localhost:8080/",
          "height": 419
        },
        "outputId": "2a53eaf0-68b4-4cd0-cdf7-eea464e6ea9f"
      },
      "source": [
        "X_train"
      ],
      "execution_count": 32,
      "outputs": [
        {
          "output_type": "execute_result",
          "data": {
            "text/html": [
              "<div>\n",
              "<style scoped>\n",
              "    .dataframe tbody tr th:only-of-type {\n",
              "        vertical-align: middle;\n",
              "    }\n",
              "\n",
              "    .dataframe tbody tr th {\n",
              "        vertical-align: top;\n",
              "    }\n",
              "\n",
              "    .dataframe thead th {\n",
              "        text-align: right;\n",
              "    }\n",
              "</style>\n",
              "<table border=\"1\" class=\"dataframe\">\n",
              "  <thead>\n",
              "    <tr style=\"text-align: right;\">\n",
              "      <th></th>\n",
              "      <th>CGPA</th>\n",
              "      <th>GRE Score</th>\n",
              "    </tr>\n",
              "  </thead>\n",
              "  <tbody>\n",
              "    <tr>\n",
              "      <th>5</th>\n",
              "      <td>0.814103</td>\n",
              "      <td>0.80</td>\n",
              "    </tr>\n",
              "    <tr>\n",
              "      <th>116</th>\n",
              "      <td>0.583333</td>\n",
              "      <td>0.18</td>\n",
              "    </tr>\n",
              "    <tr>\n",
              "      <th>45</th>\n",
              "      <td>0.737179</td>\n",
              "      <td>0.64</td>\n",
              "    </tr>\n",
              "    <tr>\n",
              "      <th>16</th>\n",
              "      <td>0.608974</td>\n",
              "      <td>0.54</td>\n",
              "    </tr>\n",
              "    <tr>\n",
              "      <th>462</th>\n",
              "      <td>0.365385</td>\n",
              "      <td>0.34</td>\n",
              "    </tr>\n",
              "    <tr>\n",
              "      <th>...</th>\n",
              "      <td>...</td>\n",
              "      <td>...</td>\n",
              "    </tr>\n",
              "    <tr>\n",
              "      <th>106</th>\n",
              "      <td>0.762821</td>\n",
              "      <td>0.78</td>\n",
              "    </tr>\n",
              "    <tr>\n",
              "      <th>270</th>\n",
              "      <td>0.455128</td>\n",
              "      <td>0.32</td>\n",
              "    </tr>\n",
              "    <tr>\n",
              "      <th>348</th>\n",
              "      <td>0.144231</td>\n",
              "      <td>0.24</td>\n",
              "    </tr>\n",
              "    <tr>\n",
              "      <th>435</th>\n",
              "      <td>0.282051</td>\n",
              "      <td>0.38</td>\n",
              "    </tr>\n",
              "    <tr>\n",
              "      <th>102</th>\n",
              "      <td>0.464744</td>\n",
              "      <td>0.48</td>\n",
              "    </tr>\n",
              "  </tbody>\n",
              "</table>\n",
              "<p>350 rows × 2 columns</p>\n",
              "</div>"
            ],
            "text/plain": [
              "         CGPA  GRE Score\n",
              "5    0.814103       0.80\n",
              "116  0.583333       0.18\n",
              "45   0.737179       0.64\n",
              "16   0.608974       0.54\n",
              "462  0.365385       0.34\n",
              "..        ...        ...\n",
              "106  0.762821       0.78\n",
              "270  0.455128       0.32\n",
              "348  0.144231       0.24\n",
              "435  0.282051       0.38\n",
              "102  0.464744       0.48\n",
              "\n",
              "[350 rows x 2 columns]"
            ]
          },
          "metadata": {
            "tags": []
          },
          "execution_count": 32
        }
      ]
    },
    {
      "cell_type": "markdown",
      "metadata": {
        "id": "C2QZiKfwWlAT",
        "colab_type": "text"
      },
      "source": [
        "После того, как добавлены методы визуализации, необходимо обучить модель и вычислить метрики для оценки ее качества. В качестве гиперпараметра будем использовать коэффициент регуляризации. В качестве метрики СКО."
      ]
    },
    {
      "cell_type": "code",
      "metadata": {
        "id": "qilWzy0lKkbz",
        "colab_type": "code",
        "outputId": "1de6f683-d011-4333-82aa-7e1efe8ddcb3",
        "colab": {
          "base_uri": "https://localhost:8080/",
          "height": 412
        }
      },
      "source": [
        "from sklearn.svm import LinearSVC\n",
        "SvrModel = LinearSVC(C=1, max_iter=1000)\n",
        "plot_cl(SvrModel)\n",
        "SvrModel.fit(X_train, y_train)\n",
        "y_pred = SvrModel.predict( np.array(X_test) )\n",
        "print('\\nMSE:',  mean_squared_error(y_test, y_pred))"
      ],
      "execution_count": 33,
      "outputs": [
        {
          "output_type": "display_data",
          "data": {
            "image/png": "[encoded data removed]",
            "text/plain": [
              "<Figure size 360x360 with 1 Axes>"
            ]
          },
          "metadata": {
            "tags": []
          }
        },
        {
          "output_type": "stream",
          "text": [
            "\n",
            "MSE: 0.23333333333333334\n"
          ],
          "name": "stdout"
        }
      ]
    },
    {
      "cell_type": "markdown",
      "metadata": {
        "id": "5LkVl5QYiuct",
        "colab_type": "text"
      },
      "source": [
        "Была построена модель с гиперпараметром С=1. СКО = 2,(3). Для того, чтобы улучшить качество модели, необходимо подобрать гиперпараметр С с импользованием кросс-валидации и решетчатого поиска.\n",
        "\n",
        "\n",
        "**Поиск наилучшего гиперпараметра. Применение кросс-валидации и решетчатого поиска**\n"
      ]
    },
    {
      "cell_type": "code",
      "metadata": {
        "id": "XqZX4zSLhoj4",
        "colab_type": "code",
        "colab": {}
      },
      "source": [
        "kf = ShuffleSplit(n_splits=5, test_size=0.3).split(data3[['CGPA', 'GRE Score']], data3['Research'])"
      ],
      "execution_count": 0,
      "outputs": []
    },
    {
      "cell_type": "code",
      "metadata": {
        "id": "Zp9-jTWJjhLC",
        "colab_type": "code",
        "outputId": "b064928d-d092-4cf4-a34f-ca7d14e0e90b",
        "colab": {
          "base_uri": "https://localhost:8080/",
          "height": 170
        }
      },
      "source": [
        "n_range = np.array(np.arange(0.1 ,5 ,0.05 ))\n",
        "tuned_parameters = [{'C': n_range}]\n",
        "tuned_parameters"
      ],
      "execution_count": 35,
      "outputs": [
        {
          "output_type": "execute_result",
          "data": {
            "text/plain": [
              "[{'C': array([0.1 , 0.15, 0.2 , 0.25, 0.3 , 0.35, 0.4 , 0.45, 0.5 , 0.55, 0.6 ,\n",
              "         0.65, 0.7 , 0.75, 0.8 , 0.85, 0.9 , 0.95, 1.  , 1.05, 1.1 , 1.15,\n",
              "         1.2 , 1.25, 1.3 , 1.35, 1.4 , 1.45, 1.5 , 1.55, 1.6 , 1.65, 1.7 ,\n",
              "         1.75, 1.8 , 1.85, 1.9 , 1.95, 2.  , 2.05, 2.1 , 2.15, 2.2 , 2.25,\n",
              "         2.3 , 2.35, 2.4 , 2.45, 2.5 , 2.55, 2.6 , 2.65, 2.7 , 2.75, 2.8 ,\n",
              "         2.85, 2.9 , 2.95, 3.  , 3.05, 3.1 , 3.15, 3.2 , 3.25, 3.3 , 3.35,\n",
              "         3.4 , 3.45, 3.5 , 3.55, 3.6 , 3.65, 3.7 , 3.75, 3.8 , 3.85, 3.9 ,\n",
              "         3.95, 4.  , 4.05, 4.1 , 4.15, 4.2 , 4.25, 4.3 , 4.35, 4.4 , 4.45,\n",
              "         4.5 , 4.55, 4.6 , 4.65, 4.7 , 4.75, 4.8 , 4.85, 4.9 , 4.95])}]"
            ]
          },
          "metadata": {
            "tags": []
          },
          "execution_count": 35
        }
      ]
    },
    {
      "cell_type": "code",
      "metadata": {
        "id": "59grJk_Hjm9E",
        "colab_type": "code",
        "outputId": "9a778caf-94e6-4bb2-9341-0241d4b9e4d8",
        "colab": {
          "base_uri": "https://localhost:8080/",
          "height": 306
        }
      },
      "source": [
        "clf_gs = GridSearchCV(LinearSVC(max_iter= 10000), tuned_parameters, cv=kf, scoring='neg_mean_squared_error')\n",
        "clf_gs.fit(np.array(data3[['CGPA', 'GRE Score']]), np.array(data3['Research']))"
      ],
      "execution_count": 36,
      "outputs": [
        {
          "output_type": "execute_result",
          "data": {
            "text/plain": [
              "GridSearchCV(cv=<generator object BaseShuffleSplit.split at 0x7f7094733fc0>,\n",
              "             error_score=nan,\n",
              "             estimator=LinearSVC(C=1.0, class_weight=None, dual=True,\n",
              "                                 fit_intercept=True, intercept_scaling=1,\n",
              "                                 loss='squared_hinge', max_iter=10000,\n",
              "                                 multi_class='ovr', penalty='l2',\n",
              "                                 random_state=None, tol=0.0001, verbose=0),\n",
              "             iid='deprecated', n_jobs=None,\n",
              "             param_grid=[{'C': array([0.1 , 0.15,...\n",
              "       1.75, 1.8 , 1.85, 1.9 , 1.95, 2.  , 2.05, 2.1 , 2.15, 2.2 , 2.25,\n",
              "       2.3 , 2.35, 2.4 , 2.45, 2.5 , 2.55, 2.6 , 2.65, 2.7 , 2.75, 2.8 ,\n",
              "       2.85, 2.9 , 2.95, 3.  , 3.05, 3.1 , 3.15, 3.2 , 3.25, 3.3 , 3.35,\n",
              "       3.4 , 3.45, 3.5 , 3.55, 3.6 , 3.65, 3.7 , 3.75, 3.8 , 3.85, 3.9 ,\n",
              "       3.95, 4.  , 4.05, 4.1 , 4.15, 4.2 , 4.25, 4.3 , 4.35, 4.4 , 4.45,\n",
              "       4.5 , 4.55, 4.6 , 4.65, 4.7 , 4.75, 4.8 , 4.85, 4.9 , 4.95])}],\n",
              "             pre_dispatch='2*n_jobs', refit=True, return_train_score=False,\n",
              "             scoring='neg_mean_squared_error', verbose=0)"
            ]
          },
          "metadata": {
            "tags": []
          },
          "execution_count": 36
        }
      ]
    },
    {
      "cell_type": "code",
      "metadata": {
        "id": "Nq5lwy24k0Cq",
        "colab_type": "code",
        "outputId": "94a34904-1270-477e-ccc3-d4958d5b223d",
        "colab": {
          "base_uri": "https://localhost:8080/",
          "height": 401
        }
      },
      "source": [
        "print(clf_gs.best_estimator_, '\\nMSE:',-clf_gs.best_score_ )\n",
        "print('\\n')\n",
        "pyplot.plot(n_range, clf_gs.cv_results_['mean_test_score'])"
      ],
      "execution_count": 37,
      "outputs": [
        {
          "output_type": "stream",
          "text": [
            "LinearSVC(C=1.1500000000000004, class_weight=None, dual=True,\n",
            "          fit_intercept=True, intercept_scaling=1, loss='squared_hinge',\n",
            "          max_iter=10000, multi_class='ovr', penalty='l2', random_state=None,\n",
            "          tol=0.0001, verbose=0) \n",
            "MSE: 0.2546666666666667\n",
            "\n",
            "\n"
          ],
          "name": "stdout"
        },
        {
          "output_type": "execute_result",
          "data": {
            "text/plain": [
              "[<matplotlib.lines.Line2D at 0x7f7094405fd0>]"
            ]
          },
          "metadata": {
            "tags": []
          },
          "execution_count": 37
        },
        {
          "output_type": "display_data",
          "data": {
            "image/png": "[encoded data removed]",
            "text/plain": [
              "<Figure size 432x288 with 1 Axes>"
            ]
          },
          "metadata": {
            "tags": [],
            "needs_background": "light"
          }
        }
      ]
    },
    {
      "cell_type": "markdown",
      "metadata": {
        "id": "rEKG_XPTp3tH",
        "colab_type": "text"
      },
      "source": [
        "По результатам решетчетаго поиска и кросс-валидации, было установлено, что наилучшее качество модель достигает при С = 2.2. Необхдимо сравнить результаты с моделью, построенной раннее.\n",
        "\n",
        "**Сравнение моделей**"
      ]
    },
    {
      "cell_type": "code",
      "metadata": {
        "id": "wPOnF8AQp3Ro",
        "colab_type": "code",
        "outputId": "1fc492cf-b424-4521-f385-857224c732c8",
        "colab": {
          "base_uri": "https://localhost:8080/",
          "height": 875
        }
      },
      "source": [
        "from sklearn.metrics import accuracy_score, f1_score\n",
        "plot_cl(clf_gs.best_estimator_)\n",
        "y_predBest = clf_gs.best_estimator_.predict( np.array(X_test) )\n",
        "print('\\nMSE:',  mean_squared_error(y_test, y_predBest))\n",
        "print('Accuracy:', accuracy_score(y_test, y_predBest))\n",
        "print('F1: ', f1_score(y_test, y_predBest))\n",
        "plot_cl(SvrModel)\n",
        "y_predSvrModel = SvrModel.predict( np.array(X_test) )\n",
        "print('\\nMSE:',  mean_squared_error(y_test, y_predSvrModel))\n",
        "print('Accuracy:', accuracy_score(y_test, y_predSvrModel))\n",
        "print('F1: ', f1_score(y_test, y_predSvrModel))"
      ],
      "execution_count": 38,
      "outputs": [
        {
          "output_type": "display_data",
          "data": {
            "image/png": "[encoded data removed]",
            "text/plain": [
              "<Figure size 360x360 with 1 Axes>"
            ]
          },
          "metadata": {
            "tags": []
          }
        },
        {
          "output_type": "stream",
          "text": [
            "\n",
            "MSE: 0.23333333333333334\n",
            "Accuracy: 0.7666666666666667\n",
            "F1:  0.7904191616766467\n"
          ],
          "name": "stdout"
        },
        {
          "output_type": "display_data",
          "data": {
            "image/png": "[encoded data removed]",
            "text/plain": [
              "<Figure size 360x360 with 1 Axes>"
            ]
          },
          "metadata": {
            "tags": []
          }
        },
        {
          "output_type": "stream",
          "text": [
            "\n",
            "MSE: 0.23333333333333334\n",
            "Accuracy: 0.7666666666666667\n",
            "F1:  0.7904191616766467\n"
          ],
          "name": "stdout"
        }
      ]
    },
    {
      "cell_type": "markdown",
      "metadata": {
        "id": "tF5L82UAGJ1b",
        "colab_type": "text"
      },
      "source": [
        "**Вывод**: Метод SVR очень чувствителен к тестовой выборке - даже один случайный выброс может повлиять на результаты. На тестовых данных лучший результат показала модель, построенная с гиперпараметром С=1 (точность незначительно превосходит точность модели, построенной с использованием кросс-валидации). Однако, для решения поставленной задачи лучше использовать модель, полученную после кросс-валидации, так как она показала лучший результат на пяти различных тестовых выборках (С=0.25).\n"
      ]
    },
    {
      "cell_type": "markdown",
      "metadata": {
        "id": "L6fU6m9AH25y",
        "colab_type": "text"
      },
      "source": [
        "## Дерево решений\n",
        "\n",
        "**Цель построения модели**: Классификация шансов на поступление кандидата (малые, средние и высокие шансы на поступление) по результатам всех входных данных (баллы бакалавриата, баллы за различные виды тестирования, рейтинг университета и тд.)"
      ]
    },
    {
      "cell_type": "markdown",
      "metadata": {
        "id": "lMZRr6Q8H7-7",
        "colab_type": "text"
      },
      "source": [
        "Для начала необходимо классифицировать данные из датасета. Каждому кандидату присвоить класс в зависимости от его шансов на поступление"
      ]
    },
    {
      "cell_type": "code",
      "metadata": {
        "id": "IW83fEJHU7xG",
        "colab_type": "code",
        "outputId": "e73db365-27e0-4ffa-9ecc-9baa16289b1c",
        "colab": {
          "base_uri": "https://localhost:8080/",
          "height": 170
        }
      },
      "source": [
        "data1['Chance of Admit'].describe()"
      ],
      "execution_count": 39,
      "outputs": [
        {
          "output_type": "execute_result",
          "data": {
            "text/plain": [
              "count    500.00000\n",
              "mean       0.72174\n",
              "std        0.14114\n",
              "min        0.34000\n",
              "25%        0.63000\n",
              "50%        0.72000\n",
              "75%        0.82000\n",
              "max        0.97000\n",
              "Name: Chance of Admit, dtype: float64"
            ]
          },
          "metadata": {
            "tags": []
          },
          "execution_count": 39
        }
      ]
    },
    {
      "cell_type": "markdown",
      "metadata": {
        "id": "vXKVtiYNjw6o",
        "colab_type": "text"
      },
      "source": [
        "Исходя из описательной статистики следует следующее: наибольший шанс на поступление = 0.97, наименьший = 0.34. Следующая классификация будет наиболее оптимальной:\n",
        "* Наименьшие шансы: 0.30 - 0.60\n",
        "* Средние шансы: 0.60 - 0.80\n",
        "* Наибольшие шансы: 0.80 - 1.00\n"
      ]
    },
    {
      "cell_type": "code",
      "metadata": {
        "id": "pedF5K9QjvrQ",
        "colab_type": "code",
        "colab": {}
      },
      "source": [
        "# Метод создания переменной класса\n",
        "def createClassification( bottomLimit, middleLimit ):\n",
        "  classes = []\n",
        "  for val in data1['Chance of Admit'].values:\n",
        "    if val <= bottomLimit:\n",
        "      classes.append(1)\n",
        "    else:\n",
        "       if val <= middleLimit:\n",
        "        classes.append(2)\n",
        "       else:\n",
        "        classes.append(3)\n",
        "  return pd.DataFrame(data= np.c_[data1, classes], columns= np.append(data1.columns.values, 'Class'))"
      ],
      "execution_count": 0,
      "outputs": []
    },
    {
      "cell_type": "code",
      "metadata": {
        "id": "MTj4cwr8nDAM",
        "colab_type": "code",
        "outputId": "3099ed45-818f-46cf-c5fc-ebbf0f15329c",
        "colab": {
          "base_uri": "https://localhost:8080/",
          "height": 265
        }
      },
      "source": [
        "data4 = createClassification(0.6, 0.8)\n",
        "data4 = data4.drop(['Chance of Admit'], axis=1)\n",
        "ax0 = plt.subplot()\n",
        "class1 = data4[data4['Class']==1].shape[0]\n",
        "class2 = data4[data4['Class']==2].shape[0]\n",
        "class3 = data4[data4['Class']==3].shape[0]\n",
        "ax0.bar( 'class1', class1, label='low chances')\n",
        "ax0.bar( 'class2', class2, label='middle chances')\n",
        "ax0.bar( 'class3', class3, label='high chances')\n",
        "ax0.legend()\n",
        "plt.show()"
      ],
      "execution_count": 41,
      "outputs": [
        {
          "output_type": "display_data",
          "data": {
            "image/png": "[encoded data removed]",
            "text/plain": [
              "<Figure size 432x288 with 1 Axes>"
            ]
          },
          "metadata": {
            "tags": [],
            "needs_background": "light"
          }
        }
      ]
    },
    {
      "cell_type": "code",
      "metadata": {
        "id": "xhgz4O97w6T0",
        "colab_type": "code",
        "outputId": "7f977a9f-a36b-43eb-c7a0-c98afe5646d7",
        "colab": {
          "base_uri": "https://localhost:8080/",
          "height": 204
        }
      },
      "source": [
        "data4.head()"
      ],
      "execution_count": 42,
      "outputs": [
        {
          "output_type": "execute_result",
          "data": {
            "text/html": [
              "<div>\n",
              "<style scoped>\n",
              "    .dataframe tbody tr th:only-of-type {\n",
              "        vertical-align: middle;\n",
              "    }\n",
              "\n",
              "    .dataframe tbody tr th {\n",
              "        vertical-align: top;\n",
              "    }\n",
              "\n",
              "    .dataframe thead th {\n",
              "        text-align: right;\n",
              "    }\n",
              "</style>\n",
              "<table border=\"1\" class=\"dataframe\">\n",
              "  <thead>\n",
              "    <tr style=\"text-align: right;\">\n",
              "      <th></th>\n",
              "      <th>Serial No.</th>\n",
              "      <th>GRE Score</th>\n",
              "      <th>TOEFL Score</th>\n",
              "      <th>University Rating</th>\n",
              "      <th>SOP</th>\n",
              "      <th>LOR</th>\n",
              "      <th>CGPA</th>\n",
              "      <th>Research</th>\n",
              "      <th>Class</th>\n",
              "    </tr>\n",
              "  </thead>\n",
              "  <tbody>\n",
              "    <tr>\n",
              "      <th>0</th>\n",
              "      <td>1.0</td>\n",
              "      <td>337.0</td>\n",
              "      <td>118.0</td>\n",
              "      <td>4.0</td>\n",
              "      <td>4.5</td>\n",
              "      <td>4.5</td>\n",
              "      <td>9.65</td>\n",
              "      <td>1.0</td>\n",
              "      <td>3.0</td>\n",
              "    </tr>\n",
              "    <tr>\n",
              "      <th>1</th>\n",
              "      <td>2.0</td>\n",
              "      <td>324.0</td>\n",
              "      <td>107.0</td>\n",
              "      <td>4.0</td>\n",
              "      <td>4.0</td>\n",
              "      <td>4.5</td>\n",
              "      <td>8.87</td>\n",
              "      <td>1.0</td>\n",
              "      <td>2.0</td>\n",
              "    </tr>\n",
              "    <tr>\n",
              "      <th>2</th>\n",
              "      <td>3.0</td>\n",
              "      <td>316.0</td>\n",
              "      <td>104.0</td>\n",
              "      <td>3.0</td>\n",
              "      <td>3.0</td>\n",
              "      <td>3.5</td>\n",
              "      <td>8.00</td>\n",
              "      <td>1.0</td>\n",
              "      <td>2.0</td>\n",
              "    </tr>\n",
              "    <tr>\n",
              "      <th>3</th>\n",
              "      <td>4.0</td>\n",
              "      <td>322.0</td>\n",
              "      <td>110.0</td>\n",
              "      <td>3.0</td>\n",
              "      <td>3.5</td>\n",
              "      <td>2.5</td>\n",
              "      <td>8.67</td>\n",
              "      <td>1.0</td>\n",
              "      <td>2.0</td>\n",
              "    </tr>\n",
              "    <tr>\n",
              "      <th>4</th>\n",
              "      <td>5.0</td>\n",
              "      <td>314.0</td>\n",
              "      <td>103.0</td>\n",
              "      <td>2.0</td>\n",
              "      <td>2.0</td>\n",
              "      <td>3.0</td>\n",
              "      <td>8.21</td>\n",
              "      <td>0.0</td>\n",
              "      <td>2.0</td>\n",
              "    </tr>\n",
              "  </tbody>\n",
              "</table>\n",
              "</div>"
            ],
            "text/plain": [
              "   Serial No.  GRE Score  TOEFL Score  ...  CGPA  Research  Class\n",
              "0         1.0      337.0        118.0  ...  9.65       1.0    3.0\n",
              "1         2.0      324.0        107.0  ...  8.87       1.0    2.0\n",
              "2         3.0      316.0        104.0  ...  8.00       1.0    2.0\n",
              "3         4.0      322.0        110.0  ...  8.67       1.0    2.0\n",
              "4         5.0      314.0        103.0  ...  8.21       0.0    2.0\n",
              "\n",
              "[5 rows x 9 columns]"
            ]
          },
          "metadata": {
            "tags": []
          },
          "execution_count": 42
        }
      ]
    },
    {
      "cell_type": "markdown",
      "metadata": {
        "id": "NOUvKdNds0lV",
        "colab_type": "text"
      },
      "source": [
        "Таким образом, числовая перменная `Chance of Admit` была заменена категориальной перменной `Class`. Распределение по классам показало, что у большинства кандидатов имеются средние шансы на поступление, меньше кандидатов с выскоими, в меньшестве - кандидаты с низкими шансами.\n",
        "\n",
        "**Построение модели**\n",
        "\n",
        "Разделение выборки\n"
      ]
    },
    {
      "cell_type": "code",
      "metadata": {
        "id": "KLYwsU8uuilJ",
        "colab_type": "code",
        "colab": {}
      },
      "source": [
        "X_train, X_test, y_train, y_test = train_test_split(data4.loc[:, 'GRE Score':'Research'], \\\n",
        "                                                   data4['Class'], \\\n",
        "                                                   test_size=0.3, \\\n",
        "                                                   random_state=42)"
      ],
      "execution_count": 0,
      "outputs": []
    },
    {
      "cell_type": "markdown",
      "metadata": {
        "id": "eIQhbXrx1LNc",
        "colab_type": "text"
      },
      "source": [
        "Обучение модели с гиперпараметрами:\n",
        "* max_depth=5 \n",
        "* max_features=0.2\n",
        "* min_samples_leaf=0.04"
      ]
    },
    {
      "cell_type": "code",
      "metadata": {
        "id": "1hqPRqNHusXl",
        "colab_type": "code",
        "outputId": "987635a8-3ae8-4144-c6cb-440e5ebf2368",
        "colab": {
          "base_uri": "https://localhost:8080/",
          "height": 119
        }
      },
      "source": [
        "from sklearn.tree import DecisionTreeClassifier\n",
        "testDTModel = DecisionTreeClassifier(random_state=1, max_depth=5, max_features=0.2, min_samples_leaf=0.04)\n",
        "testDTModel.fit(X_train, y_train)"
      ],
      "execution_count": 44,
      "outputs": [
        {
          "output_type": "execute_result",
          "data": {
            "text/plain": [
              "DecisionTreeClassifier(ccp_alpha=0.0, class_weight=None, criterion='gini',\n",
              "                       max_depth=5, max_features=0.2, max_leaf_nodes=None,\n",
              "                       min_impurity_decrease=0.0, min_impurity_split=None,\n",
              "                       min_samples_leaf=0.04, min_samples_split=2,\n",
              "                       min_weight_fraction_leaf=0.0, presort='deprecated',\n",
              "                       random_state=1, splitter='best')"
            ]
          },
          "metadata": {
            "tags": []
          },
          "execution_count": 44
        }
      ]
    },
    {
      "cell_type": "markdown",
      "metadata": {
        "id": "IVqhss6F4foq",
        "colab_type": "text"
      },
      "source": [
        "Оценка качества построенной модели"
      ]
    },
    {
      "cell_type": "code",
      "metadata": {
        "id": "RoM2pqmj4_GF",
        "colab_type": "code",
        "outputId": "56f0ad69-8fda-44ef-de0d-b64019b98edb",
        "colab": {
          "base_uri": "https://localhost:8080/",
          "height": 85
        }
      },
      "source": [
        "from sklearn.metrics import precision_score, recall_score\n",
        "\n",
        "testDTModel_predict = testDTModel.predict(np.array(X_test))\n",
        "print('F1: \\t\\t', f1_score(y_true= y_test, y_pred= testDTModel_predict, average= 'weighted'))\n",
        "print('Precision: \\t',precision_score(y_true= y_test, y_pred= testDTModel_predict, average= 'weighted') )\n",
        "print('Recall: \\t',recall_score(y_true= y_test, y_pred= testDTModel_predict , average= 'weighted') )\n",
        "print('MSE: \\t\\t',mean_squared_error(y_true= y_test, y_pred= testDTModel_predict) )"
      ],
      "execution_count": 48,
      "outputs": [
        {
          "output_type": "stream",
          "text": [
            "F1: \t\t 0.7589341919969694\n",
            "Precision: \t 0.762375478927203\n",
            "Recall: \t 0.76\n",
            "MSE: \t\t 0.24\n"
          ],
          "name": "stdout"
        }
      ]
    },
    {
      "cell_type": "markdown",
      "metadata": {
        "id": "ju500V3LGtQS",
        "colab_type": "text"
      },
      "source": [
        "## Задание 6. Произведите для каждой модели подбор одного гиперпараметра с использованием GridSearchCV и кросс-валидации."
      ]
    },
    {
      "cell_type": "code",
      "metadata": {
        "id": "2BbcDaRiG78Z",
        "colab_type": "code",
        "colab": {}
      },
      "source": [
        "kf = ShuffleSplit(n_splits=5, test_size=0.3).split(data4.loc[:, 'GRE Score':'Research'], data4['Class'])"
      ],
      "execution_count": 0,
      "outputs": []
    },
    {
      "cell_type": "code",
      "metadata": {
        "id": "E44bfMDpHKh_",
        "colab_type": "code",
        "colab": {}
      },
      "source": [
        "params = {\n",
        "    'max_depth': [3, 4, 5, 6],\n",
        "    'min_samples_leaf': [0.04, 0.06, 0.08],\n",
        "    'max_features': [0.2, 0.4, 0.6, 0.8]\n",
        "}"
      ],
      "execution_count": 0,
      "outputs": []
    },
    {
      "cell_type": "code",
      "metadata": {
        "id": "mSReGFTeHVZ9",
        "colab_type": "code",
        "outputId": "2d660bc4-8698-490b-b4e6-1e2fbe8453df",
        "colab": {
          "base_uri": "https://localhost:8080/",
          "height": 340
        }
      },
      "source": [
        "grid_1 = GridSearchCV(estimator=DecisionTreeClassifier(random_state=1),\n",
        "                    param_grid= params, scoring='neg_mean_squared_error', cv=kf)\n",
        "grid_1.fit(data4.loc[:, 'GRE Score':'Research'], data4['Class'])"
      ],
      "execution_count": 51,
      "outputs": [
        {
          "output_type": "execute_result",
          "data": {
            "text/plain": [
              "GridSearchCV(cv=<generator object BaseShuffleSplit.split at 0x7f7092fb7938>,\n",
              "             error_score=nan,\n",
              "             estimator=DecisionTreeClassifier(ccp_alpha=0.0, class_weight=None,\n",
              "                                              criterion='gini', max_depth=None,\n",
              "                                              max_features=None,\n",
              "                                              max_leaf_nodes=None,\n",
              "                                              min_impurity_decrease=0.0,\n",
              "                                              min_impurity_split=None,\n",
              "                                              min_samples_leaf=1,\n",
              "                                              min_samples_split=2,\n",
              "                                              min_weight_fraction_leaf=0.0,\n",
              "                                              presort='deprecated',\n",
              "                                              random_state=1, splitter='best'),\n",
              "             iid='deprecated', n_jobs=None,\n",
              "             param_grid={'max_depth': [3, 4, 5, 6],\n",
              "                         'max_features': [0.2, 0.4, 0.6, 0.8],\n",
              "                         'min_samples_leaf': [0.04, 0.06, 0.08]},\n",
              "             pre_dispatch='2*n_jobs', refit=True, return_train_score=False,\n",
              "             scoring='neg_mean_squared_error', verbose=0)"
            ]
          },
          "metadata": {
            "tags": []
          },
          "execution_count": 51
        }
      ]
    },
    {
      "cell_type": "code",
      "metadata": {
        "id": "tj7fwFHDHw9s",
        "colab_type": "code",
        "outputId": "0f80860d-bd35-43df-8767-99c4b71b4d8b",
        "colab": {
          "base_uri": "https://localhost:8080/",
          "height": 119
        }
      },
      "source": [
        "grid_1.best_estimator_, -grid_1.best_score_"
      ],
      "execution_count": 52,
      "outputs": [
        {
          "output_type": "execute_result",
          "data": {
            "text/plain": [
              "(DecisionTreeClassifier(ccp_alpha=0.0, class_weight=None, criterion='gini',\n",
              "                        max_depth=4, max_features=0.6, max_leaf_nodes=None,\n",
              "                        min_impurity_decrease=0.0, min_impurity_split=None,\n",
              "                        min_samples_leaf=0.04, min_samples_split=2,\n",
              "                        min_weight_fraction_leaf=0.0, presort='deprecated',\n",
              "                        random_state=1, splitter='best'), 0.1853333333333333)"
            ]
          },
          "metadata": {
            "tags": []
          },
          "execution_count": 52
        }
      ]
    },
    {
      "cell_type": "markdown",
      "metadata": {
        "id": "rQ_QTDw0IwQT",
        "colab_type": "text"
      },
      "source": [
        "В результате кросс-валидации и решетчатого поиска была найдена наилучшая модель со следующеми гиперпараметрами: \n",
        "*  max_depth=3\n",
        "* max_features=0.8\n",
        "* min_samples_leaf=0.08\n"
      ]
    },
    {
      "cell_type": "markdown",
      "metadata": {
        "id": "_VoXVxlERBow",
        "colab_type": "text"
      },
      "source": [
        "## Задание 7. Сравните качество полученных моделей с качеством моделей, полученных в пункте 4."
      ]
    },
    {
      "cell_type": "markdown",
      "metadata": {
        "id": "NYxuUxwMP8t1",
        "colab_type": "text"
      },
      "source": [
        "**Доп. задание.**\n",
        "Рассмотрим распределение важности среди переменных в полученной модели."
      ]
    },
    {
      "cell_type": "code",
      "metadata": {
        "id": "_RkW3IbsJOaa",
        "colab_type": "code",
        "colab": {}
      },
      "source": [
        "from operator import itemgetter\n",
        "\n",
        "def draw_feature_importances(tree_model, X_dataset, figsize=(15,7)):\n",
        "    \"\"\"\n",
        "    Вывод важности признаков в виде графика\n",
        "    \"\"\"\n",
        "    # Сортировка значений важности признаков по убыванию\n",
        "    list_to_sort = list(zip(X_dataset.columns.values, tree_model.feature_importances_))\n",
        "    sorted_list = sorted(list_to_sort, key=itemgetter(1), reverse = True)\n",
        "    # Названия признаков\n",
        "    labels = [x for x,_ in sorted_list]\n",
        "    # Важности признаков\n",
        "    data = [x for _,x in sorted_list]\n",
        "    # Вывод графика\n",
        "    fig, ax = plt.subplots(figsize=figsize)\n",
        "    ind = np.arange(len(labels))\n",
        "    plt.bar(ind, data)\n",
        "    plt.xticks(ind, labels, rotation='vertical')\n",
        "    # Вывод значений\n",
        "    for a,b in zip(ind, data):\n",
        "        plt.text(a-0.05, b+0.01, str(round(b,3)))\n",
        "    plt.show()\n",
        "    return labels, data"
      ],
      "execution_count": 0,
      "outputs": []
    },
    {
      "cell_type": "code",
      "metadata": {
        "id": "CKeoomHVKJE8",
        "colab_type": "code",
        "outputId": "9a3d21f8-4348-4249-b802-66cf206b2ded",
        "colab": {
          "base_uri": "https://localhost:8080/",
          "height": 469
        }
      },
      "source": [
        "_1,_2 = draw_feature_importances(grid_1.best_estimator_, data4.loc[:, 'GRE Score':'Research'])"
      ],
      "execution_count": 55,
      "outputs": [
        {
          "output_type": "display_data",
          "data": {
            "image/png": "[encoded data removed]",
            "text/plain": [
              "<Figure size 1080x504 with 1 Axes>"
            ]
          },
          "metadata": {
            "tags": [],
            "needs_background": "light"
          }
        }
      ]
    },
    {
      "cell_type": "markdown",
      "metadata": {
        "id": "jp4_ch__PWr8",
        "colab_type": "text"
      },
      "source": [
        "А также для модели, полученой раннее"
      ]
    },
    {
      "cell_type": "code",
      "metadata": {
        "id": "uOLtHfo-POnE",
        "colab_type": "code",
        "outputId": "6216b591-5112-4269-e8a7-92987a7a475d",
        "colab": {
          "base_uri": "https://localhost:8080/",
          "height": 470
        }
      },
      "source": [
        "_1,_2 = draw_feature_importances(testDTModel, data4.loc[:, 'GRE Score':'Research'])"
      ],
      "execution_count": 56,
      "outputs": [
        {
          "output_type": "display_data",
          "data": {
            "image/png": "[encoded data removed]",
            "text/plain": [
              "<Figure size 1080x504 with 1 Axes>"
            ]
          },
          "metadata": {
            "tags": [],
            "needs_background": "light"
          }
        }
      ]
    },
    {
      "cell_type": "markdown",
      "metadata": {
        "id": "JNLqRq8hQFxF",
        "colab_type": "text"
      },
      "source": [
        "Для полноты сравнения, рассмотрим метрики качества для двух моделей"
      ]
    },
    {
      "cell_type": "code",
      "metadata": {
        "id": "Et6rufeGQQ2h",
        "colab_type": "code",
        "outputId": "9187a133-64e9-4528-db80-6f12707c48ef",
        "colab": {
          "base_uri": "https://localhost:8080/",
          "height": 204
        }
      },
      "source": [
        "print('Test Descision Tree Model')\n",
        "print('F1: \\t\\t', f1_score(y_true= y_test, y_pred= testDTModel_predict, average= 'weighted'))\n",
        "print('Precision: \\t',precision_score(y_true= y_test, y_pred= testDTModel_predict, average= 'weighted') )\n",
        "print('Recall: \\t',recall_score(y_true= y_test, y_pred= testDTModel_predict , average= 'weighted') )\n",
        "print('MSE: \\t\\t',mean_squared_error(y_true= y_test, y_pred= testDTModel_predict) )\n",
        "bestDTModel_predict = grid_1.best_estimator_.predict(np.array(X_test))\n",
        "print('\\nBest Descision Tree Model')\n",
        "print('F1: \\t\\t', f1_score(y_true= y_test, y_pred= bestDTModel_predict, average= 'weighted'))\n",
        "print('Precision: \\t',precision_score(y_true= y_test, y_pred= bestDTModel_predict, average= 'weighted') )\n",
        "print('Recall: \\t',recall_score(y_true= y_test, y_pred= bestDTModel_predict , average= 'weighted') )\n",
        "print('MSE: \\t\\t',mean_squared_error(y_true= y_test, y_pred= bestDTModel_predict) )"
      ],
      "execution_count": 57,
      "outputs": [
        {
          "output_type": "stream",
          "text": [
            "Test Descision Tree Model\n",
            "F1: \t\t 0.7589341919969694\n",
            "Precision: \t 0.762375478927203\n",
            "Recall: \t 0.76\n",
            "MSE: \t\t 0.24\n",
            "\n",
            "Best Descision Tree Model\n",
            "F1: \t\t 0.8245397093748742\n",
            "Precision: \t 0.832561403508772\n",
            "Recall: \t 0.8333333333333334\n",
            "MSE: \t\t 0.16666666666666666\n"
          ],
          "name": "stdout"
        }
      ]
    }
  ]
}