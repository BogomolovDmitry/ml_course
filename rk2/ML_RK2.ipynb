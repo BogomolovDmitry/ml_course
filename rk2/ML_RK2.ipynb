{
  "nbformat": 4,
  "nbformat_minor": 0,
  "metadata": {
    "kernelspec": {
      "display_name": "Python 3",
      "language": "python",
      "name": "python3"
    },
    "language_info": {
      "codemirror_mode": {
        "name": "ipython",
        "version": 3
      },
      "file_extension": ".py",
      "mimetype": "text/x-python",
      "name": "python",
      "nbconvert_exporter": "python",
      "pygments_lexer": "ipython3",
      "version": "3.7.1"
    },
    "colab": {
      "name": "ML_RK2.ipynb",
      "provenance": [],
      "collapsed_sections": []
    }
  },
  "cells": [
    {
      "cell_type": "markdown",
      "metadata": {
        "id": "f0_APU1U-sBK",
        "colab_type": "text"
      },
      "source": [
        "### РК №2 по дисциплине Методы машинного обучения\n",
        "### Богомолов Д.Н. ИУ5-23М \n",
        "### Вариант №1. Классификация текстов на основе методов наивного Байеса.\n",
        "### Задание 1:\n",
        "Данный вариант выполняется на основе материалов лекции часть 1 и часть 2.\n",
        "\n",
        "Необходимо решить задачу классификации текстов на основе любого выбранного Вами датасета (кроме примера, который рассматривался в лекции). Классификация может быть бинарной или многоклассовой. Целевой признак из выбранного Вами датасета может иметь любой физический смысл, примером является задача анализа тональности текста.\n",
        "\n",
        "Необходимо сформировать признаки на основе CountVectorizer или TfidfVectorizer.\n",
        "\n",
        "В качестве классификаторов необходимо использовать два классификатора, не относящихся к наивным Байесовским методам (например, LogisticRegression, LinearSVC), а также Multinomial Naive Bayes (MNB), Complement Naive Bayes (CNB), Bernoulli Naive Bayes.\n",
        "\n",
        "Для каждого метода необходимо оценить качество классификации с помощью хотя бы двух метрик качества классификации (например, Accuracy, ROC-AUC).\n",
        "\n",
        "Сделате выводы о том, какой классификатор осуществляет более качественную классификацию на Вашем наборе данных."
      ]
    },
    {
      "cell_type": "markdown",
      "metadata": {
        "id": "ij2Nz5h1-sBL",
        "colab_type": "text"
      },
      "source": [
        "Датасет: https://www.kaggle.com/grikomsn/amazon-cell-phones-reviews?select=20191226-reviews.csv"
      ]
    },
    {
      "cell_type": "markdown",
      "metadata": {
        "id": "JTzQSpyjl2aU",
        "colab_type": "text"
      },
      "source": [
        "Будут использованы значения колонок body, где хранится текст, и rating. Рейтинг выставлен от 1 до 5, т.е. количество классов равно 5."
      ]
    },
    {
      "cell_type": "markdown",
      "metadata": {
        "id": "sMjbAVZBlF0I",
        "colab_type": "text"
      },
      "source": [
        "#Загрузка и подготовка датасета"
      ]
    },
    {
      "cell_type": "code",
      "metadata": {
        "id": "cjsnxgZF-sBM",
        "colab_type": "code",
        "colab": {}
      },
      "source": [
        "import pandas as pd\n",
        "\n",
        "df = pd.read_csv(\"/content/drive/My Drive/MMO_Datasets/20191226-reviews.csv\", sep = \",\")"
      ],
      "execution_count": 0,
      "outputs": []
    },
    {
      "cell_type": "code",
      "metadata": {
        "id": "G4-34FgSBiNj",
        "colab_type": "code",
        "colab": {
          "base_uri": "https://localhost:8080/",
          "height": 34
        },
        "outputId": "ce3d00cc-63c7-4437-c52f-70b063867490"
      },
      "source": [
        "from google.colab import drive\n",
        "drive.mount('/content/drive')"
      ],
      "execution_count": 237,
      "outputs": [
        {
          "output_type": "stream",
          "text": [
            "Drive already mounted at /content/drive; to attempt to forcibly remount, call drive.mount(\"/content/drive\", force_remount=True).\n"
          ],
          "name": "stdout"
        }
      ]
    },
    {
      "cell_type": "code",
      "metadata": {
        "id": "_ap0v4QB-sBP",
        "colab_type": "code",
        "colab": {
          "base_uri": "https://localhost:8080/",
          "height": 289
        },
        "outputId": "df5fd800-dfaa-4a88-9e31-4a18ffe783ad"
      },
      "source": [
        "df.head(5)"
      ],
      "execution_count": 238,
      "outputs": [
        {
          "output_type": "execute_result",
          "data": {
            "text/html": [
              "<div>\n",
              "<style scoped>\n",
              "    .dataframe tbody tr th:only-of-type {\n",
              "        vertical-align: middle;\n",
              "    }\n",
              "\n",
              "    .dataframe tbody tr th {\n",
              "        vertical-align: top;\n",
              "    }\n",
              "\n",
              "    .dataframe thead th {\n",
              "        text-align: right;\n",
              "    }\n",
              "</style>\n",
              "<table border=\"1\" class=\"dataframe\">\n",
              "  <thead>\n",
              "    <tr style=\"text-align: right;\">\n",
              "      <th></th>\n",
              "      <th>asin</th>\n",
              "      <th>name</th>\n",
              "      <th>rating</th>\n",
              "      <th>date</th>\n",
              "      <th>verified</th>\n",
              "      <th>title</th>\n",
              "      <th>body</th>\n",
              "      <th>helpfulVotes</th>\n",
              "    </tr>\n",
              "  </thead>\n",
              "  <tbody>\n",
              "    <tr>\n",
              "      <th>0</th>\n",
              "      <td>B0000SX2UC</td>\n",
              "      <td>Janet</td>\n",
              "      <td>3</td>\n",
              "      <td>October 11, 2005</td>\n",
              "      <td>False</td>\n",
              "      <td>Def not best, but not worst</td>\n",
              "      <td>I had the Samsung A600 for awhile which is abs...</td>\n",
              "      <td>1.0</td>\n",
              "    </tr>\n",
              "    <tr>\n",
              "      <th>1</th>\n",
              "      <td>B0000SX2UC</td>\n",
              "      <td>Luke Wyatt</td>\n",
              "      <td>1</td>\n",
              "      <td>January 7, 2004</td>\n",
              "      <td>False</td>\n",
              "      <td>Text Messaging Doesn't Work</td>\n",
              "      <td>Due to a software issue between Nokia and Spri...</td>\n",
              "      <td>17.0</td>\n",
              "    </tr>\n",
              "    <tr>\n",
              "      <th>2</th>\n",
              "      <td>B0000SX2UC</td>\n",
              "      <td>Brooke</td>\n",
              "      <td>5</td>\n",
              "      <td>December 30, 2003</td>\n",
              "      <td>False</td>\n",
              "      <td>Love This Phone</td>\n",
              "      <td>This is a great, reliable phone. I also purcha...</td>\n",
              "      <td>5.0</td>\n",
              "    </tr>\n",
              "    <tr>\n",
              "      <th>3</th>\n",
              "      <td>B0000SX2UC</td>\n",
              "      <td>amy m. teague</td>\n",
              "      <td>3</td>\n",
              "      <td>March 18, 2004</td>\n",
              "      <td>False</td>\n",
              "      <td>Love the Phone, BUT...!</td>\n",
              "      <td>I love the phone and all, because I really did...</td>\n",
              "      <td>1.0</td>\n",
              "    </tr>\n",
              "    <tr>\n",
              "      <th>4</th>\n",
              "      <td>B0000SX2UC</td>\n",
              "      <td>tristazbimmer</td>\n",
              "      <td>4</td>\n",
              "      <td>August 28, 2005</td>\n",
              "      <td>False</td>\n",
              "      <td>Great phone service and options, lousy case!</td>\n",
              "      <td>The phone has been great for every purpose it ...</td>\n",
              "      <td>1.0</td>\n",
              "    </tr>\n",
              "  </tbody>\n",
              "</table>\n",
              "</div>"
            ],
            "text/plain": [
              "         asin  ... helpfulVotes\n",
              "0  B0000SX2UC  ...          1.0\n",
              "1  B0000SX2UC  ...         17.0\n",
              "2  B0000SX2UC  ...          5.0\n",
              "3  B0000SX2UC  ...          1.0\n",
              "4  B0000SX2UC  ...          1.0\n",
              "\n",
              "[5 rows x 8 columns]"
            ]
          },
          "metadata": {
            "tags": []
          },
          "execution_count": 238
        }
      ]
    },
    {
      "cell_type": "code",
      "metadata": {
        "id": "jG-JnCf9-sBT",
        "colab_type": "code",
        "colab": {
          "base_uri": "https://localhost:8080/",
          "height": 142
        },
        "outputId": "c8c80b44-5ee1-44ff-d97c-345227e57463"
      },
      "source": [
        "del df['asin']\n",
        "del df['name']\n",
        "del df['date']\n",
        "del df['verified']\n",
        "del df['helpfulVotes']\n",
        "df.head(3)"
      ],
      "execution_count": 239,
      "outputs": [
        {
          "output_type": "execute_result",
          "data": {
            "text/html": [
              "<div>\n",
              "<style scoped>\n",
              "    .dataframe tbody tr th:only-of-type {\n",
              "        vertical-align: middle;\n",
              "    }\n",
              "\n",
              "    .dataframe tbody tr th {\n",
              "        vertical-align: top;\n",
              "    }\n",
              "\n",
              "    .dataframe thead th {\n",
              "        text-align: right;\n",
              "    }\n",
              "</style>\n",
              "<table border=\"1\" class=\"dataframe\">\n",
              "  <thead>\n",
              "    <tr style=\"text-align: right;\">\n",
              "      <th></th>\n",
              "      <th>rating</th>\n",
              "      <th>title</th>\n",
              "      <th>body</th>\n",
              "    </tr>\n",
              "  </thead>\n",
              "  <tbody>\n",
              "    <tr>\n",
              "      <th>0</th>\n",
              "      <td>3</td>\n",
              "      <td>Def not best, but not worst</td>\n",
              "      <td>I had the Samsung A600 for awhile which is abs...</td>\n",
              "    </tr>\n",
              "    <tr>\n",
              "      <th>1</th>\n",
              "      <td>1</td>\n",
              "      <td>Text Messaging Doesn't Work</td>\n",
              "      <td>Due to a software issue between Nokia and Spri...</td>\n",
              "    </tr>\n",
              "    <tr>\n",
              "      <th>2</th>\n",
              "      <td>5</td>\n",
              "      <td>Love This Phone</td>\n",
              "      <td>This is a great, reliable phone. I also purcha...</td>\n",
              "    </tr>\n",
              "  </tbody>\n",
              "</table>\n",
              "</div>"
            ],
            "text/plain": [
              "   rating  ...                                               body\n",
              "0       3  ...  I had the Samsung A600 for awhile which is abs...\n",
              "1       1  ...  Due to a software issue between Nokia and Spri...\n",
              "2       5  ...  This is a great, reliable phone. I also purcha...\n",
              "\n",
              "[3 rows x 3 columns]"
            ]
          },
          "metadata": {
            "tags": []
          },
          "execution_count": 239
        }
      ]
    },
    {
      "cell_type": "code",
      "metadata": {
        "id": "yzF1ySIR-sBW",
        "colab_type": "code",
        "colab": {
          "base_uri": "https://localhost:8080/",
          "height": 85
        },
        "outputId": "30d34ead-1451-4b2a-8f10-f8a134b7df07"
      },
      "source": [
        "df.dtypes"
      ],
      "execution_count": 240,
      "outputs": [
        {
          "output_type": "execute_result",
          "data": {
            "text/plain": [
              "rating     int64\n",
              "title     object\n",
              "body      object\n",
              "dtype: object"
            ]
          },
          "metadata": {
            "tags": []
          },
          "execution_count": 240
        }
      ]
    },
    {
      "cell_type": "code",
      "metadata": {
        "id": "NaN71DDZ-sBZ",
        "colab_type": "code",
        "colab": {
          "base_uri": "https://localhost:8080/",
          "height": 85
        },
        "outputId": "9c1e2b41-d499-48d6-ed80-dcc06c81bb4c"
      },
      "source": [
        "# Проверка на пустые значения\n",
        "df.isnull().sum()"
      ],
      "execution_count": 241,
      "outputs": [
        {
          "output_type": "execute_result",
          "data": {
            "text/plain": [
              "rating     0\n",
              "title     14\n",
              "body      21\n",
              "dtype: int64"
            ]
          },
          "metadata": {
            "tags": []
          },
          "execution_count": 241
        }
      ]
    },
    {
      "cell_type": "code",
      "metadata": {
        "id": "uafjEBMx-sBd",
        "colab_type": "code",
        "colab": {}
      },
      "source": [
        "df = df.dropna(axis=0, how='any')"
      ],
      "execution_count": 0,
      "outputs": []
    },
    {
      "cell_type": "code",
      "metadata": {
        "id": "fB9Ngj89-sBg",
        "colab_type": "code",
        "colab": {
          "base_uri": "https://localhost:8080/",
          "height": 34
        },
        "outputId": "2f7a0a70-10e4-476e-c43d-b177484d34b2"
      },
      "source": [
        "df.shape"
      ],
      "execution_count": 243,
      "outputs": [
        {
          "output_type": "execute_result",
          "data": {
            "text/plain": [
              "(67956, 3)"
            ]
          },
          "metadata": {
            "tags": []
          },
          "execution_count": 243
        }
      ]
    },
    {
      "cell_type": "markdown",
      "metadata": {
        "id": "Ce4i0xjM-sBp",
        "colab_type": "text"
      },
      "source": [
        "# Обработка данных"
      ]
    },
    {
      "cell_type": "code",
      "metadata": {
        "id": "qEYFomYL-sBq",
        "colab_type": "code",
        "colab": {}
      },
      "source": [
        "from typing import Dict, Tuple\n",
        "from sklearn.linear_model import LogisticRegression\n",
        "from sklearn.metrics import accuracy_score, balanced_accuracy_score, f1_score\n",
        "from sklearn.naive_bayes import MultinomialNB, ComplementNB, BernoulliNB\n",
        "from sklearn.feature_extraction.text import CountVectorizer, TfidfVectorizer\n",
        "from sklearn.model_selection import train_test_split\n",
        "from sklearn.pipeline import Pipeline\n",
        "import numpy as np\n",
        "import string"
      ],
      "execution_count": 0,
      "outputs": []
    },
    {
      "cell_type": "code",
      "metadata": {
        "id": "VmjHAsW7R3so",
        "colab_type": "code",
        "colab": {}
      },
      "source": [
        "X = df.body\n",
        "y = df.rating"
      ],
      "execution_count": 0,
      "outputs": []
    },
    {
      "cell_type": "code",
      "metadata": {
        "id": "LMmIFvYpQ5LK",
        "colab_type": "code",
        "colab": {}
      },
      "source": [
        "from sklearn.model_selection import train_test_split\n",
        "\n",
        "X_train, X_test, y_train, y_test = train_test_split(X, y, test_size=0.3)"
      ],
      "execution_count": 0,
      "outputs": []
    },
    {
      "cell_type": "markdown",
      "metadata": {
        "id": "M7jA-SaMmYsl",
        "colab_type": "text"
      },
      "source": [
        "### Создание трёх моделей"
      ]
    },
    {
      "cell_type": "code",
      "metadata": {
        "id": "W49U-RJtQyN_",
        "colab_type": "code",
        "colab": {}
      },
      "source": [
        "from sklearn.pipeline import Pipeline\n",
        "\n",
        "from sklearn.feature_extraction.text import TfidfVectorizer\n",
        "from sklearn.linear_model import Lasso\n",
        "from sklearn.neighbors import KNeighborsClassifier\n",
        "from sklearn.naive_bayes import MultinomialNB\n",
        "from sklearn.svm import LinearSVC\n",
        "from sklearn.calibration import CalibratedClassifierCV\n",
        "from sklearn.linear_model import LogisticRegression\n",
        "from sklearn.multiclass import OneVsRestClassifier\n",
        "\n",
        "tfidf = TfidfVectorizer(sublinear_tf=True, min_df=1, norm='l2',\n",
        "                                               ngram_range=(1, 2),\n",
        "                                               stop_words='english')\n",
        "\n",
        "\n",
        "classif = Pipeline([('tfidf', tfidf),\n",
        "                     ('MnNB', OneVsRestClassifier(MultinomialNB())),\n",
        "])\n",
        "\n",
        "classif2 = Pipeline([('tfidf', tfidf),\n",
        "                     ('lSVC', OneVsRestClassifier(LinearSVC())),\n",
        "])\n",
        "\n",
        "classif3 = Pipeline([('tfidf', tfidf),\n",
        "                     ('LR', LogisticRegression(C=5.0)),\n",
        "])\n",
        "\n",
        "result_df = pd.DataFrame()"
      ],
      "execution_count": 0,
      "outputs": []
    },
    {
      "cell_type": "code",
      "metadata": {
        "id": "Vd4QgrbURZgj",
        "colab_type": "code",
        "colab": {}
      },
      "source": [
        "classif.fit(X_train, y_train);"
      ],
      "execution_count": 0,
      "outputs": []
    },
    {
      "cell_type": "code",
      "metadata": {
        "id": "2TOj1n_NWMyW",
        "colab_type": "code",
        "colab": {}
      },
      "source": [
        "from sklearn.metrics import accuracy_score as AS, precision_score as PS, recall_score as RS\n",
        "result_df.loc['MultinomialNB', 'AS train'] = AS(y_train, classif.predict(X_train))\n",
        "result_df.loc['MultinomialNB', 'PS train'] = PS(y_train, classif.predict(X_train), average='micro')\n",
        "result_df.loc['MultinomialNB', 'RS train'] = RS(y_train, classif.predict(X_train), average='micro')\n",
        "result_df.loc['MultinomialNB', 'AS test']  = AS(y_test , classif.predict(X_test))\n",
        "result_df.loc['MultinomialNB', 'PS test']  = PS(y_test , classif.predict(X_test), average='micro')\n",
        "result_df.loc['MultinomialNB', 'RS test']  = RS(y_test , classif.predict(X_test), average='micro')"
      ],
      "execution_count": 0,
      "outputs": []
    },
    {
      "cell_type": "code",
      "metadata": {
        "id": "MKwPa74HRcjw",
        "colab_type": "code",
        "colab": {}
      },
      "source": [
        "classif2.fit(X_train, y_train);"
      ],
      "execution_count": 0,
      "outputs": []
    },
    {
      "cell_type": "code",
      "metadata": {
        "id": "_hQQENJBWOtI",
        "colab_type": "code",
        "colab": {}
      },
      "source": [
        "result_df.loc['LinearSVC', 'AS train'] = AS(y_train, classif2.predict(X_train))\n",
        "result_df.loc['LinearSVC', 'PS train'] = PS(y_train, classif2.predict(X_train), average='micro')\n",
        "result_df.loc['LinearSVC', 'RS train'] = RS(y_train, classif2.predict(X_train), average='micro')\n",
        "result_df.loc['LinearSVC', 'AS test']  = AS(y_test , classif2.predict(X_test))\n",
        "result_df.loc['LinearSVC', 'PS test']  = PS(y_test , classif2.predict(X_test), average='micro')\n",
        "result_df.loc['LinearSVC', 'RS test']  = RS(y_test , classif2.predict(X_test), average='micro')"
      ],
      "execution_count": 0,
      "outputs": []
    },
    {
      "cell_type": "code",
      "metadata": {
        "id": "HRKzcd7RQzlT",
        "colab_type": "code",
        "colab": {
          "base_uri": "https://localhost:8080/",
          "height": 408
        },
        "outputId": "e8c2ff2d-2ca0-47be-ed89-f2374fd05cd6"
      },
      "source": [
        "classif3.fit(X_train, y_train)"
      ],
      "execution_count": 252,
      "outputs": [
        {
          "output_type": "execute_result",
          "data": {
            "text/plain": [
              "Pipeline(memory=None,\n",
              "         steps=[('tfidf',\n",
              "                 TfidfVectorizer(analyzer='word', binary=False,\n",
              "                                 decode_error='strict',\n",
              "                                 dtype=<class 'numpy.float64'>,\n",
              "                                 encoding='utf-8', input='content',\n",
              "                                 lowercase=True, max_df=1.0, max_features=None,\n",
              "                                 min_df=1, ngram_range=(1, 2), norm='l2',\n",
              "                                 preprocessor=None, smooth_idf=True,\n",
              "                                 stop_words='english', strip_accents=None,\n",
              "                                 sublinear_tf=True,\n",
              "                                 token_pattern='(?u)\\\\b\\\\w\\\\w+\\\\b',\n",
              "                                 tokenizer=None, use_idf=True,\n",
              "                                 vocabulary=None)),\n",
              "                ('LR',\n",
              "                 LogisticRegression(C=5.0, class_weight=None, dual=False,\n",
              "                                    fit_intercept=True, intercept_scaling=1,\n",
              "                                    l1_ratio=None, max_iter=100,\n",
              "                                    multi_class='auto', n_jobs=None,\n",
              "                                    penalty='l2', random_state=None,\n",
              "                                    solver='lbfgs', tol=0.0001, verbose=0,\n",
              "                                    warm_start=False))],\n",
              "         verbose=False)"
            ]
          },
          "metadata": {
            "tags": []
          },
          "execution_count": 252
        }
      ]
    },
    {
      "cell_type": "code",
      "metadata": {
        "id": "hedcfarCWRzG",
        "colab_type": "code",
        "colab": {}
      },
      "source": [
        "result_df.loc['LogisticRegression', 'AS train'] = AS(y_train, classif3.predict(X_train))\n",
        "result_df.loc['LogisticRegression', 'PS train'] = PS(y_train, classif3.predict(X_train), average='micro')\n",
        "result_df.loc['LogisticRegression', 'RS train'] = RS(y_train, classif3.predict(X_train), average='micro')\n",
        "result_df.loc['LogisticRegression', 'AS test']  = AS(y_test , classif3.predict(X_test))\n",
        "result_df.loc['LogisticRegression', 'PS test']  = PS(y_test , classif3.predict(X_test), average='micro')\n",
        "result_df.loc['LogisticRegression', 'RS test']  = RS(y_test , classif3.predict(X_test), average='micro')"
      ],
      "execution_count": 0,
      "outputs": []
    },
    {
      "cell_type": "markdown",
      "metadata": {
        "id": "2HTc1jvPmiw6",
        "colab_type": "text"
      },
      "source": [
        "### Результаты сравнения по метрикам accuracy и F1"
      ]
    },
    {
      "cell_type": "code",
      "metadata": {
        "id": "etsDUyTphUnd",
        "colab_type": "code",
        "colab": {
          "base_uri": "https://localhost:8080/",
          "height": 34
        },
        "outputId": "126cd934-8bdb-4e59-bef1-dc49bd6e78c4"
      },
      "source": [
        "print('F1 for MultiNB: ', f1_score(y_train, classif.predict(X_train), average = 'micro'))"
      ],
      "execution_count": 254,
      "outputs": [
        {
          "output_type": "stream",
          "text": [
            "F1 for MultiNB:  0.6533456662952764\n"
          ],
          "name": "stdout"
        }
      ]
    },
    {
      "cell_type": "code",
      "metadata": {
        "id": "eVBzujuljjo9",
        "colab_type": "code",
        "colab": {
          "base_uri": "https://localhost:8080/",
          "height": 34
        },
        "outputId": "4174fe2f-f48a-4edc-e0e4-136d4ce9f98b"
      },
      "source": [
        "print('F1 for LSVC: ', f1_score(y_train, classif2.predict(X_train), average = 'micro'))"
      ],
      "execution_count": 255,
      "outputs": [
        {
          "output_type": "stream",
          "text": [
            "F1 for LSVC:  0.9758876579284829\n"
          ],
          "name": "stdout"
        }
      ]
    },
    {
      "cell_type": "code",
      "metadata": {
        "id": "zwp39iadjp6t",
        "colab_type": "code",
        "colab": {
          "base_uri": "https://localhost:8080/",
          "height": 34
        },
        "outputId": "2245c89d-1ae6-4bd2-bc84-cf00eb3d9beb"
      },
      "source": [
        "print('F1 for LR: ', f1_score(y_train, classif3.predict(X_train), average = 'micro'))"
      ],
      "execution_count": 256,
      "outputs": [
        {
          "output_type": "stream",
          "text": [
            "F1 for LR:  0.9467300132439194\n"
          ],
          "name": "stdout"
        }
      ]
    },
    {
      "cell_type": "code",
      "metadata": {
        "id": "IhLuF7X1RnzO",
        "colab_type": "code",
        "colab": {
          "base_uri": "https://localhost:8080/",
          "height": 142
        },
        "outputId": "72185f29-e3e5-4a76-9e9a-35a62a5f1fef"
      },
      "source": [
        "result_df"
      ],
      "execution_count": 257,
      "outputs": [
        {
          "output_type": "execute_result",
          "data": {
            "text/html": [
              "<div>\n",
              "<style scoped>\n",
              "    .dataframe tbody tr th:only-of-type {\n",
              "        vertical-align: middle;\n",
              "    }\n",
              "\n",
              "    .dataframe tbody tr th {\n",
              "        vertical-align: top;\n",
              "    }\n",
              "\n",
              "    .dataframe thead th {\n",
              "        text-align: right;\n",
              "    }\n",
              "</style>\n",
              "<table border=\"1\" class=\"dataframe\">\n",
              "  <thead>\n",
              "    <tr style=\"text-align: right;\">\n",
              "      <th></th>\n",
              "      <th>AS train</th>\n",
              "      <th>PS train</th>\n",
              "      <th>RS train</th>\n",
              "      <th>AS test</th>\n",
              "      <th>PS test</th>\n",
              "      <th>RS test</th>\n",
              "    </tr>\n",
              "  </thead>\n",
              "  <tbody>\n",
              "    <tr>\n",
              "      <th>MultinomialNB</th>\n",
              "      <td>0.653346</td>\n",
              "      <td>0.653346</td>\n",
              "      <td>0.653346</td>\n",
              "      <td>0.607397</td>\n",
              "      <td>0.607397</td>\n",
              "      <td>0.607397</td>\n",
              "    </tr>\n",
              "    <tr>\n",
              "      <th>LinearSVC</th>\n",
              "      <td>0.975888</td>\n",
              "      <td>0.975888</td>\n",
              "      <td>0.975888</td>\n",
              "      <td>0.722765</td>\n",
              "      <td>0.722765</td>\n",
              "      <td>0.722765</td>\n",
              "    </tr>\n",
              "    <tr>\n",
              "      <th>LogisticRegression</th>\n",
              "      <td>0.946730</td>\n",
              "      <td>0.946730</td>\n",
              "      <td>0.946730</td>\n",
              "      <td>0.722470</td>\n",
              "      <td>0.722470</td>\n",
              "      <td>0.722470</td>\n",
              "    </tr>\n",
              "  </tbody>\n",
              "</table>\n",
              "</div>"
            ],
            "text/plain": [
              "                    AS train  PS train  RS train   AS test   PS test   RS test\n",
              "MultinomialNB       0.653346  0.653346  0.653346  0.607397  0.607397  0.607397\n",
              "LinearSVC           0.975888  0.975888  0.975888  0.722765  0.722765  0.722765\n",
              "LogisticRegression  0.946730  0.946730  0.946730  0.722470  0.722470  0.722470"
            ]
          },
          "metadata": {
            "tags": []
          },
          "execution_count": 257
        }
      ]
    },
    {
      "cell_type": "markdown",
      "metadata": {
        "id": "C5qpVk3k-sCM",
        "colab_type": "text"
      },
      "source": [
        "### Вывод: \n",
        "Методы классификации текстов на основе метода наивного Байеса работают хуже логистической регрессии. Возможно, это связано с тем, что количество классов 5, а не 2.\n",
        "При логистической регрессии точность (accuracy) достигает 94%.\n",
        "Лучше всего с задачей справилась модель LinearSVC - точность порядка 97%.\n"
      ]
    }
  ]
}