{
  "nbformat": 4,
  "nbformat_minor": 0,
  "metadata": {
    "kernelspec": {
      "display_name": "Python 3",
      "language": "python",
      "name": "python3"
    },
    "language_info": {
      "codemirror_mode": {
        "name": "ipython",
        "version": 3
      },
      "file_extension": ".py",
      "mimetype": "text/x-python",
      "name": "python",
      "nbconvert_exporter": "python",
      "pygments_lexer": "ipython3",
      "version": "3.7.1"
    },
    "colab": {
      "name": "ML_lab6.ipynb",
      "provenance": [],
      "collapsed_sections": []
    }
  },
  "cells": [
    {
      "cell_type": "markdown",
      "metadata": {
        "id": "zA30PVnjs_Wh",
        "colab_type": "text"
      },
      "source": [
        "# ЛР6 по курсу Методы машинного обучения\n",
        "Ансамбли моделей машинного обучения"
      ]
    },
    {
      "cell_type": "markdown",
      "metadata": {
        "id": "kN0EQ76Ps_Wi",
        "colab_type": "text"
      },
      "source": [
        "Цель лабораторной работы: изучение ансамблей моделей машинного обучения.\n",
        "Задание:\n",
        "\n",
        "1. Выберите набор данных (датасет) для решения задачи классификации или регресии.\n",
        "2. В случае необходимости проведите удаление или заполнение пропусков и кодирование категориальных признаков.\n",
        "3. С использованием метода train_test_split разделите выборку на обучающую и тестовую.\n",
        "4. Обучите две ансамблевые модели. Оцените качество моделей с помощью одной из подходящих для задачи метрик. \n",
        "Сравните качество полученных моделей.\n",
        "5. Произведите для каждой модели подбор значений одного гиперпараметра.\n",
        "В зависимости от используемой библиотеки можно применять функцию GridSearchCV, использовать перебор \n",
        "параметров в цикле, или использовать другие методы.\n",
        "6. Повторите пункт 4 для найденных оптимальных значений гиперпараметров. \n",
        "Сравните качество полученных моделей с качеством моделей, полученных в пункте 4."
      ]
    },
    {
      "cell_type": "markdown",
      "metadata": {
        "id": "C7awnSztwVH9",
        "colab_type": "text"
      },
      "source": [
        "## Задание 1. Выберите набор данных (датасет) для решения задачи классификации или регресии."
      ]
    },
    {
      "cell_type": "markdown",
      "metadata": {
        "id": "xkriWsEW0kZf",
        "colab_type": "text"
      },
      "source": [
        "Для ЛР был использован набор данных о выявлении заболеваний сердца **heart-disease**. Датасет содержит следующие колонки:\n",
        "* age\n",
        "* sex\n",
        "* chest pain type (4 values)\n",
        "* resting blood pressure\n",
        "* serum cholestoral in mg/dl\n",
        "* fasting blood sugar > 120 mg/dl\n",
        "* resting electrocardiographic results (values 0,1,2)\n",
        "* maximum heart rate achieved\n",
        "* exercise induced angina\n",
        "* oldpeak = ST depression induced by exercise relative to rest\n",
        "* the slope of the peak exercise ST segment\n",
        "* number of major vessels (0-3) colored by flourosopy\n",
        "* thal: 3 = normal; 6 = fixed defect; 7 = reversable defect"
      ]
    },
    {
      "cell_type": "code",
      "metadata": {
        "id": "989kan7ps_Wj",
        "colab_type": "code",
        "colab": {
          "base_uri": "https://localhost:8080/",
          "height": 204
        },
        "outputId": "d233645d-b848-4a67-b785-16922f3bbe6d"
      },
      "source": [
        "import numpy as np\n",
        "import pandas as pd\n",
        "import seaborn as sns\n",
        "import matplotlib.pyplot as plt\n",
        "%matplotlib inline \n",
        "sns.set(style=\"ticks\")\n",
        "data = pd.read_csv('/content/drive/My Drive/MMO_Datasets/heart.csv',sep=\",\")\n",
        "data.head(10)"
      ],
      "execution_count": 23,
      "outputs": [
        {
          "output_type": "execute_result",
          "data": {
            "text/html": [
              "<div>\n",
              "<style scoped>\n",
              "    .dataframe tbody tr th:only-of-type {\n",
              "        vertical-align: middle;\n",
              "    }\n",
              "\n",
              "    .dataframe tbody tr th {\n",
              "        vertical-align: top;\n",
              "    }\n",
              "\n",
              "    .dataframe thead th {\n",
              "        text-align: right;\n",
              "    }\n",
              "</style>\n",
              "<table border=\"1\" class=\"dataframe\">\n",
              "  <thead>\n",
              "    <tr style=\"text-align: right;\">\n",
              "      <th></th>\n",
              "      <th>age</th>\n",
              "      <th>sex</th>\n",
              "      <th>cp</th>\n",
              "      <th>trestbps</th>\n",
              "      <th>chol</th>\n",
              "      <th>fbs</th>\n",
              "      <th>restecg</th>\n",
              "      <th>thalach</th>\n",
              "      <th>exang</th>\n",
              "      <th>oldpeak</th>\n",
              "      <th>slope</th>\n",
              "      <th>ca</th>\n",
              "      <th>thal</th>\n",
              "      <th>target</th>\n",
              "    </tr>\n",
              "  </thead>\n",
              "  <tbody>\n",
              "    <tr>\n",
              "      <th>0</th>\n",
              "      <td>63</td>\n",
              "      <td>1</td>\n",
              "      <td>3</td>\n",
              "      <td>145</td>\n",
              "      <td>233</td>\n",
              "      <td>1</td>\n",
              "      <td>0</td>\n",
              "      <td>150</td>\n",
              "      <td>0</td>\n",
              "      <td>2.3</td>\n",
              "      <td>0</td>\n",
              "      <td>0</td>\n",
              "      <td>1</td>\n",
              "      <td>1</td>\n",
              "    </tr>\n",
              "    <tr>\n",
              "      <th>1</th>\n",
              "      <td>37</td>\n",
              "      <td>1</td>\n",
              "      <td>2</td>\n",
              "      <td>130</td>\n",
              "      <td>250</td>\n",
              "      <td>0</td>\n",
              "      <td>1</td>\n",
              "      <td>187</td>\n",
              "      <td>0</td>\n",
              "      <td>3.5</td>\n",
              "      <td>0</td>\n",
              "      <td>0</td>\n",
              "      <td>2</td>\n",
              "      <td>1</td>\n",
              "    </tr>\n",
              "    <tr>\n",
              "      <th>2</th>\n",
              "      <td>41</td>\n",
              "      <td>0</td>\n",
              "      <td>1</td>\n",
              "      <td>130</td>\n",
              "      <td>204</td>\n",
              "      <td>0</td>\n",
              "      <td>0</td>\n",
              "      <td>172</td>\n",
              "      <td>0</td>\n",
              "      <td>1.4</td>\n",
              "      <td>2</td>\n",
              "      <td>0</td>\n",
              "      <td>2</td>\n",
              "      <td>1</td>\n",
              "    </tr>\n",
              "    <tr>\n",
              "      <th>3</th>\n",
              "      <td>56</td>\n",
              "      <td>1</td>\n",
              "      <td>1</td>\n",
              "      <td>120</td>\n",
              "      <td>236</td>\n",
              "      <td>0</td>\n",
              "      <td>1</td>\n",
              "      <td>178</td>\n",
              "      <td>0</td>\n",
              "      <td>0.8</td>\n",
              "      <td>2</td>\n",
              "      <td>0</td>\n",
              "      <td>2</td>\n",
              "      <td>1</td>\n",
              "    </tr>\n",
              "    <tr>\n",
              "      <th>4</th>\n",
              "      <td>57</td>\n",
              "      <td>0</td>\n",
              "      <td>0</td>\n",
              "      <td>120</td>\n",
              "      <td>354</td>\n",
              "      <td>0</td>\n",
              "      <td>1</td>\n",
              "      <td>163</td>\n",
              "      <td>1</td>\n",
              "      <td>0.6</td>\n",
              "      <td>2</td>\n",
              "      <td>0</td>\n",
              "      <td>2</td>\n",
              "      <td>1</td>\n",
              "    </tr>\n",
              "  </tbody>\n",
              "</table>\n",
              "</div>"
            ],
            "text/plain": [
              "   age  sex  cp  trestbps  chol  fbs  ...  exang  oldpeak  slope  ca  thal  target\n",
              "0   63    1   3       145   233    1  ...      0      2.3      0   0     1       1\n",
              "1   37    1   2       130   250    0  ...      0      3.5      0   0     2       1\n",
              "2   41    0   1       130   204    0  ...      0      1.4      2   0     2       1\n",
              "3   56    1   1       120   236    0  ...      0      0.8      2   0     2       1\n",
              "4   57    0   0       120   354    0  ...      1      0.6      2   0     2       1\n",
              "\n",
              "[5 rows x 14 columns]"
            ]
          },
          "metadata": {
            "tags": []
          },
          "execution_count": 23
        }
      ]
    },
    {
      "cell_type": "code",
      "metadata": {
        "id": "Lv4xu7tetmEO",
        "colab_type": "code",
        "colab": {
          "base_uri": "https://localhost:8080/",
          "height": 34
        },
        "outputId": "08347996-d1c0-4e90-d6a8-2dd359bf25ec"
      },
      "source": [
        "from google.colab import drive\n",
        "drive.mount('/content/drive')"
      ],
      "execution_count": 24,
      "outputs": [
        {
          "output_type": "stream",
          "text": [
            "Drive already mounted at /content/drive; to attempt to forcibly remount, call drive.mount(\"/content/drive\", force_remount=True).\n"
          ],
          "name": "stdout"
        }
      ]
    },
    {
      "cell_type": "markdown",
      "metadata": {
        "id": "U3g8R5YDw2ZA",
        "colab_type": "text"
      },
      "source": [
        "# Задание 2. В случае необходимости проведите удаление или заполнение пропусков и кодирование категориальных признаков."
      ]
    },
    {
      "cell_type": "code",
      "metadata": {
        "id": "rVi3VR57s_Wo",
        "colab_type": "code",
        "colab": {
          "base_uri": "https://localhost:8080/",
          "height": 34
        },
        "outputId": "d8f2ffba-478a-47b1-ada3-826abc350e6d"
      },
      "source": [
        "data.shape"
      ],
      "execution_count": 25,
      "outputs": [
        {
          "output_type": "execute_result",
          "data": {
            "text/plain": [
              "(303, 14)"
            ]
          },
          "metadata": {
            "tags": []
          },
          "execution_count": 25
        }
      ]
    },
    {
      "cell_type": "code",
      "metadata": {
        "id": "tnTzUiO8s_Ws",
        "colab_type": "code",
        "colab": {
          "base_uri": "https://localhost:8080/",
          "height": 272
        },
        "outputId": "335aac5f-a472-423a-d009-38b25044a653"
      },
      "source": [
        "# Проверка на пустые значения\n",
        "data.isnull().sum()"
      ],
      "execution_count": 26,
      "outputs": [
        {
          "output_type": "execute_result",
          "data": {
            "text/plain": [
              "age         0\n",
              "sex         0\n",
              "cp          0\n",
              "trestbps    0\n",
              "chol        0\n",
              "fbs         0\n",
              "restecg     0\n",
              "thalach     0\n",
              "exang       0\n",
              "oldpeak     0\n",
              "slope       0\n",
              "ca          0\n",
              "thal        0\n",
              "target      0\n",
              "dtype: int64"
            ]
          },
          "metadata": {
            "tags": []
          },
          "execution_count": 26
        }
      ]
    },
    {
      "cell_type": "markdown",
      "metadata": {
        "id": "Gy7aE-pms_Wv",
        "colab_type": "text"
      },
      "source": [
        "### Масштабирование"
      ]
    },
    {
      "cell_type": "code",
      "metadata": {
        "scrolled": true,
        "id": "OHZFVA0Es_Ww",
        "colab_type": "code",
        "colab": {
          "base_uri": "https://localhost:8080/",
          "height": 238
        },
        "outputId": "5ed276f4-2611-409b-c40f-79c9a9a09be1"
      },
      "source": [
        "from sklearn.preprocessing import MinMaxScaler\n",
        "import warnings\n",
        "warnings.filterwarnings('ignore')\n",
        "\n",
        "# Create the scaler object with a range of 0-1\n",
        "scaler = MinMaxScaler(feature_range=(0, 1))\n",
        "# Fit on data, transform  data\n",
        "scaler.fit_transform(data)\n"
      ],
      "execution_count": 27,
      "outputs": [
        {
          "output_type": "execute_result",
          "data": {
            "text/plain": [
              "array([[0.70833333, 1.        , 1.        , ..., 0.        , 0.33333333,\n",
              "        1.        ],\n",
              "       [0.16666667, 1.        , 0.66666667, ..., 0.        , 0.66666667,\n",
              "        1.        ],\n",
              "       [0.25      , 0.        , 0.33333333, ..., 0.        , 0.66666667,\n",
              "        1.        ],\n",
              "       ...,\n",
              "       [0.8125    , 1.        , 0.        , ..., 0.5       , 1.        ,\n",
              "        0.        ],\n",
              "       [0.58333333, 1.        , 0.        , ..., 0.25      , 1.        ,\n",
              "        0.        ],\n",
              "       [0.58333333, 0.        , 0.33333333, ..., 0.25      , 0.66666667,\n",
              "        0.        ]])"
            ]
          },
          "metadata": {
            "tags": []
          },
          "execution_count": 27
        }
      ]
    },
    {
      "cell_type": "code",
      "metadata": {
        "id": "hL78u8oqs_W0",
        "colab_type": "code",
        "colab": {}
      },
      "source": [
        "from sklearn import svm\n",
        "from sklearn.neighbors import KNeighborsClassifier\n",
        "from sklearn.ensemble import RandomForestClassifier\n",
        "from sklearn.linear_model import LogisticRegression\n",
        "from sklearn.metrics import roc_curve, auc\n",
        "import pylab as pl"
      ],
      "execution_count": 0,
      "outputs": []
    },
    {
      "cell_type": "code",
      "metadata": {
        "id": "PbmGN2CNs_W5",
        "colab_type": "code",
        "colab": {}
      },
      "source": [
        "# Пустых значений нет\n",
        "# Перейдем к разделению выборки на обучающую и тестовую.\n",
        "X = data.drop('target',axis = 1).values\n",
        "y = data['target'].values"
      ],
      "execution_count": 0,
      "outputs": []
    },
    {
      "cell_type": "markdown",
      "metadata": {
        "id": "4CaohKY0xidn",
        "colab_type": "text"
      },
      "source": [
        "## Задание 3. С использованием метода train_test_split разделите выборку на обучающую и тестовую."
      ]
    },
    {
      "cell_type": "code",
      "metadata": {
        "id": "GequMs3Cs_W9",
        "colab_type": "code",
        "colab": {}
      },
      "source": [
        "from sklearn.model_selection import train_test_split\n",
        "kfold = 5 #количество подвыборок для валидации\n",
        "itog_val = {} #список для записи результатов кросс валидации разных алгоритмов"
      ],
      "execution_count": 0,
      "outputs": []
    },
    {
      "cell_type": "markdown",
      "metadata": {
        "id": "6LJLqikAx4x7",
        "colab_type": "text"
      },
      "source": [
        "## Задание 4. Обучите две ансамблевые модели. Оцените качество моделей с помощью одной из подходящих для задачи метрик. Сравните качество полученных моделей."
      ]
    },
    {
      "cell_type": "code",
      "metadata": {
        "id": "rHbe1Pzgs_XA",
        "colab_type": "code",
        "colab": {}
      },
      "source": [
        "ROCtrainTRN, ROCtestTRN, ROCtrainTRG, ROCtestTRG = train_test_split(X, y, test_size=0.25) "
      ],
      "execution_count": 0,
      "outputs": []
    },
    {
      "cell_type": "code",
      "metadata": {
        "id": "ePlC5cuVs_XD",
        "colab_type": "code",
        "colab": {}
      },
      "source": [
        "model_rfc = RandomForestClassifier(n_estimators = 70) #в параметре передаем кол-во деревьев\n",
        "model_knc = KNeighborsClassifier(n_neighbors = 18) #в параметре передаем кол-во соседей\n",
        "model_lr = LogisticRegression(penalty='l2', tol=0.01) \n",
        "model_svc = svm.SVC() #по умолчанию kernek='rbf'"
      ],
      "execution_count": 0,
      "outputs": []
    },
    {
      "cell_type": "code",
      "metadata": {
        "id": "dQIu_Airs_XG",
        "colab_type": "code",
        "colab": {}
      },
      "source": [
        "from sklearn.model_selection import cross_val_score"
      ],
      "execution_count": 0,
      "outputs": []
    },
    {
      "cell_type": "markdown",
      "metadata": {
        "id": "h5jpXLxMs_XJ",
        "colab_type": "text"
      },
      "source": [
        "SVM - метод опорных векторов(SVC): \n",
        "Суть работы “Машин” Опорных Векторов проста: \n",
        "  алгоритм создает линию или гиперплоскость, которая разделяет данные на классы.\n",
        "Метод k-ближайших соседей(KNeighborsClassifier)\n",
        "Random forest(RandomForestClassifier)\n",
        "Логистическая регрессия ( LogisticRegression)"
      ]
    },
    {
      "cell_type": "code",
      "metadata": {
        "id": "slRD-XBes_XK",
        "colab_type": "code",
        "colab": {}
      },
      "source": [
        "from sklearn.ensemble import ExtraTreesClassifier, ExtraTreesRegressor"
      ],
      "execution_count": 0,
      "outputs": []
    },
    {
      "cell_type": "code",
      "metadata": {
        "id": "eY8pY6kls_XO",
        "colab_type": "code",
        "colab": {}
      },
      "source": [
        "scores = cross_val_score(model_rfc, X, y, cv = kfold)\n",
        "itog_val['RandomForestClassifier'] = scores.mean()\n",
        "scores = cross_val_score(model_knc, X, y, cv = kfold)\n",
        "itog_val['KNeighborsClassifier'] = scores.mean()\n",
        "scores = cross_val_score(model_lr, X, y, cv = kfold)\n",
        "itog_val['LogisticRegression'] = scores.mean()\n",
        "scores = cross_val_score(model_svc, X, y, cv = kfold)\n",
        "itog_val['SVC'] = scores.mean()"
      ],
      "execution_count": 0,
      "outputs": []
    },
    {
      "cell_type": "code",
      "metadata": {
        "id": "_lIH6OP8s_XQ",
        "colab_type": "code",
        "colab": {
          "base_uri": "https://localhost:8080/",
          "height": 399
        },
        "outputId": "c4ee6d99-a296-42d5-f885-da0eadee104f"
      },
      "source": [
        "import matplotlib.pyplot as plt\n",
        "plt.style.use('bmh')\n",
        "data.from_dict(data = itog_val, orient='index').plot(kind='bar', legend=False)"
      ],
      "execution_count": 36,
      "outputs": [
        {
          "output_type": "execute_result",
          "data": {
            "text/plain": [
              "<matplotlib.axes._subplots.AxesSubplot at 0x7fa04d5e8fd0>"
            ]
          },
          "metadata": {
            "tags": []
          },
          "execution_count": 36
        },
        {
          "output_type": "display_data",
          "data": {
            "image/png": "[encoded data removed]",
            "text/plain": [
              "<Figure size 432x288 with 1 Axes>"
            ]
          },
          "metadata": {
            "tags": []
          }
        }
      ]
    },
    {
      "cell_type": "code",
      "metadata": {
        "id": "EF0M_E_Zs_XU",
        "colab_type": "code",
        "colab": {
          "base_uri": "https://localhost:8080/",
          "height": 406
        },
        "outputId": "7803c57a-9a0a-4725-b514-27b25c30b0a5"
      },
      "source": [
        "pl.clf()\n",
        "plt.figure(figsize=(8,6))\n",
        "#SVC\n",
        "model_svc.probability = True\n",
        "probas = model_svc.fit(ROCtrainTRN, ROCtrainTRG).predict_proba(ROCtestTRN)\n",
        "fpr, tpr, thresholds = roc_curve(ROCtestTRG, probas[:, 1])\n",
        "roc_auc  = auc(fpr, tpr)\n",
        "pl.plot(fpr, tpr, label='%s ROC (area = %0.2f)' % ('SVC', roc_auc))\n",
        "#RandomForestClassifier\n",
        "probas = model_rfc.fit(ROCtrainTRN, ROCtrainTRG).predict_proba(ROCtestTRN)\n",
        "fpr, tpr, thresholds = roc_curve(ROCtestTRG, probas[:, 1])\n",
        "roc_auc  = auc(fpr, tpr)\n",
        "pl.plot(fpr, tpr, label='%s ROC (area = %0.2f)' % ('RandonForest',roc_auc))\n",
        "#KNeighborsClassifier\n",
        "probas = model_knc.fit(ROCtrainTRN, ROCtrainTRG).predict_proba(ROCtestTRN)\n",
        "fpr, tpr, thresholds = roc_curve(ROCtestTRG, probas[:, 1])\n",
        "roc_auc  = auc(fpr, tpr)\n",
        "pl.plot(fpr, tpr, label='%s ROC (area = %0.2f)' % ('KNeighborsClassifier',roc_auc))\n",
        "#LogisticRegression\n",
        "probas = model_lr.fit(ROCtrainTRN, ROCtrainTRG).predict_proba(ROCtestTRN)\n",
        "fpr, tpr, thresholds = roc_curve(ROCtestTRG, probas[:, 1])\n",
        "roc_auc  = auc(fpr, tpr)\n",
        "pl.plot(fpr, tpr, label='%s ROC (area = %0.2f)' % ('LogisticRegression',roc_auc))\n",
        "pl.plot([0, 1], [0, 1], 'k--')\n",
        "pl.xlim([-0.1, 1.1])\n",
        "pl.ylim([-0.1, 1.1])\n",
        "pl.xlabel('False Positive Rate')\n",
        "pl.ylabel('True Positive Rate')\n",
        "pl.legend(loc=0, fontsize='small')\n",
        "pl.show()"
      ],
      "execution_count": 37,
      "outputs": [
        {
          "output_type": "display_data",
          "data": {
            "text/plain": [
              "<Figure size 432x288 with 0 Axes>"
            ]
          },
          "metadata": {
            "tags": []
          }
        },
        {
          "output_type": "display_data",
          "data": {
            "image/png": "[encoded data removed]",
            "text/plain": [
              "<Figure size 576x432 with 1 Axes>"
            ]
          },
          "metadata": {
            "tags": []
          }
        }
      ]
    },
    {
      "cell_type": "markdown",
      "metadata": {
        "id": "gQg-2k9ByzQu",
        "colab_type": "text"
      },
      "source": [
        "## Задание 5. Произведите для каждой модели подбор значений одного гиперпараметра. В зависимости от используемой библиотеки можно применять функцию GridSearchCV, использовать перебор параметров в цикле, или использовать другие методы."
      ]
    },
    {
      "cell_type": "code",
      "metadata": {
        "id": "8jqcZAF3s_XY",
        "colab_type": "code",
        "colab": {}
      },
      "source": [
        "from sklearn.ensemble import RandomForestClassifier, AdaBoostClassifier\n",
        "from sklearn.metrics import accuracy_score\n",
        "from sklearn.metrics import balanced_accuracy_score\n",
        "from sklearn.metrics import precision_score, recall_score, f1_score"
      ],
      "execution_count": 0,
      "outputs": []
    },
    {
      "cell_type": "code",
      "metadata": {
        "id": "BcvnfI3ls_Xb",
        "colab_type": "code",
        "colab": {}
      },
      "source": [
        "from sklearn.model_selection import train_test_split\n",
        "X_train, X_test, y_train, y_test = train_test_split(\n",
        "    X, y, test_size=0.35, random_state=1)"
      ],
      "execution_count": 0,
      "outputs": []
    },
    {
      "cell_type": "markdown",
      "metadata": {
        "id": "i1YPC7DIzOPf",
        "colab_type": "text"
      },
      "source": [
        "Масштабирование"
      ]
    },
    {
      "cell_type": "code",
      "metadata": {
        "id": "NLugUmmfs_Xf",
        "colab_type": "code",
        "colab": {
          "base_uri": "https://localhost:8080/",
          "height": 238
        },
        "outputId": "7a3089e9-df76-44f6-e751-1ae2681fb922"
      },
      "source": [
        "from sklearn.preprocessing import MinMaxScaler\n",
        "import warnings\n",
        "warnings.filterwarnings('ignore')\n",
        "scaler = MinMaxScaler(feature_range=(0, 1))\n",
        "scaler.fit_transform(X)\n",
        "scaler.fit_transform(X_train)\n",
        "scaler.fit_transform(X_test)"
      ],
      "execution_count": 40,
      "outputs": [
        {
          "output_type": "execute_result",
          "data": {
            "text/plain": [
              "array([[0.77777778, 0.        , 0.        , ..., 0.        , 0.75      ,\n",
              "        1.        ],\n",
              "       [0.61111111, 1.        , 0.33333333, ..., 1.        , 0.        ,\n",
              "        1.        ],\n",
              "       [0.38888889, 1.        , 0.        , ..., 1.        , 0.5       ,\n",
              "        1.        ],\n",
              "       ...,\n",
              "       [0.52777778, 1.        , 0.        , ..., 0.        , 0.        ,\n",
              "        1.        ],\n",
              "       [0.66666667, 1.        , 0.33333333, ..., 0.5       , 1.        ,\n",
              "        1.        ],\n",
              "       [0.38888889, 1.        , 0.33333333, ..., 0.        , 0.        ,\n",
              "        1.        ]])"
            ]
          },
          "metadata": {
            "tags": []
          },
          "execution_count": 40
        }
      ]
    },
    {
      "cell_type": "code",
      "metadata": {
        "id": "BD-KlF8Ss_Xi",
        "colab_type": "code",
        "colab": {}
      },
      "source": [
        "rfc = RandomForestClassifier().fit(X_train, y_train)\n",
        "predicted_rfc = rfc.predict(X_test)"
      ],
      "execution_count": 0,
      "outputs": []
    },
    {
      "cell_type": "code",
      "metadata": {
        "id": "RJw8yTENs_Xl",
        "colab_type": "code",
        "colab": {
          "base_uri": "https://localhost:8080/",
          "height": 34
        },
        "outputId": "c77f5942-8ee9-4fe1-c545-768a8fa4ce90"
      },
      "source": [
        "accuracy_score(y_test, predicted_rfc)"
      ],
      "execution_count": 42,
      "outputs": [
        {
          "output_type": "execute_result",
          "data": {
            "text/plain": [
              "0.7476635514018691"
            ]
          },
          "metadata": {
            "tags": []
          },
          "execution_count": 42
        }
      ]
    },
    {
      "cell_type": "code",
      "metadata": {
        "id": "VwitlrTDs_Xo",
        "colab_type": "code",
        "colab": {
          "base_uri": "https://localhost:8080/",
          "height": 34
        },
        "outputId": "a0b727c3-5c5a-4577-8f04-c9f9569521bb"
      },
      "source": [
        "balanced_accuracy_score(y_test, predicted_rfc)"
      ],
      "execution_count": 43,
      "outputs": [
        {
          "output_type": "execute_result",
          "data": {
            "text/plain": [
              "0.7471929824561403"
            ]
          },
          "metadata": {
            "tags": []
          },
          "execution_count": 43
        }
      ]
    },
    {
      "cell_type": "code",
      "metadata": {
        "id": "87w0QHH3s_Xr",
        "colab_type": "code",
        "colab": {
          "base_uri": "https://localhost:8080/",
          "height": 34
        },
        "outputId": "2af884c2-5b39-45e2-cb90-0cc0555eedc5"
      },
      "source": [
        "(precision_score(y_test, predicted_rfc, average='weighted'), \n",
        " recall_score(y_test, predicted_rfc, average='weighted'))"
      ],
      "execution_count": 44,
      "outputs": [
        {
          "output_type": "execute_result",
          "data": {
            "text/plain": [
              "(0.748059504175502, 0.7476635514018691)"
            ]
          },
          "metadata": {
            "tags": []
          },
          "execution_count": 44
        }
      ]
    },
    {
      "cell_type": "code",
      "metadata": {
        "id": "YLuEx7y7s_Xu",
        "colab_type": "code",
        "colab": {
          "base_uri": "https://localhost:8080/",
          "height": 34
        },
        "outputId": "d07592ee-dfd6-4cf6-eec7-3277f66766dc"
      },
      "source": [
        "f1_score(y_test, predicted_rfc, average='weighted')"
      ],
      "execution_count": 45,
      "outputs": [
        {
          "output_type": "execute_result",
          "data": {
            "text/plain": [
              "0.7477962087830651"
            ]
          },
          "metadata": {
            "tags": []
          },
          "execution_count": 45
        }
      ]
    },
    {
      "cell_type": "code",
      "metadata": {
        "id": "iHcTfj5rs_Xw",
        "colab_type": "code",
        "colab": {}
      },
      "source": [
        "abc = AdaBoostClassifier().fit(X_train, y_train)\n",
        "predicted_abc = abc.predict(X_test)"
      ],
      "execution_count": 0,
      "outputs": []
    },
    {
      "cell_type": "code",
      "metadata": {
        "id": "tyvuNKNWs_Xz",
        "colab_type": "code",
        "colab": {
          "base_uri": "https://localhost:8080/",
          "height": 34
        },
        "outputId": "1a310e3a-a2e9-41b1-bf2e-14aaeb1575af"
      },
      "source": [
        "accuracy_score(y_test, predicted_abc)"
      ],
      "execution_count": 47,
      "outputs": [
        {
          "output_type": "execute_result",
          "data": {
            "text/plain": [
              "0.7289719626168224"
            ]
          },
          "metadata": {
            "tags": []
          },
          "execution_count": 47
        }
      ]
    },
    {
      "cell_type": "code",
      "metadata": {
        "id": "GDtgPjVls_X2",
        "colab_type": "code",
        "colab": {
          "base_uri": "https://localhost:8080/",
          "height": 34
        },
        "outputId": "e5e414a3-2a1a-469d-e8cc-d7875b915f93"
      },
      "source": [
        "balanced_accuracy_score(y_test, predicted_abc)"
      ],
      "execution_count": 48,
      "outputs": [
        {
          "output_type": "execute_result",
          "data": {
            "text/plain": [
              "0.7284210526315789"
            ]
          },
          "metadata": {
            "tags": []
          },
          "execution_count": 48
        }
      ]
    },
    {
      "cell_type": "code",
      "metadata": {
        "id": "kzV5ro5es_X5",
        "colab_type": "code",
        "colab": {
          "base_uri": "https://localhost:8080/",
          "height": 34
        },
        "outputId": "17d7615b-a489-41ad-9377-75b6d67ae368"
      },
      "source": [
        "(precision_score(y_test, predicted_abc, average='weighted'), \n",
        " recall_score(y_test, predicted_abc, average='weighted'))"
      ],
      "execution_count": 49,
      "outputs": [
        {
          "output_type": "execute_result",
          "data": {
            "text/plain": [
              "(0.7293842770753162, 0.7289719626168224)"
            ]
          },
          "metadata": {
            "tags": []
          },
          "execution_count": 49
        }
      ]
    },
    {
      "cell_type": "code",
      "metadata": {
        "id": "aLP6ywO-s_X7",
        "colab_type": "code",
        "colab": {
          "base_uri": "https://localhost:8080/",
          "height": 34
        },
        "outputId": "568ffe97-631a-438a-8b56-1ddebf1489e0"
      },
      "source": [
        "f1_score(y_test, predicted_abc, average='weighted')"
      ],
      "execution_count": 50,
      "outputs": [
        {
          "output_type": "execute_result",
          "data": {
            "text/plain": [
              "0.7291144464706996"
            ]
          },
          "metadata": {
            "tags": []
          },
          "execution_count": 50
        }
      ]
    },
    {
      "cell_type": "code",
      "metadata": {
        "id": "-kFC4aWFs_X-",
        "colab_type": "code",
        "colab": {
          "base_uri": "https://localhost:8080/",
          "height": 51
        },
        "outputId": "f5310666-9360-4127-9db3-ffba94b36d5a"
      },
      "source": [
        "rfc_n_range = np.array(range(5,100,5))\n",
        "rfc_tuned_parameters = [{'n_estimators': rfc_n_range}]\n",
        "rfc_tuned_parameters"
      ],
      "execution_count": 51,
      "outputs": [
        {
          "output_type": "execute_result",
          "data": {
            "text/plain": [
              "[{'n_estimators': array([ 5, 10, 15, 20, 25, 30, 35, 40, 45, 50, 55, 60, 65, 70, 75, 80, 85,\n",
              "         90, 95])}]"
            ]
          },
          "metadata": {
            "tags": []
          },
          "execution_count": 51
        }
      ]
    },
    {
      "cell_type": "markdown",
      "metadata": {
        "id": "tlM9BRHsztus",
        "colab_type": "text"
      },
      "source": [
        "GridSearchCV"
      ]
    },
    {
      "cell_type": "code",
      "metadata": {
        "id": "3Z9sZVu0s_YA",
        "colab_type": "code",
        "colab": {
          "base_uri": "https://localhost:8080/",
          "height": 374
        },
        "outputId": "806378f7-4874-4761-ae8d-27da8117dc1e"
      },
      "source": [
        "import warnings\n",
        "from sklearn.model_selection import GridSearchCV\n",
        "warnings.filterwarnings('ignore')\n",
        "\n",
        "gs_rfc = GridSearchCV(RandomForestClassifier(), rfc_tuned_parameters, cv=5,\n",
        "                      scoring='accuracy')\n",
        "gs_rfc.fit(X_train, y_train)"
      ],
      "execution_count": 52,
      "outputs": [
        {
          "output_type": "execute_result",
          "data": {
            "text/plain": [
              "GridSearchCV(cv=5, error_score=nan,\n",
              "             estimator=RandomForestClassifier(bootstrap=True, ccp_alpha=0.0,\n",
              "                                              class_weight=None,\n",
              "                                              criterion='gini', max_depth=None,\n",
              "                                              max_features='auto',\n",
              "                                              max_leaf_nodes=None,\n",
              "                                              max_samples=None,\n",
              "                                              min_impurity_decrease=0.0,\n",
              "                                              min_impurity_split=None,\n",
              "                                              min_samples_leaf=1,\n",
              "                                              min_samples_split=2,\n",
              "                                              min_weight_fraction_leaf=0.0,\n",
              "                                              n_estimators=100, n_jobs=None,\n",
              "                                              oob_score=False,\n",
              "                                              random_state=None, verbose=0,\n",
              "                                              warm_start=False),\n",
              "             iid='deprecated', n_jobs=None,\n",
              "             param_grid=[{'n_estimators': array([ 5, 10, 15, 20, 25, 30, 35, 40, 45, 50, 55, 60, 65, 70, 75, 80, 85,\n",
              "       90, 95])}],\n",
              "             pre_dispatch='2*n_jobs', refit=True, return_train_score=False,\n",
              "             scoring='accuracy', verbose=0)"
            ]
          },
          "metadata": {
            "tags": []
          },
          "execution_count": 52
        }
      ]
    },
    {
      "cell_type": "code",
      "metadata": {
        "id": "9He5q5SEs_YE",
        "colab_type": "code",
        "colab": {
          "base_uri": "https://localhost:8080/",
          "height": 34
        },
        "outputId": "80ba096f-4665-444f-fe21-0224f6d7246c"
      },
      "source": [
        "gs_rfc.best_params_"
      ],
      "execution_count": 53,
      "outputs": [
        {
          "output_type": "execute_result",
          "data": {
            "text/plain": [
              "{'n_estimators': 65}"
            ]
          },
          "metadata": {
            "tags": []
          },
          "execution_count": 53
        }
      ]
    },
    {
      "cell_type": "code",
      "metadata": {
        "id": "RbLQ-qHjs_YG",
        "colab_type": "code",
        "colab": {
          "base_uri": "https://localhost:8080/",
          "height": 279
        },
        "outputId": "8bb3d20d-e81a-484a-dee9-f249b3becbef"
      },
      "source": [
        "plt.plot(rfc_n_range, gs_rfc.cv_results_['mean_test_score'])"
      ],
      "execution_count": 54,
      "outputs": [
        {
          "output_type": "execute_result",
          "data": {
            "text/plain": [
              "[<matplotlib.lines.Line2D at 0x7fa04d40cd68>]"
            ]
          },
          "metadata": {
            "tags": []
          },
          "execution_count": 54
        },
        {
          "output_type": "display_data",
          "data": {
            "image/png": "[encoded data removed]",
            "text/plain": [
              "<Figure size 432x288 with 1 Axes>"
            ]
          },
          "metadata": {
            "tags": []
          }
        }
      ]
    },
    {
      "cell_type": "code",
      "metadata": {
        "id": "uo0Vv3_ps_YK",
        "colab_type": "code",
        "colab": {
          "base_uri": "https://localhost:8080/",
          "height": 51
        },
        "outputId": "129ddcf8-6a74-4978-fd1e-99d41a6460dc"
      },
      "source": [
        "abc_n_range = np.array(range(5,100,5))\n",
        "abc_tuned_parameters = [{'n_estimators': abc_n_range}]\n",
        "abc_tuned_parameters"
      ],
      "execution_count": 55,
      "outputs": [
        {
          "output_type": "execute_result",
          "data": {
            "text/plain": [
              "[{'n_estimators': array([ 5, 10, 15, 20, 25, 30, 35, 40, 45, 50, 55, 60, 65, 70, 75, 80, 85,\n",
              "         90, 95])}]"
            ]
          },
          "metadata": {
            "tags": []
          },
          "execution_count": 55
        }
      ]
    },
    {
      "cell_type": "code",
      "metadata": {
        "id": "qXnmJUu3s_YN",
        "colab_type": "code",
        "colab": {
          "base_uri": "https://localhost:8080/",
          "height": 187
        },
        "outputId": "12e4bc61-86ca-4776-ac19-f121483965ff"
      },
      "source": [
        "gs_abc = GridSearchCV(AdaBoostClassifier(), abc_tuned_parameters, cv=5,\n",
        "                      scoring='accuracy')\n",
        "gs_abc.fit(X_train, y_train)"
      ],
      "execution_count": 56,
      "outputs": [
        {
          "output_type": "execute_result",
          "data": {
            "text/plain": [
              "GridSearchCV(cv=5, error_score=nan,\n",
              "             estimator=AdaBoostClassifier(algorithm='SAMME.R',\n",
              "                                          base_estimator=None,\n",
              "                                          learning_rate=1.0, n_estimators=50,\n",
              "                                          random_state=None),\n",
              "             iid='deprecated', n_jobs=None,\n",
              "             param_grid=[{'n_estimators': array([ 5, 10, 15, 20, 25, 30, 35, 40, 45, 50, 55, 60, 65, 70, 75, 80, 85,\n",
              "       90, 95])}],\n",
              "             pre_dispatch='2*n_jobs', refit=True, return_train_score=False,\n",
              "             scoring='accuracy', verbose=0)"
            ]
          },
          "metadata": {
            "tags": []
          },
          "execution_count": 56
        }
      ]
    },
    {
      "cell_type": "code",
      "metadata": {
        "id": "MKsPf7tjs_YP",
        "colab_type": "code",
        "colab": {
          "base_uri": "https://localhost:8080/",
          "height": 34
        },
        "outputId": "001a6a38-5b84-44cb-9494-f98fd0c39615"
      },
      "source": [
        "gs_abc.best_params_"
      ],
      "execution_count": 57,
      "outputs": [
        {
          "output_type": "execute_result",
          "data": {
            "text/plain": [
              "{'n_estimators': 25}"
            ]
          },
          "metadata": {
            "tags": []
          },
          "execution_count": 57
        }
      ]
    },
    {
      "cell_type": "code",
      "metadata": {
        "id": "UrLXpef5s_YS",
        "colab_type": "code",
        "colab": {
          "base_uri": "https://localhost:8080/",
          "height": 282
        },
        "outputId": "b4042ce7-d027-4923-80ec-07a68be79c50"
      },
      "source": [
        "plt.plot(abc_n_range, gs_abc.cv_results_['mean_test_score'])"
      ],
      "execution_count": 58,
      "outputs": [
        {
          "output_type": "execute_result",
          "data": {
            "text/plain": [
              "[<matplotlib.lines.Line2D at 0x7fa04d36a438>]"
            ]
          },
          "metadata": {
            "tags": []
          },
          "execution_count": 58
        },
        {
          "output_type": "display_data",
          "data": {
            "image/png": "[encoded data removed]",
            "text/plain": [
              "<Figure size 432x288 with 1 Axes>"
            ]
          },
          "metadata": {
            "tags": []
          }
        }
      ]
    },
    {
      "cell_type": "markdown",
      "metadata": {
        "id": "7gdB8AAd0ERT",
        "colab_type": "text"
      },
      "source": [
        "## Задание 6. Повторите пункт 4 для найденных оптимальных значений гиперпараметров. Сравните качество полученных моделей с качеством моделей, полученных в пункте 4."
      ]
    },
    {
      "cell_type": "code",
      "metadata": {
        "id": "_EIdu39is_YV",
        "colab_type": "code",
        "colab": {}
      },
      "source": [
        "rfc_optimized = RandomForestClassifier(n_estimators=gs_rfc.best_params_['n_estimators']).fit(X_train, y_train)\n",
        "predicted_rfc_opt = rfc_optimized.predict(X_test)"
      ],
      "execution_count": 0,
      "outputs": []
    },
    {
      "cell_type": "code",
      "metadata": {
        "id": "BdesZPgrs_YZ",
        "colab_type": "code",
        "colab": {
          "base_uri": "https://localhost:8080/",
          "height": 34
        },
        "outputId": "ec81919c-1dea-47bd-d3c7-155228899ac4"
      },
      "source": [
        "accuracy_score(y_test, predicted_rfc_opt)"
      ],
      "execution_count": 60,
      "outputs": [
        {
          "output_type": "execute_result",
          "data": {
            "text/plain": [
              "0.719626168224299"
            ]
          },
          "metadata": {
            "tags": []
          },
          "execution_count": 60
        }
      ]
    },
    {
      "cell_type": "code",
      "metadata": {
        "id": "5S0BfcfKs_Yb",
        "colab_type": "code",
        "colab": {
          "base_uri": "https://localhost:8080/",
          "height": 34
        },
        "outputId": "255fb481-f0f8-4a9f-ab74-5fe817a5c166"
      },
      "source": [
        "balanced_accuracy_score(y_test, predicted_rfc_opt)"
      ],
      "execution_count": 61,
      "outputs": [
        {
          "output_type": "execute_result",
          "data": {
            "text/plain": [
              "0.7196491228070175"
            ]
          },
          "metadata": {
            "tags": []
          },
          "execution_count": 61
        }
      ]
    },
    {
      "cell_type": "code",
      "metadata": {
        "id": "fehfN2Lzs_Yd",
        "colab_type": "code",
        "colab": {
          "base_uri": "https://localhost:8080/",
          "height": 34
        },
        "outputId": "7955d5ea-6b35-44f6-ffbb-237f2d9ae85f"
      },
      "source": [
        "(precision_score(y_test, predicted_rfc_opt, average='weighted'), \n",
        " recall_score(y_test, predicted_rfc_opt, average='weighted'))"
      ],
      "execution_count": 62,
      "outputs": [
        {
          "output_type": "execute_result",
          "data": {
            "text/plain": [
              "(0.7206195673485394, 0.719626168224299)"
            ]
          },
          "metadata": {
            "tags": []
          },
          "execution_count": 62
        }
      ]
    },
    {
      "cell_type": "code",
      "metadata": {
        "id": "MH6Cj7l_s_Yh",
        "colab_type": "code",
        "colab": {
          "base_uri": "https://localhost:8080/",
          "height": 34
        },
        "outputId": "a11f9335-58d9-48fb-825c-acd0c3c9e6fd"
      },
      "source": [
        "f1_score(y_test, predicted_rfc_opt, average='weighted')"
      ],
      "execution_count": 63,
      "outputs": [
        {
          "output_type": "execute_result",
          "data": {
            "text/plain": [
              "0.7198715934972119"
            ]
          },
          "metadata": {
            "tags": []
          },
          "execution_count": 63
        }
      ]
    },
    {
      "cell_type": "code",
      "metadata": {
        "id": "4OeU2mSVs_Yk",
        "colab_type": "code",
        "colab": {}
      },
      "source": [
        "abc_optimized = RandomForestClassifier(n_estimators=gs_abc.best_params_['n_estimators']).fit(X_train, y_train)\n",
        "predicted_abc_opt = abc_optimized.predict(X_test)"
      ],
      "execution_count": 0,
      "outputs": []
    },
    {
      "cell_type": "code",
      "metadata": {
        "id": "QA-IWo4Ps_Yo",
        "colab_type": "code",
        "colab": {
          "base_uri": "https://localhost:8080/",
          "height": 34
        },
        "outputId": "4c900874-0b2a-4b4c-ae6c-11c97773a04d"
      },
      "source": [
        "accuracy_score(y_test, predicted_abc_opt)"
      ],
      "execution_count": 65,
      "outputs": [
        {
          "output_type": "execute_result",
          "data": {
            "text/plain": [
              "0.719626168224299"
            ]
          },
          "metadata": {
            "tags": []
          },
          "execution_count": 65
        }
      ]
    },
    {
      "cell_type": "code",
      "metadata": {
        "id": "VMHtUVhws_Ys",
        "colab_type": "code",
        "colab": {
          "base_uri": "https://localhost:8080/",
          "height": 34
        },
        "outputId": "0dcf747a-d6c8-4d60-d709-cb2ab5a66cfa"
      },
      "source": [
        "balanced_accuracy_score(y_test, predicted_abc_opt)"
      ],
      "execution_count": 66,
      "outputs": [
        {
          "output_type": "execute_result",
          "data": {
            "text/plain": [
              "0.7221052631578948"
            ]
          },
          "metadata": {
            "tags": []
          },
          "execution_count": 66
        }
      ]
    },
    {
      "cell_type": "code",
      "metadata": {
        "id": "DaVubD4ps_Yv",
        "colab_type": "code",
        "colab": {
          "base_uri": "https://localhost:8080/",
          "height": 34
        },
        "outputId": "958b0360-4cab-41f0-8f29-1c99b2f547f3"
      },
      "source": [
        "(precision_score(y_test, predicted_abc_opt, average='weighted'), \n",
        " recall_score(y_test, predicted_abc_opt, average='weighted'))"
      ],
      "execution_count": 67,
      "outputs": [
        {
          "output_type": "execute_result",
          "data": {
            "text/plain": [
              "(0.724456137595225, 0.719626168224299)"
            ]
          },
          "metadata": {
            "tags": []
          },
          "execution_count": 67
        }
      ]
    },
    {
      "cell_type": "code",
      "metadata": {
        "id": "J8HsY6t2s_Yy",
        "colab_type": "code",
        "colab": {
          "base_uri": "https://localhost:8080/",
          "height": 34
        },
        "outputId": "7991437f-0b2e-4af5-a215-dc797b95819f"
      },
      "source": [
        "f1_score(y_test, predicted_abc_opt, average='weighted')"
      ],
      "execution_count": 68,
      "outputs": [
        {
          "output_type": "execute_result",
          "data": {
            "text/plain": [
              "0.7197731146770117"
            ]
          },
          "metadata": {
            "tags": []
          },
          "execution_count": 68
        }
      ]
    },
    {
      "cell_type": "code",
      "metadata": {
        "id": "e9hwSgNrs_Y1",
        "colab_type": "code",
        "colab": {}
      },
      "source": [
        ""
      ],
      "execution_count": 0,
      "outputs": []
    }
  ]
}