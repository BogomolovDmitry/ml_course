{
  "nbformat": 4,
  "nbformat_minor": 0,
  "metadata": {
    "kernelspec": {
      "display_name": "Python 3",
      "language": "python",
      "name": "python3"
    },
    "language_info": {
      "codemirror_mode": {
        "name": "ipython",
        "version": 3
      },
      "file_extension": ".py",
      "mimetype": "text/x-python",
      "name": "python",
      "nbconvert_exporter": "python",
      "pygments_lexer": "ipython3",
      "version": "3.7.1"
    },
    "colab": {
      "name": "ML_Lab4.ipynb",
      "provenance": [],
      "collapsed_sections": [
        "OrGDLseBc9AO"
      ],
      "toc_visible": true
    }
  },
  "cells": [
    {
      "cell_type": "markdown",
      "metadata": {
        "id": "FmvxZ3EZc8-v",
        "colab_type": "text"
      },
      "source": [
        "# Подготовка обучающей и тестовой выборки, кросс-валидация и подбор гиперпараметров на примере метода ближайших соседей.\n",
        "## Цель лабораторной работы:\n",
        "изучение сложных способов подготовки выборки и подбора гиперпараметров на примере метода ближайших соседей.\n",
        "\n",
        "## Задание:\n",
        "\n",
        "1. Выберите набор данных (датасет) для решения задачи классификации или регресии.\n",
        "2. В случае необходимости проведите удаление или заполнение пропусков и кодирование категориальных признаков.\n",
        "3. С использованием метода train_test_split разделите выборку на обучающую и тестовую.\n",
        "4. Обучите модель ближайших соседей для произвольно заданного гиперпараметра K. Оцените качество модели с помощью трех подходящих для задачи метрик.\n",
        "5. Постройте модель и оцените качество модели с использованием кросс-валидации. Проведите эксперименты с тремя различными стратегиями кросс-валидации.\n",
        "6. Произведите подбор гиперпараметра K с использованием GridSearchCV и кросс-валидации.\n",
        "7. Повторите пункт 4 для найденного оптимального значения гиперпараметра K. Сравните качество полученной модели с качеством модели, полученной в пункте 4.\n",
        "8. Постройте кривые обучения и валидации.\n",
        "\n"
      ]
    },
    {
      "cell_type": "code",
      "metadata": {
        "id": "DcOAJNlneKVZ",
        "colab_type": "code",
        "colab": {
          "base_uri": "https://localhost:8080/",
          "height": 54
        },
        "outputId": "50b466bb-ec18-44e9-b516-619014b16068"
      },
      "source": [
        "from google.colab import drive  #Монтирование Google Drive \n",
        "drive.mount('/content/drive')"
      ],
      "execution_count": 1,
      "outputs": [
        {
          "output_type": "stream",
          "text": [
            "Drive already mounted at /content/drive; to attempt to forcibly remount, call drive.mount(\"/content/drive\", force_remount=True).\n"
          ],
          "name": "stdout"
        }
      ]
    },
    {
      "cell_type": "markdown",
      "metadata": {
        "id": "ojG5W7l-c8-w",
        "colab_type": "raw"
      },
      "source": [
        "\n",
        "## Задание 1. Выберите набор данных (датасет) для решения задачи классификации или регресии.\n",
        "Выбранный датасет - HEART.CSV\n",
        "Параметры датасета:\n",
        "* age - age in years\n",
        "* sex(1 = male; 0 = female)\n",
        "* cp- chest pain type\n",
        "* trestbps - resting blood pressure (in mm Hg on admission to the hospital)\n",
        "* chol - serum cholestoral in mg/dl\n",
        "fbs(fasting blood sugar > 120 mg/dl) (1 = true; 0 = false)\n",
        "* restecg - resting electrocardiographic results\n",
        "* thalach - maximum heart rate achieved\n",
        "* exang - exercise induced angina (1 = yes; 0 = no)\n",
        "oldpeakST depression induced by exercise relative to rest\n",
        "* slope - the slope of the peak exercise ST segment\n",
        "* ca - number of major vessels (0-3) colored by flourosopy\n",
        "* thal: 3 = normal; 6 = fixed defect; 7 = reversable defect\n",
        "target 1 or 0"
      ]
    },
    {
      "cell_type": "code",
      "metadata": {
        "id": "I_b-1OK0c8-x",
        "colab_type": "code",
        "colab": {
          "base_uri": "https://localhost:8080/",
          "height": 413
        },
        "outputId": "5696055d-8219-4b47-bf51-26a1ef5b4171"
      },
      "source": [
        "import numpy as np\n",
        "import pandas as pd\n",
        "import seaborn as sns\n",
        "import matplotlib.pyplot as plt\n",
        "%matplotlib inline \n",
        "sns.set(style=\"ticks\")\n",
        "heart = pd.read_csv('/content/drive/My Drive/MMO_Datasets/heart.csv', sep=',')\n",
        "heart.head(10)\n"
      ],
      "execution_count": 2,
      "outputs": [
        {
          "output_type": "stream",
          "text": [
            "/usr/local/lib/python3.6/dist-packages/statsmodels/tools/_testing.py:19: FutureWarning: pandas.util.testing is deprecated. Use the functions in the public API at pandas.testing instead.\n",
            "  import pandas.util.testing as tm\n"
          ],
          "name": "stderr"
        },
        {
          "output_type": "execute_result",
          "data": {
            "text/html": [
              "<div>\n",
              "<style scoped>\n",
              "    .dataframe tbody tr th:only-of-type {\n",
              "        vertical-align: middle;\n",
              "    }\n",
              "\n",
              "    .dataframe tbody tr th {\n",
              "        vertical-align: top;\n",
              "    }\n",
              "\n",
              "    .dataframe thead th {\n",
              "        text-align: right;\n",
              "    }\n",
              "</style>\n",
              "<table border=\"1\" class=\"dataframe\">\n",
              "  <thead>\n",
              "    <tr style=\"text-align: right;\">\n",
              "      <th></th>\n",
              "      <th>age</th>\n",
              "      <th>sex</th>\n",
              "      <th>cp</th>\n",
              "      <th>trestbps</th>\n",
              "      <th>chol</th>\n",
              "      <th>fbs</th>\n",
              "      <th>restecg</th>\n",
              "      <th>thalach</th>\n",
              "      <th>exang</th>\n",
              "      <th>oldpeak</th>\n",
              "      <th>slope</th>\n",
              "      <th>ca</th>\n",
              "      <th>thal</th>\n",
              "      <th>target</th>\n",
              "    </tr>\n",
              "  </thead>\n",
              "  <tbody>\n",
              "    <tr>\n",
              "      <th>0</th>\n",
              "      <td>63</td>\n",
              "      <td>1</td>\n",
              "      <td>3</td>\n",
              "      <td>145</td>\n",
              "      <td>233</td>\n",
              "      <td>1</td>\n",
              "      <td>0</td>\n",
              "      <td>150</td>\n",
              "      <td>0</td>\n",
              "      <td>2.3</td>\n",
              "      <td>0</td>\n",
              "      <td>0</td>\n",
              "      <td>1</td>\n",
              "      <td>1</td>\n",
              "    </tr>\n",
              "    <tr>\n",
              "      <th>1</th>\n",
              "      <td>37</td>\n",
              "      <td>1</td>\n",
              "      <td>2</td>\n",
              "      <td>130</td>\n",
              "      <td>250</td>\n",
              "      <td>0</td>\n",
              "      <td>1</td>\n",
              "      <td>187</td>\n",
              "      <td>0</td>\n",
              "      <td>3.5</td>\n",
              "      <td>0</td>\n",
              "      <td>0</td>\n",
              "      <td>2</td>\n",
              "      <td>1</td>\n",
              "    </tr>\n",
              "    <tr>\n",
              "      <th>2</th>\n",
              "      <td>41</td>\n",
              "      <td>0</td>\n",
              "      <td>1</td>\n",
              "      <td>130</td>\n",
              "      <td>204</td>\n",
              "      <td>0</td>\n",
              "      <td>0</td>\n",
              "      <td>172</td>\n",
              "      <td>0</td>\n",
              "      <td>1.4</td>\n",
              "      <td>2</td>\n",
              "      <td>0</td>\n",
              "      <td>2</td>\n",
              "      <td>1</td>\n",
              "    </tr>\n",
              "    <tr>\n",
              "      <th>3</th>\n",
              "      <td>56</td>\n",
              "      <td>1</td>\n",
              "      <td>1</td>\n",
              "      <td>120</td>\n",
              "      <td>236</td>\n",
              "      <td>0</td>\n",
              "      <td>1</td>\n",
              "      <td>178</td>\n",
              "      <td>0</td>\n",
              "      <td>0.8</td>\n",
              "      <td>2</td>\n",
              "      <td>0</td>\n",
              "      <td>2</td>\n",
              "      <td>1</td>\n",
              "    </tr>\n",
              "    <tr>\n",
              "      <th>4</th>\n",
              "      <td>57</td>\n",
              "      <td>0</td>\n",
              "      <td>0</td>\n",
              "      <td>120</td>\n",
              "      <td>354</td>\n",
              "      <td>0</td>\n",
              "      <td>1</td>\n",
              "      <td>163</td>\n",
              "      <td>1</td>\n",
              "      <td>0.6</td>\n",
              "      <td>2</td>\n",
              "      <td>0</td>\n",
              "      <td>2</td>\n",
              "      <td>1</td>\n",
              "    </tr>\n",
              "    <tr>\n",
              "      <th>5</th>\n",
              "      <td>57</td>\n",
              "      <td>1</td>\n",
              "      <td>0</td>\n",
              "      <td>140</td>\n",
              "      <td>192</td>\n",
              "      <td>0</td>\n",
              "      <td>1</td>\n",
              "      <td>148</td>\n",
              "      <td>0</td>\n",
              "      <td>0.4</td>\n",
              "      <td>1</td>\n",
              "      <td>0</td>\n",
              "      <td>1</td>\n",
              "      <td>1</td>\n",
              "    </tr>\n",
              "    <tr>\n",
              "      <th>6</th>\n",
              "      <td>56</td>\n",
              "      <td>0</td>\n",
              "      <td>1</td>\n",
              "      <td>140</td>\n",
              "      <td>294</td>\n",
              "      <td>0</td>\n",
              "      <td>0</td>\n",
              "      <td>153</td>\n",
              "      <td>0</td>\n",
              "      <td>1.3</td>\n",
              "      <td>1</td>\n",
              "      <td>0</td>\n",
              "      <td>2</td>\n",
              "      <td>1</td>\n",
              "    </tr>\n",
              "    <tr>\n",
              "      <th>7</th>\n",
              "      <td>44</td>\n",
              "      <td>1</td>\n",
              "      <td>1</td>\n",
              "      <td>120</td>\n",
              "      <td>263</td>\n",
              "      <td>0</td>\n",
              "      <td>1</td>\n",
              "      <td>173</td>\n",
              "      <td>0</td>\n",
              "      <td>0.0</td>\n",
              "      <td>2</td>\n",
              "      <td>0</td>\n",
              "      <td>3</td>\n",
              "      <td>1</td>\n",
              "    </tr>\n",
              "    <tr>\n",
              "      <th>8</th>\n",
              "      <td>52</td>\n",
              "      <td>1</td>\n",
              "      <td>2</td>\n",
              "      <td>172</td>\n",
              "      <td>199</td>\n",
              "      <td>1</td>\n",
              "      <td>1</td>\n",
              "      <td>162</td>\n",
              "      <td>0</td>\n",
              "      <td>0.5</td>\n",
              "      <td>2</td>\n",
              "      <td>0</td>\n",
              "      <td>3</td>\n",
              "      <td>1</td>\n",
              "    </tr>\n",
              "    <tr>\n",
              "      <th>9</th>\n",
              "      <td>57</td>\n",
              "      <td>1</td>\n",
              "      <td>2</td>\n",
              "      <td>150</td>\n",
              "      <td>168</td>\n",
              "      <td>0</td>\n",
              "      <td>1</td>\n",
              "      <td>174</td>\n",
              "      <td>0</td>\n",
              "      <td>1.6</td>\n",
              "      <td>2</td>\n",
              "      <td>0</td>\n",
              "      <td>2</td>\n",
              "      <td>1</td>\n",
              "    </tr>\n",
              "  </tbody>\n",
              "</table>\n",
              "</div>"
            ],
            "text/plain": [
              "   age  sex  cp  trestbps  chol  fbs  ...  exang  oldpeak  slope  ca  thal  target\n",
              "0   63    1   3       145   233    1  ...      0      2.3      0   0     1       1\n",
              "1   37    1   2       130   250    0  ...      0      3.5      0   0     2       1\n",
              "2   41    0   1       130   204    0  ...      0      1.4      2   0     2       1\n",
              "3   56    1   1       120   236    0  ...      0      0.8      2   0     2       1\n",
              "4   57    0   0       120   354    0  ...      1      0.6      2   0     2       1\n",
              "5   57    1   0       140   192    0  ...      0      0.4      1   0     1       1\n",
              "6   56    0   1       140   294    0  ...      0      1.3      1   0     2       1\n",
              "7   44    1   1       120   263    0  ...      0      0.0      2   0     3       1\n",
              "8   52    1   2       172   199    1  ...      0      0.5      2   0     3       1\n",
              "9   57    1   2       150   168    0  ...      0      1.6      2   0     2       1\n",
              "\n",
              "[10 rows x 14 columns]"
            ]
          },
          "metadata": {
            "tags": []
          },
          "execution_count": 2
        }
      ]
    },
    {
      "cell_type": "markdown",
      "metadata": {
        "id": "-plD6JhFnjag",
        "colab_type": "text"
      },
      "source": [
        "## Задание 2. В случае необходимости проведите удаление или заполнение пропусков и кодирование категориальных признаков."
      ]
    },
    {
      "cell_type": "code",
      "metadata": {
        "id": "WAR9MDtIc8-5",
        "colab_type": "code",
        "colab": {
          "base_uri": "https://localhost:8080/",
          "height": 34
        },
        "outputId": "6ebb19ba-a0f8-4b81-92c9-cc169be12c58"
      },
      "source": [
        "heart.shape"
      ],
      "execution_count": 3,
      "outputs": [
        {
          "output_type": "execute_result",
          "data": {
            "text/plain": [
              "(303, 14)"
            ]
          },
          "metadata": {
            "tags": []
          },
          "execution_count": 3
        }
      ]
    },
    {
      "cell_type": "code",
      "metadata": {
        "id": "kvj0SxVec8-9",
        "colab_type": "code",
        "colab": {
          "base_uri": "https://localhost:8080/",
          "height": 272
        },
        "outputId": "ee8c509a-43f1-4686-f9a6-2b6fdc10ad0b"
      },
      "source": [
        "heart.dtypes"
      ],
      "execution_count": 4,
      "outputs": [
        {
          "output_type": "execute_result",
          "data": {
            "text/plain": [
              "age           int64\n",
              "sex           int64\n",
              "cp            int64\n",
              "trestbps      int64\n",
              "chol          int64\n",
              "fbs           int64\n",
              "restecg       int64\n",
              "thalach       int64\n",
              "exang         int64\n",
              "oldpeak     float64\n",
              "slope         int64\n",
              "ca            int64\n",
              "thal          int64\n",
              "target        int64\n",
              "dtype: object"
            ]
          },
          "metadata": {
            "tags": []
          },
          "execution_count": 4
        }
      ]
    },
    {
      "cell_type": "markdown",
      "metadata": {
        "id": "zjWPaPkJnCW9",
        "colab_type": "text"
      },
      "source": [
        "**Проверка на пустые значения**"
      ]
    },
    {
      "cell_type": "code",
      "metadata": {
        "id": "MBngDgC6c8_A",
        "colab_type": "code",
        "colab": {
          "base_uri": "https://localhost:8080/",
          "height": 272
        },
        "outputId": "b957a4fb-3422-495a-89d7-1f86384051dc"
      },
      "source": [
        "heart.isnull().sum()"
      ],
      "execution_count": 5,
      "outputs": [
        {
          "output_type": "execute_result",
          "data": {
            "text/plain": [
              "age         0\n",
              "sex         0\n",
              "cp          0\n",
              "trestbps    0\n",
              "chol        0\n",
              "fbs         0\n",
              "restecg     0\n",
              "thalach     0\n",
              "exang       0\n",
              "oldpeak     0\n",
              "slope       0\n",
              "ca          0\n",
              "thal        0\n",
              "target      0\n",
              "dtype: int64"
            ]
          },
          "metadata": {
            "tags": []
          },
          "execution_count": 5
        }
      ]
    },
    {
      "cell_type": "markdown",
      "metadata": {
        "id": "MCf4FAdknKEN",
        "colab_type": "text"
      },
      "source": [
        "Пустых значений не обнаружено"
      ]
    },
    {
      "cell_type": "code",
      "metadata": {
        "id": "WLlPAytSc8_E",
        "colab_type": "code",
        "colab": {}
      },
      "source": [
        "X = heart.drop('target',axis = 1).values\n",
        "y = heart['target'].values"
      ],
      "execution_count": 0,
      "outputs": []
    },
    {
      "cell_type": "markdown",
      "metadata": {
        "id": "vw68GCrKc8_I",
        "colab_type": "text"
      },
      "source": [
        " ## Задание 3. С использованием метода **train_test_split** разделите выборку на обучающую и тестовую"
      ]
    },
    {
      "cell_type": "markdown",
      "metadata": {
        "id": "3ecJ73PZobbJ",
        "colab_type": "text"
      },
      "source": [
        "Функция **train_test_split** используется для того, чтобы разделить исходную выборку так, \n",
        "чтобы в обучающей и тестовой частях сохранились пропорции классов."
      ]
    },
    {
      "cell_type": "markdown",
      "metadata": {
        "id": "0IzvXItbpOZL",
        "colab_type": "text"
      },
      "source": [
        " Разделим выборку следующим образом:\n",
        "* Размер обучающей выборки (65%)\n",
        "* Размер тестовой выборки (35%)\n",
        "\n"
      ]
    },
    {
      "cell_type": "code",
      "metadata": {
        "id": "C9dQ6a6xc8_J",
        "colab_type": "code",
        "colab": {}
      },
      "source": [
        "from sklearn.model_selection import train_test_split\n",
        "heart_X_train, heart_X_test, heart_y_train, heart_y_test = train_test_split(\n",
        "    X, y, test_size=0.35, random_state=1)"
      ],
      "execution_count": 0,
      "outputs": []
    },
    {
      "cell_type": "code",
      "metadata": {
        "id": "ogtCdOjSc8_N",
        "colab_type": "code",
        "colab": {
          "base_uri": "https://localhost:8080/",
          "height": 34
        },
        "outputId": "ec5e8c31-f9a3-4b2c-965e-23cd29302a5e"
      },
      "source": [
        "print('heart_X_train: {}  heart_y_train: {}'.format(heart_X_train.shape, heart_y_train.shape))"
      ],
      "execution_count": 8,
      "outputs": [
        {
          "output_type": "stream",
          "text": [
            "heart_X_train: (196, 13)  heart_y_train: (196,)\n"
          ],
          "name": "stdout"
        }
      ]
    },
    {
      "cell_type": "code",
      "metadata": {
        "id": "XjXBA4B-c8_Q",
        "colab_type": "code",
        "colab": {
          "base_uri": "https://localhost:8080/",
          "height": 34
        },
        "outputId": "9fc50cd5-6638-408c-cb7c-bd730a8b0093"
      },
      "source": [
        "print('heart_X_test: {}  heart_y_test: {}'.format(heart_X_test.shape, heart_y_test.shape))"
      ],
      "execution_count": 9,
      "outputs": [
        {
          "output_type": "stream",
          "text": [
            "heart_X_test: (107, 13)  heart_y_test: (107,)\n"
          ],
          "name": "stdout"
        }
      ]
    },
    {
      "cell_type": "code",
      "metadata": {
        "id": "uEyX-_T_c8_V",
        "colab_type": "code",
        "colab": {
          "base_uri": "https://localhost:8080/",
          "height": 34
        },
        "outputId": "82091d44-dfa5-4593-861d-56a0f3bce2b1"
      },
      "source": [
        "np.unique(heart_y_train)"
      ],
      "execution_count": 10,
      "outputs": [
        {
          "output_type": "execute_result",
          "data": {
            "text/plain": [
              "array([0, 1])"
            ]
          },
          "metadata": {
            "tags": []
          },
          "execution_count": 10
        }
      ]
    },
    {
      "cell_type": "code",
      "metadata": {
        "id": "Nhi_M-tmc8_Y",
        "colab_type": "code",
        "colab": {
          "base_uri": "https://localhost:8080/",
          "height": 34
        },
        "outputId": "28572dbf-1a4a-45a8-b8fb-f5953ef186ca"
      },
      "source": [
        "np.unique(heart_y_test)"
      ],
      "execution_count": 11,
      "outputs": [
        {
          "output_type": "execute_result",
          "data": {
            "text/plain": [
              "array([0, 1])"
            ]
          },
          "metadata": {
            "tags": []
          },
          "execution_count": 11
        }
      ]
    },
    {
      "cell_type": "markdown",
      "metadata": {
        "id": "HVPbTcPzc8_b",
        "colab_type": "text"
      },
      "source": [
        "## Задание 4. Обучение модели ближайших соседей для произвольно заданного гиперпараметра K. \n",
        "#### Обучите модель ближайших соседей для произвольно заданного гиперпараметра K. Оцените качество модели с помощью трех подходящих для задачи метрик."
      ]
    },
    {
      "cell_type": "code",
      "metadata": {
        "id": "WVXWZJtuc8_c",
        "colab_type": "code",
        "colab": {
          "base_uri": "https://localhost:8080/",
          "height": 34
        },
        "outputId": "a0e03437-a760-45cc-eabc-2467db6cd693"
      },
      "source": [
        "neighbors = np.arange(1,14)\n",
        "len(neighbors)"
      ],
      "execution_count": 12,
      "outputs": [
        {
          "output_type": "execute_result",
          "data": {
            "text/plain": [
              "13"
            ]
          },
          "metadata": {
            "tags": []
          },
          "execution_count": 12
        }
      ]
    },
    {
      "cell_type": "markdown",
      "metadata": {
        "id": "QcFZh8WUc8_g",
        "colab_type": "text"
      },
      "source": [
        "### Обучение при различном количестве соседей"
      ]
    },
    {
      "cell_type": "code",
      "metadata": {
        "id": "YuN7GoUCc8_g",
        "colab_type": "code",
        "colab": {}
      },
      "source": [
        "from sklearn.neighbors import KNeighborsClassifier\n",
        "from sklearn.model_selection import GridSearchCV\n",
        "from sklearn.model_selection import learning_curve, validation_curve\n",
        "from sklearn.model_selection import KFold, RepeatedKFold, LeaveOneOut, LeavePOut, ShuffleSplit, StratifiedKFold\n",
        "from sklearn.model_selection import cross_val_score, cross_validate\n",
        "from sklearn.metrics import roc_curve,confusion_matrix, roc_auc_score, accuracy_score, balanced_accuracy_score"
      ],
      "execution_count": 0,
      "outputs": []
    },
    {
      "cell_type": "markdown",
      "metadata": {
        "id": "s1QFqfCns6E9",
        "colab_type": "text"
      },
      "source": [
        "**Возвращает новый массив заданной формы и типа без инициализации записей.**"
      ]
    },
    {
      "cell_type": "code",
      "metadata": {
        "id": "N1WdMSGfc8_j",
        "colab_type": "code",
        "colab": {}
      },
      "source": [
        "train_accuracy =np.empty(len(neighbors))\n",
        "test_accuracy = np.empty(len(neighbors))\n",
        "\n",
        "for i,k in enumerate(neighbors):\n",
        "    # Настройка классификатора Knn с K соседями\n",
        "    knn = KNeighborsClassifier(n_neighbors=k)\n",
        "    \n",
        "    # Обучение модели\n",
        "    knn.fit(heart_X_train, heart_y_train)\n",
        "    # Вычиление точности на тренировочном наборе\n",
        "    train_accuracy[i] = knn.score(heart_X_train, heart_y_train)\n",
        "    # Вычисление точности на тестовом наборе\n",
        "    test_accuracy[i] = knn.score(heart_X_test, heart_y_test)"
      ],
      "execution_count": 0,
      "outputs": []
    },
    {
      "cell_type": "markdown",
      "metadata": {
        "id": "nRS8T0rUtRy0",
        "colab_type": "text"
      },
      "source": [
        "**Построить график для метода ближайших соседей**"
      ]
    },
    {
      "cell_type": "code",
      "metadata": {
        "id": "8SboNnknc8_n",
        "colab_type": "code",
        "colab": {
          "base_uri": "https://localhost:8080/",
          "height": 302
        },
        "outputId": "95c32657-d4d2-4843-d571-215da222c476"
      },
      "source": [
        "plt.style.use('ggplot')\n",
        "\n",
        "plt.title('k-NN Varying number of neighbors')\n",
        "plt.plot(neighbors, test_accuracy, label='Testing Accuracy')\n",
        "plt.plot(neighbors, train_accuracy, label='Training accuracy')\n",
        "plt.legend()\n",
        "plt.xlabel('Number of neighbors')\n",
        "plt.ylabel('Accuracy')\n",
        "plt.show()"
      ],
      "execution_count": 15,
      "outputs": [
        {
          "output_type": "display_data",
          "data": {
            "image/png": "[encoded data removed]",
            "text/plain": [
              "<Figure size 432x288 with 1 Axes>"
            ]
          },
          "metadata": {
            "tags": []
          }
        }
      ]
    },
    {
      "cell_type": "markdown",
      "metadata": {
        "id": "plucrUOmc8_q",
        "colab_type": "text"
      },
      "source": [
        "## Изучение работы KNeighborsClassifier"
      ]
    },
    {
      "cell_type": "markdown",
      "metadata": {
        "id": "wwJplNn8wyDp",
        "colab_type": "text"
      },
      "source": [
        "Установка a knn classifier with k neighbors, где k = 12"
      ]
    },
    {
      "cell_type": "code",
      "metadata": {
        "id": "KffnaM2Gc8_q",
        "colab_type": "code",
        "colab": {
          "base_uri": "https://localhost:8080/",
          "height": 68
        },
        "outputId": "0b22e7cf-b52a-426c-845d-0e5f4911a966"
      },
      "source": [
        "knn = KNeighborsClassifier(n_neighbors=12)\n",
        "#Fit the model\n",
        "knn.fit(heart_X_train,heart_y_train)"
      ],
      "execution_count": 16,
      "outputs": [
        {
          "output_type": "execute_result",
          "data": {
            "text/plain": [
              "KNeighborsClassifier(algorithm='auto', leaf_size=30, metric='minkowski',\n",
              "                     metric_params=None, n_jobs=None, n_neighbors=12, p=2,\n",
              "                     weights='uniform')"
            ]
          },
          "metadata": {
            "tags": []
          },
          "execution_count": 16
        }
      ]
    },
    {
      "cell_type": "markdown",
      "metadata": {
        "id": "vh_9wcuY0yhe",
        "colab_type": "text"
      },
      "source": [
        "Определение точности"
      ]
    },
    {
      "cell_type": "code",
      "metadata": {
        "id": "R1MHzxlIc8_t",
        "colab_type": "code",
        "colab": {
          "base_uri": "https://localhost:8080/",
          "height": 34
        },
        "outputId": "5abe98ab-c8e6-49c6-bd7b-57f606e69cea"
      },
      "source": [
        "knn.score(heart_X_test,heart_y_test)"
      ],
      "execution_count": 17,
      "outputs": [
        {
          "output_type": "execute_result",
          "data": {
            "text/plain": [
              "0.6542056074766355"
            ]
          },
          "metadata": {
            "tags": []
          },
          "execution_count": 17
        }
      ]
    },
    {
      "cell_type": "code",
      "metadata": {
        "id": "Ag6vGN0uc8_x",
        "colab_type": "code",
        "colab": {
          "base_uri": "https://localhost:8080/",
          "height": 170
        },
        "outputId": "d04e5800-3175-489d-e64b-850200a5864f"
      },
      "source": [
        "#import classification_report\n",
        "from sklearn.metrics import classification_report\n",
        "\n",
        "y_pred = knn.predict(heart_X_test)\n",
        "print(classification_report(heart_y_test,y_pred))"
      ],
      "execution_count": 18,
      "outputs": [
        {
          "output_type": "stream",
          "text": [
            "              precision    recall  f1-score   support\n",
            "\n",
            "           0       0.62      0.66      0.64        50\n",
            "           1       0.69      0.65      0.67        57\n",
            "\n",
            "    accuracy                           0.65       107\n",
            "   macro avg       0.65      0.65      0.65       107\n",
            "weighted avg       0.66      0.65      0.65       107\n",
            "\n"
          ],
          "name": "stdout"
        }
      ]
    },
    {
      "cell_type": "markdown",
      "metadata": {
        "id": "_Mw_oVwjc8_0",
        "colab_type": "text"
      },
      "source": [
        "## Оценка точности"
      ]
    },
    {
      "cell_type": "code",
      "metadata": {
        "id": "K__nXeX0c8_1",
        "colab_type": "code",
        "colab": {}
      },
      "source": [
        "from sklearn.metrics import roc_curve,confusion_matrix, roc_auc_score, accuracy_score, balanced_accuracy_score"
      ],
      "execution_count": 0,
      "outputs": []
    },
    {
      "cell_type": "code",
      "metadata": {
        "id": "smDLBBF_c8_4",
        "colab_type": "code",
        "colab": {
          "base_uri": "https://localhost:8080/",
          "height": 34
        },
        "outputId": "c215367b-b31c-4a71-bc0d-ec82e7a720b3"
      },
      "source": [
        "cl1_1 = KNeighborsClassifier(n_neighbors=12)\n",
        "cl1_1.fit(heart_X_train, heart_y_train)\n",
        "target1_1 = cl1_1.predict(heart_X_test)\n",
        "accuracy_score(heart_y_test, target1_1)"
      ],
      "execution_count": 20,
      "outputs": [
        {
          "output_type": "execute_result",
          "data": {
            "text/plain": [
              "0.6542056074766355"
            ]
          },
          "metadata": {
            "tags": []
          },
          "execution_count": 20
        }
      ]
    },
    {
      "cell_type": "markdown",
      "metadata": {
        "id": "0yn_wj1Sc8_6",
        "colab_type": "text"
      },
      "source": [
        "## Confusion Matrix - матрица ошибок\n",
        "Матрица ошибок (confusion matrix) – таблица с 4 различными комбинациями прогнозируемых и фактических значений. Прогнозируемые значения описываются как положительные и отрицательные, а фактические – как истинные и ложные. Вообще матрица ошибок используется для оценки точности моделей в задачах классификации. Но прогнозирование и распознавание образов можно рассматривать как частный случай этой проблемы, поэтому confusion matrix актуальна и для измерения точности предсказаний. "
      ]
    },
    {
      "cell_type": "code",
      "metadata": {
        "id": "cTWLlH9_c8_7",
        "colab_type": "code",
        "colab": {
          "base_uri": "https://localhost:8080/",
          "height": 173
        },
        "outputId": "732a0285-e8a5-4c2c-b781-1a3f35e1d198"
      },
      "source": [
        "y_pred = knn.predict(heart_X_test)\n",
        "confusion_matrix(heart_y_test,y_pred)\n",
        "pd.crosstab(heart_y_test, y_pred, rownames=['True'], colnames=['Predicted'], margins=True)"
      ],
      "execution_count": 21,
      "outputs": [
        {
          "output_type": "execute_result",
          "data": {
            "text/html": [
              "<div>\n",
              "<style scoped>\n",
              "    .dataframe tbody tr th:only-of-type {\n",
              "        vertical-align: middle;\n",
              "    }\n",
              "\n",
              "    .dataframe tbody tr th {\n",
              "        vertical-align: top;\n",
              "    }\n",
              "\n",
              "    .dataframe thead th {\n",
              "        text-align: right;\n",
              "    }\n",
              "</style>\n",
              "<table border=\"1\" class=\"dataframe\">\n",
              "  <thead>\n",
              "    <tr style=\"text-align: right;\">\n",
              "      <th>Predicted</th>\n",
              "      <th>0</th>\n",
              "      <th>1</th>\n",
              "      <th>All</th>\n",
              "    </tr>\n",
              "    <tr>\n",
              "      <th>True</th>\n",
              "      <th></th>\n",
              "      <th></th>\n",
              "      <th></th>\n",
              "    </tr>\n",
              "  </thead>\n",
              "  <tbody>\n",
              "    <tr>\n",
              "      <th>0</th>\n",
              "      <td>33</td>\n",
              "      <td>17</td>\n",
              "      <td>50</td>\n",
              "    </tr>\n",
              "    <tr>\n",
              "      <th>1</th>\n",
              "      <td>20</td>\n",
              "      <td>37</td>\n",
              "      <td>57</td>\n",
              "    </tr>\n",
              "    <tr>\n",
              "      <th>All</th>\n",
              "      <td>53</td>\n",
              "      <td>54</td>\n",
              "      <td>107</td>\n",
              "    </tr>\n",
              "  </tbody>\n",
              "</table>\n",
              "</div>"
            ],
            "text/plain": [
              "Predicted   0   1  All\n",
              "True                  \n",
              "0          33  17   50\n",
              "1          20  37   57\n",
              "All        53  54  107"
            ]
          },
          "metadata": {
            "tags": []
          },
          "execution_count": 21
        }
      ]
    },
    {
      "cell_type": "markdown",
      "metadata": {
        "id": "4Q0Hag1Xc8_-",
        "colab_type": "text"
      },
      "source": [
        "## ROC(Reciever Operating Charecteristic)-кривая"
      ]
    },
    {
      "cell_type": "code",
      "metadata": {
        "id": "fLJ52Kkpc8_-",
        "colab_type": "code",
        "colab": {}
      },
      "source": [
        "import matplotlib.pyplot as plt\n",
        "plt.style.use('ggplot')"
      ],
      "execution_count": 0,
      "outputs": []
    },
    {
      "cell_type": "code",
      "metadata": {
        "id": "zAMH_ufdc9AB",
        "colab_type": "code",
        "colab": {
          "base_uri": "https://localhost:8080/",
          "height": 302
        },
        "outputId": "92c091a6-525b-4f1b-a145-9790ad820b08"
      },
      "source": [
        "y_pred_proba = knn.predict_proba(heart_X_test)[:,1]\n",
        "fpr, tpr, thresholds = roc_curve(heart_y_test, y_pred_proba)\n",
        "plt.plot([0,1],[0,1],'k--')\n",
        "plt.plot(fpr,tpr, label='Knn')\n",
        "plt.xlabel('fpr')\n",
        "plt.ylabel('tpr')\n",
        "plt.title('Knn(n_neighbors=12) ROC curve')\n",
        "plt.show()"
      ],
      "execution_count": 23,
      "outputs": [
        {
          "output_type": "display_data",
          "data": {
            "image/png": "[encoded data removed]",
            "text/plain": [
              "<Figure size 432x288 with 1 Axes>"
            ]
          },
          "metadata": {
            "tags": []
          }
        }
      ]
    },
    {
      "cell_type": "code",
      "metadata": {
        "id": "mNFfKMM0c9AE",
        "colab_type": "code",
        "colab": {
          "base_uri": "https://localhost:8080/",
          "height": 391
        },
        "outputId": "1bb58195-3900-4eff-9c7d-cad58da8e6f5"
      },
      "source": [
        "y_pred_proba"
      ],
      "execution_count": 24,
      "outputs": [
        {
          "output_type": "execute_result",
          "data": {
            "text/plain": [
              "array([0.5       , 0.66666667, 0.41666667, 0.66666667, 0.16666667,\n",
              "       0.5       , 0.16666667, 0.58333333, 0.5       , 0.66666667,\n",
              "       0.66666667, 0.5       , 0.58333333, 0.25      , 0.66666667,\n",
              "       0.91666667, 0.91666667, 0.41666667, 0.91666667, 0.41666667,\n",
              "       0.5       , 0.41666667, 0.41666667, 0.5       , 0.66666667,\n",
              "       0.83333333, 0.5       , 1.        , 0.41666667, 0.66666667,\n",
              "       0.91666667, 0.83333333, 0.66666667, 0.58333333, 0.41666667,\n",
              "       1.        , 0.33333333, 0.66666667, 0.83333333, 0.25      ,\n",
              "       0.66666667, 0.33333333, 0.66666667, 0.25      , 0.66666667,\n",
              "       0.66666667, 0.5       , 0.75      , 0.91666667, 0.16666667,\n",
              "       0.83333333, 0.83333333, 0.33333333, 0.33333333, 0.75      ,\n",
              "       0.66666667, 0.66666667, 0.58333333, 1.        , 0.08333333,\n",
              "       0.33333333, 0.91666667, 0.58333333, 0.66666667, 0.83333333,\n",
              "       0.58333333, 0.5       , 0.75      , 0.16666667, 0.33333333,\n",
              "       0.33333333, 0.75      , 0.08333333, 0.66666667, 0.16666667,\n",
              "       0.33333333, 0.33333333, 0.5       , 0.41666667, 0.91666667,\n",
              "       0.91666667, 0.66666667, 0.08333333, 0.5       , 0.5       ,\n",
              "       0.5       , 0.25      , 0.5       , 0.91666667, 0.5       ,\n",
              "       0.16666667, 0.5       , 0.66666667, 0.25      , 0.91666667,\n",
              "       0.08333333, 0.5       , 0.58333333, 0.58333333, 0.58333333,\n",
              "       0.66666667, 0.41666667, 0.5       , 0.66666667, 0.5       ,\n",
              "       0.41666667, 0.66666667])"
            ]
          },
          "metadata": {
            "tags": []
          },
          "execution_count": 24
        }
      ]
    },
    {
      "cell_type": "code",
      "metadata": {
        "id": "VDXtENigc9AJ",
        "colab_type": "code",
        "colab": {
          "base_uri": "https://localhost:8080/",
          "height": 34
        },
        "outputId": "17e7af63-b6a6-4b64-9e75-7ad4beb57fec"
      },
      "source": [
        "roc_auc_score(heart_y_test,y_pred_proba)"
      ],
      "execution_count": 25,
      "outputs": [
        {
          "output_type": "execute_result",
          "data": {
            "text/plain": [
              "0.6740350877192982"
            ]
          },
          "metadata": {
            "tags": []
          },
          "execution_count": 25
        }
      ]
    },
    {
      "cell_type": "markdown",
      "metadata": {
        "id": "OrGDLseBc9AO",
        "colab_type": "text"
      },
      "source": [
        "## Задание 6. Произведите подбор гиперпараметра K с использованием GridSearchCV и кросс-валидации."
      ]
    },
    {
      "cell_type": "code",
      "metadata": {
        "id": "d-tqs8Zec9AP",
        "colab_type": "code",
        "colab": {
          "base_uri": "https://localhost:8080/",
          "height": 0
        },
        "outputId": "8771ca0f-6521-4a7b-e4a0-2b62bc27fffb"
      },
      "source": [
        "import warnings\n",
        "warnings.filterwarnings('ignore')\n",
        "\n",
        "param_grid = {'n_neighbors':np.arange(1,14)}\n",
        "knn = KNeighborsClassifier()\n",
        "knn_cv= GridSearchCV(knn,param_grid,cv=5)\n",
        "knn_cv.fit(X,y)"
      ],
      "execution_count": 26,
      "outputs": [
        {
          "output_type": "execute_result",
          "data": {
            "text/plain": [
              "GridSearchCV(cv=5, error_score=nan,\n",
              "             estimator=KNeighborsClassifier(algorithm='auto', leaf_size=30,\n",
              "                                            metric='minkowski',\n",
              "                                            metric_params=None, n_jobs=None,\n",
              "                                            n_neighbors=5, p=2,\n",
              "                                            weights='uniform'),\n",
              "             iid='deprecated', n_jobs=None,\n",
              "             param_grid={'n_neighbors': array([ 1,  2,  3,  4,  5,  6,  7,  8,  9, 10, 11, 12, 13])},\n",
              "             pre_dispatch='2*n_jobs', refit=True, return_train_score=False,\n",
              "             scoring=None, verbose=0)"
            ]
          },
          "metadata": {
            "tags": []
          },
          "execution_count": 26
        }
      ]
    },
    {
      "cell_type": "code",
      "metadata": {
        "id": "ehWszjMzc9AT",
        "colab_type": "code",
        "colab": {
          "base_uri": "https://localhost:8080/",
          "height": 0
        },
        "outputId": "c440408e-77b6-4e0a-a943-57ae7048dfdd"
      },
      "source": [
        "knn_cv.best_score_"
      ],
      "execution_count": 27,
      "outputs": [
        {
          "output_type": "execute_result",
          "data": {
            "text/plain": [
              "0.6601092896174864"
            ]
          },
          "metadata": {
            "tags": []
          },
          "execution_count": 27
        }
      ]
    },
    {
      "cell_type": "code",
      "metadata": {
        "id": "u9qXxk1Pc9AZ",
        "colab_type": "code",
        "colab": {
          "base_uri": "https://localhost:8080/",
          "height": 0
        },
        "outputId": "c943cdda-8917-4f5a-b7a7-bbf7671c9258"
      },
      "source": [
        "knn_cv.best_params_"
      ],
      "execution_count": 28,
      "outputs": [
        {
          "output_type": "execute_result",
          "data": {
            "text/plain": [
              "{'n_neighbors': 12}"
            ]
          },
          "metadata": {
            "tags": []
          },
          "execution_count": 28
        }
      ]
    },
    {
      "cell_type": "markdown",
      "metadata": {
        "id": "K5oZRP34c9Ad",
        "colab_type": "text"
      },
      "source": [
        "## Задание 5. Постройте модель и оцените качество модели с использованием кросс-валидации. Проведите эксперименты с тремя различными стратегиями кросс-валидации.\n",
        "**K-fold.**\n",
        "Перекрестная проверка — это процедура повторной выборки, используемая для оценки моделей машинного обучения на ограниченной выборке данных."
      ]
    },
    {
      "cell_type": "code",
      "metadata": {
        "id": "m_rUQ4BWc9Ae",
        "colab_type": "code",
        "colab": {}
      },
      "source": [
        "scores = cross_val_score(KNeighborsClassifier(n_neighbors=12), \n",
        "                         X, y, \n",
        "                         cv=KFold(n_splits=10))"
      ],
      "execution_count": 0,
      "outputs": []
    },
    {
      "cell_type": "markdown",
      "metadata": {
        "id": "gJtV7SsByUNF",
        "colab_type": "text"
      },
      "source": [
        "Значение метрики accuracy для 10 фолдов\n",
        "Кол-во фолдов - кол-во разбиений"
      ]
    },
    {
      "cell_type": "code",
      "metadata": {
        "id": "DHoM-qdJc9Aj",
        "colab_type": "code",
        "colab": {
          "base_uri": "https://localhost:8080/",
          "height": 51
        },
        "outputId": "9979f800-632f-4fd0-fa1a-4b471245169c"
      },
      "source": [
        "scores"
      ],
      "execution_count": 30,
      "outputs": [
        {
          "output_type": "execute_result",
          "data": {
            "text/plain": [
              "array([0.5483871 , 0.61290323, 0.64516129, 0.6       , 0.5       ,\n",
              "       0.66666667, 0.4       , 0.63333333, 0.66666667, 0.56666667])"
            ]
          },
          "metadata": {
            "tags": []
          },
          "execution_count": 30
        }
      ]
    },
    {
      "cell_type": "markdown",
      "metadata": {
        "id": "xzfQKV-pzrl8",
        "colab_type": "text"
      },
      "source": [
        "Усредненное значение метрики accuracy для 10 фолдов"
      ]
    },
    {
      "cell_type": "code",
      "metadata": {
        "id": "hb8OA0Klc9An",
        "colab_type": "code",
        "colab": {
          "base_uri": "https://localhost:8080/",
          "height": 34
        },
        "outputId": "0fcb1f0c-f6a8-4793-b344-933944f5a3c3"
      },
      "source": [
        "np.mean(scores)"
      ],
      "execution_count": 31,
      "outputs": [
        {
          "output_type": "execute_result",
          "data": {
            "text/plain": [
              "0.5839784946236558"
            ]
          },
          "metadata": {
            "tags": []
          },
          "execution_count": 31
        }
      ]
    },
    {
      "cell_type": "code",
      "metadata": {
        "id": "uzsdaGFGc9As",
        "colab_type": "code",
        "colab": {
          "base_uri": "https://localhost:8080/",
          "height": 153
        },
        "outputId": "79a633a9-6916-47a0-aa34-ea80678c948b"
      },
      "source": [
        "import warnings\n",
        "warnings.filterwarnings('ignore')\n",
        "scoring = {'precision': 'precision_weighted', \n",
        "           'recall': 'recall_weighted',\n",
        "           'f1': 'f1_weighted'}\n",
        "\n",
        "scores = cross_validate(KNeighborsClassifier(n_neighbors=4), \n",
        "                        X, y, scoring=scoring, \n",
        "                        cv=KFold(n_splits=5), return_train_score=True)\n",
        "scores"
      ],
      "execution_count": 32,
      "outputs": [
        {
          "output_type": "execute_result",
          "data": {
            "text/plain": [
              "{'fit_time': array([0.00094604, 0.00057364, 0.00054836, 0.00054193, 0.00052929]),\n",
              " 'score_time': array([0.01519489, 0.00420713, 0.00418401, 0.0041275 , 0.00414848]),\n",
              " 'test_f1': array([0.53012048, 0.65934066, 0.62005786, 0.62068966, 0.75      ]),\n",
              " 'test_precision': array([1.        , 1.        , 0.74327869, 1.        , 1.        ]),\n",
              " 'test_recall': array([0.36065574, 0.49180328, 0.60655738, 0.45      , 0.6       ]),\n",
              " 'train_f1': array([0.76729516, 0.75673435, 0.74007707, 0.78961321, 0.79856665]),\n",
              " 'train_precision': array([0.79272947, 0.78911533, 0.76025871, 0.79711127, 0.80984164]),\n",
              " 'train_recall': array([0.7768595 , 0.76859504, 0.74380165, 0.78600823, 0.79423868])}"
            ]
          },
          "metadata": {
            "tags": []
          },
          "execution_count": 32
        }
      ]
    },
    {
      "cell_type": "markdown",
      "metadata": {
        "id": "t5HbHxuIc9Ax",
        "colab_type": "text"
      },
      "source": [
        "## LOOCV Leave One Out cross-validation\n",
        "k равен общему размеру наблюдений в датасете. \n",
        "В тестовую выборку помещается единственный элемент (One Out). Количество фолдов в этом случае определяется автоматически и равняется количеству элементов.\n",
        "Данный метод более ресурсоемкий чем KFold.\n",
        "Существует правило, что вместо Leave One Out лучше использовать KFold на 5 или 10 фолдов."
      ]
    },
    {
      "cell_type": "code",
      "metadata": {
        "id": "_tsr49Enc9Ax",
        "colab_type": "code",
        "colab": {}
      },
      "source": [
        "# Эквивалент KFold(n_splits=n)\n",
        "loo = LeaveOneOut()\n",
        "loo.get_n_splits(X)\n",
        "\n",
        "for train_index, test_index in loo.split(X):\n",
        "   heart_X_train, heart_X_test = X[train_index], X[test_index]\n",
        "   heart_y_train, heart_y_test = y[train_index], y[test_index]"
      ],
      "execution_count": 0,
      "outputs": []
    },
    {
      "cell_type": "markdown",
      "metadata": {
        "id": "psEHzyLRc9A2",
        "colab_type": "text"
      },
      "source": [
        "## Repeated K-Fold\n",
        "k-fold перекрестная валидация повторяется n раз, и датасет перетасовывается на каждой итерации, что приводит к иной выборки данных."
      ]
    },
    {
      "cell_type": "code",
      "metadata": {
        "id": "gHLNKzvRc9A3",
        "colab_type": "code",
        "colab": {}
      },
      "source": [
        "scores2 = cross_val_score(KNeighborsClassifier(n_neighbors=12), \n",
        "                         X, y, \n",
        "                         cv=RepeatedKFold(n_splits=5, n_repeats=2))"
      ],
      "execution_count": 0,
      "outputs": []
    },
    {
      "cell_type": "code",
      "metadata": {
        "id": "CbSiscHTc9A6",
        "colab_type": "code",
        "colab": {
          "base_uri": "https://localhost:8080/",
          "height": 51
        },
        "outputId": "1a3962de-2460-489a-cc76-3a005024bf0d"
      },
      "source": [
        "scores2"
      ],
      "execution_count": 35,
      "outputs": [
        {
          "output_type": "execute_result",
          "data": {
            "text/plain": [
              "array([0.72131148, 0.6557377 , 0.6557377 , 0.6       , 0.61666667,\n",
              "       0.60655738, 0.6557377 , 0.73770492, 0.68333333, 0.56666667])"
            ]
          },
          "metadata": {
            "tags": []
          },
          "execution_count": 35
        }
      ]
    },
    {
      "cell_type": "markdown",
      "metadata": {
        "id": "WIToqiiOBTrQ",
        "colab_type": "text"
      },
      "source": [
        "## Shuffle Split\n",
        "Генерируется N случайных перемешиваний данных, в каждом перемешивании заданная доля помещается в тестовую выборку."
      ]
    },
    {
      "cell_type": "code",
      "metadata": {
        "id": "HgmtH1STBS5m",
        "colab_type": "code",
        "colab": {
          "base_uri": "https://localhost:8080/",
          "height": 102
        },
        "outputId": "6f869aae-c3e8-4a03-df2b-eae08eb5371f"
      },
      "source": [
        "X = range(12)\n",
        "# Эквивалент KFold(n_splits=n)\n",
        "kf = ShuffleSplit(n_splits=5, test_size=0.35)\n",
        "for train, test in kf.split(X):\n",
        "    print(\"%s %s\" % (train, test))"
      ],
      "execution_count": 42,
      "outputs": [
        {
          "output_type": "stream",
          "text": [
            "[ 3  2  9  5  8 10  1] [ 4  6  7  0 11]\n",
            "[11  7  9  6  0 10  2] [1 3 5 8 4]\n",
            "[ 1  8  3  5  9 11  6] [ 7 10  2  4  0]\n",
            "[ 4  8  3 11  0 10  6] [1 2 5 9 7]\n",
            "[ 9  2 10  7  5  4  1] [ 8  6  0  3 11]\n"
          ],
          "name": "stdout"
        }
      ]
    },
    {
      "cell_type": "markdown",
      "metadata": {
        "id": "vPqKIr5Vc9A8",
        "colab_type": "text"
      },
      "source": [
        "## Задание 7. Повторите пункт 4 для найденного оптимального значения гиперпараметра K. Сравните качество полученной модели с качеством модели, полученной в пункте 4."
      ]
    },
    {
      "cell_type": "code",
      "metadata": {
        "id": "8DI0LPMec9A9",
        "colab_type": "code",
        "colab": {}
      },
      "source": [
        "X_train, X_test, y_train, y_test = train_test_split(X, y, test_size=0.35, random_state=1)"
      ],
      "execution_count": 0,
      "outputs": []
    },
    {
      "cell_type": "code",
      "metadata": {
        "id": "c6gEP9kPc9BA",
        "colab_type": "code",
        "colab": {
          "base_uri": "https://localhost:8080/",
          "height": 34
        },
        "outputId": "cb40e313-f3fd-4d1a-f8aa-c04c113b9c92"
      },
      "source": [
        "knn = KNeighborsClassifier(n_neighbors=12)\n",
        "knn.fit(X_train,y_train)\n",
        "knn.score(X_test,y_test)"
      ],
      "execution_count": 37,
      "outputs": [
        {
          "output_type": "execute_result",
          "data": {
            "text/plain": [
              "0.6542056074766355"
            ]
          },
          "metadata": {
            "tags": []
          },
          "execution_count": 37
        }
      ]
    },
    {
      "cell_type": "markdown",
      "metadata": {
        "id": "bQ2o7OAA3qGy",
        "colab_type": "text"
      },
      "source": [
        "# Задание 8. Постройте кривые обучения и валидации."
      ]
    },
    {
      "cell_type": "markdown",
      "metadata": {
        "id": "irZjFiZQc9BD",
        "colab_type": "text"
      },
      "source": [
        "## Построение кривых обучения"
      ]
    },
    {
      "cell_type": "code",
      "metadata": {
        "id": "RsFqG_4Fc9BE",
        "colab_type": "code",
        "colab": {}
      },
      "source": [
        "def plot_learning_curve(estimator, title, X, y, ylim=None, cv=None,\n",
        "                        n_jobs=None, train_sizes=np.linspace(.1, 1.0, 5)):\n",
        "\n",
        "    plt.figure()\n",
        "    plt.title(title)\n",
        "    if ylim is not None:\n",
        "        plt.ylim(*ylim)\n",
        "    plt.xlabel(\"Training examples\")\n",
        "    plt.ylabel(\"Score\")\n",
        "    train_sizes, train_scores, test_scores = learning_curve(\n",
        "        estimator, X, y, cv=cv, n_jobs=n_jobs, train_sizes=train_sizes)\n",
        "    train_scores_mean = np.mean(train_scores, axis=1)\n",
        "    train_scores_std = np.std(train_scores, axis=1)\n",
        "    test_scores_mean = np.mean(test_scores, axis=1)\n",
        "    test_scores_std = np.std(test_scores, axis=1)\n",
        "    plt.grid()\n",
        "\n",
        "    plt.fill_between(train_sizes, train_scores_mean - train_scores_std,\n",
        "                     train_scores_mean + train_scores_std, alpha=0.1,\n",
        "                     color=\"r\")\n",
        "    plt.fill_between(train_sizes, test_scores_mean - test_scores_std,\n",
        "                     test_scores_mean + test_scores_std, alpha=0.1, color=\"g\")\n",
        "    plt.plot(train_sizes, train_scores_mean, 'o-', color=\"r\",\n",
        "             label=\"Training score\")\n",
        "    plt.plot(train_sizes, test_scores_mean, 'o-', color=\"g\",\n",
        "             label=\"Cross-validation score\")\n",
        "\n",
        "    plt.legend(loc=\"best\")\n",
        "    return plt"
      ],
      "execution_count": 0,
      "outputs": []
    },
    {
      "cell_type": "code",
      "metadata": {
        "id": "yvxHjKn4c9BJ",
        "colab_type": "code",
        "colab": {
          "base_uri": "https://localhost:8080/",
          "height": 319
        },
        "outputId": "ec268872-9230-449d-bb3e-96ba3464bd64"
      },
      "source": [
        "plot_learning_curve(KNeighborsClassifier(n_neighbors=12), 'n_neighbors=4', \n",
        "                    X_train, y_train, cv=5)"
      ],
      "execution_count": 39,
      "outputs": [
        {
          "output_type": "execute_result",
          "data": {
            "text/plain": [
              "<module 'matplotlib.pyplot' from '/usr/local/lib/python3.6/dist-packages/matplotlib/pyplot.py'>"
            ]
          },
          "metadata": {
            "tags": []
          },
          "execution_count": 39
        },
        {
          "output_type": "display_data",
          "data": {
            "image/png": "[encoded data removed]",
            "text/plain": [
              "<Figure size 432x288 with 1 Axes>"
            ]
          },
          "metadata": {
            "tags": []
          }
        }
      ]
    },
    {
      "cell_type": "markdown",
      "metadata": {
        "id": "uXXvCUdrc9BL",
        "colab_type": "text"
      },
      "source": [
        "## Построение кривой валидации"
      ]
    },
    {
      "cell_type": "code",
      "metadata": {
        "id": "9cU8a_5Rc9BM",
        "colab_type": "code",
        "colab": {}
      },
      "source": [
        "def plot_validation_curve(estimator, title, X, y, \n",
        "                          param_name, param_range, cv, \n",
        "                          scoring=\"accuracy\"):\n",
        "                                                   \n",
        "    train_scores, test_scores = validation_curve(\n",
        "        estimator, X, y, param_name=param_name, param_range=param_range,\n",
        "        cv=cv, scoring=scoring, n_jobs=1)\n",
        "    train_scores_mean = np.mean(train_scores, axis=1)\n",
        "    train_scores_std = np.std(train_scores, axis=1)\n",
        "    test_scores_mean = np.mean(test_scores, axis=1)\n",
        "    test_scores_std = np.std(test_scores, axis=1)\n",
        "\n",
        "    plt.title(title)\n",
        "    plt.xlabel(param_name)\n",
        "    plt.ylabel(\"Score\")\n",
        "    plt.ylim(0.0, 1.0)\n",
        "    lw = 4\n",
        "    plt.plot(param_range, train_scores_mean, label=\"Training score\",\n",
        "                 color=\"darkred\", lw=lw)\n",
        "    plt.fill_between(param_range, train_scores_mean - train_scores_std,\n",
        "                     train_scores_mean + train_scores_std, alpha=0.2,\n",
        "                     color=\"darkred\", lw=lw)\n",
        "    plt.plot(param_range, test_scores_mean, label=\"Cross-validation score\",\n",
        "                 color=\"green\", lw=lw)\n",
        "    plt.fill_between(param_range, test_scores_mean - test_scores_std,\n",
        "                     test_scores_mean + test_scores_std, alpha=0.2,\n",
        "                     color=\"green\", lw=lw)\n",
        "    plt.legend(loc=\"best\")\n",
        "    return plt"
      ],
      "execution_count": 0,
      "outputs": []
    },
    {
      "cell_type": "code",
      "metadata": {
        "id": "lpc8jAWyc9BP",
        "colab_type": "code",
        "colab": {
          "base_uri": "https://localhost:8080/",
          "height": 319
        },
        "outputId": "d1b9c15b-d0bd-40ef-e06e-353ea8432ae5"
      },
      "source": [
        "n_range = np.array(range(5,55,5))\n",
        "plot_validation_curve(KNeighborsClassifier(n_neighbors=4), 'knn', \n",
        "                      X_train, y_train, \n",
        "                      param_name='n_neighbors', param_range=n_range, \n",
        "                      cv=5, scoring=\"accuracy\")"
      ],
      "execution_count": 41,
      "outputs": [
        {
          "output_type": "execute_result",
          "data": {
            "text/plain": [
              "<module 'matplotlib.pyplot' from '/usr/local/lib/python3.6/dist-packages/matplotlib/pyplot.py'>"
            ]
          },
          "metadata": {
            "tags": []
          },
          "execution_count": 41
        },
        {
          "output_type": "display_data",
          "data": {
            "image/png": "[encoded data removed]",
            "text/plain": [
              "<Figure size 432x288 with 1 Axes>"
            ]
          },
          "metadata": {
            "tags": []
          }
        }
      ]
    },
    {
      "cell_type": "code",
      "metadata": {
        "id": "Uo7HB9B4c9BS",
        "colab_type": "code",
        "colab": {}
      },
      "source": [
        ""
      ],
      "execution_count": 0,
      "outputs": []
    }
  ]
}